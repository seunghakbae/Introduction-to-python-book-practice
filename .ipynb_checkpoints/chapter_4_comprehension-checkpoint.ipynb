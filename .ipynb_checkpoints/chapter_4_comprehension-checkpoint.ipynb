{
 "cells": [
  {
   "cell_type": "markdown",
   "metadata": {},
   "source": [
    "# 컴프리헨션(comprehension)\n",
    "\n",
    "컴프리헨션(comprehension)은 하나 이상의 이터레이터로부터 파이썬의 자료구조를 만드는 콤팩트한 방법이다. \n",
    "\n",
    "##### 컴프리헨션은 비교적 간편한 구문으로 반복문과 조건 테스트를 결합할 수 있도록 해준다. "
   ]
  },
  {
   "cell_type": "markdown",
   "metadata": {},
   "source": [
    "# 리스트 컴프리헨션\n",
    "\n",
    "일반적으로 리스트를 만드는 방식은 아래와 같다. "
   ]
  },
  {
   "cell_type": "code",
   "execution_count": 1,
   "metadata": {},
   "outputs": [
    {
     "name": "stdout",
     "output_type": "stream",
     "text": [
      "[1, 2, 3]\n"
     ]
    }
   ],
   "source": [
    "# list()함수와 append()함수를 사용.\n",
    "number_list = list()\n",
    "number_list.append(1)\n",
    "number_list.append(2)\n",
    "number_list.append(3)\n",
    "\n",
    "print(number_list)"
   ]
  },
  {
   "cell_type": "code",
   "execution_count": 2,
   "metadata": {},
   "outputs": [
    {
     "name": "stdout",
     "output_type": "stream",
     "text": [
      "[1, 2, 3]\n"
     ]
    }
   ],
   "source": [
    "# 이터레이터와 range()함수를 사용하여 만든다. \n",
    "number_list = []\n",
    "\n",
    "for number in range(1,4):\n",
    "    number_list.append(number)\n",
    "    \n",
    "print(number_list)"
   ]
  },
  {
   "cell_type": "code",
   "execution_count": 3,
   "metadata": {},
   "outputs": [
    {
     "name": "stdout",
     "output_type": "stream",
     "text": [
      "[1, 2, 3]\n"
     ]
    }
   ],
   "source": [
    "# 리스트에 직접 range()를 넣어서 결과를 반환할 수 있다. \n",
    "number_list = list(range(1,4))\n",
    "\n",
    "print(number_list)"
   ]
  },
  {
   "cell_type": "markdown",
   "metadata": {},
   "source": [
    "이러한 방식은 유효하며 가능하지만 리스트 컴프리헨션을 사용해서 리스트를 만드는 것이 조금 더 파이써닉한 방식이다. \n",
    "\n",
    "#### [표현식 for 항목 in 순회 가능한 객체]"
   ]
  },
  {
   "cell_type": "code",
   "execution_count": 6,
   "metadata": {},
   "outputs": [
    {
     "name": "stdout",
     "output_type": "stream",
     "text": [
      "[1, 2, 3]\n"
     ]
    }
   ],
   "source": [
    "# 첫번째 number는 실제 list에 들어갈 number이다. 두 번째 number는 for문의 일부이다. 마지막으로 range(1,4) 는 실제 순회가능한 객체이다.\n",
    "number_list = [number for number in range(1,4)]\n",
    "print(number_list)"
   ]
  },
  {
   "cell_type": "markdown",
   "metadata": {},
   "source": [
    "### 조건식과 함께 있는 리스트 컴프리헨션\n",
    "\n",
    "#### [표현식 for 항목 in 순회가능한 조건 if 조건]"
   ]
  },
  {
   "cell_type": "code",
   "execution_count": 7,
   "metadata": {},
   "outputs": [
    {
     "name": "stdout",
     "output_type": "stream",
     "text": [
      "[2, 4, 6, 8, 10]\n"
     ]
    }
   ],
   "source": [
    "even_list = [number for number in range(1,11) if number % 2 == 0]\n",
    "print(even_list)"
   ]
  },
  {
   "cell_type": "markdown",
   "metadata": {},
   "source": [
    "### 중첩 리스트 컴프리헨션\n",
    "\n",
    "리스트 컴프리헨션을 중첩으로 사용하면 아래와 같은 코드를 훨씬 짧게 파이써닉하게 사용할 수 있다. \n",
    "\n",
    "앞쪽에 위치할 for문일 수록 바깥쪽에 위치한 for문이다. "
   ]
  },
  {
   "cell_type": "code",
   "execution_count": 8,
   "metadata": {},
   "outputs": [
    {
     "name": "stdout",
     "output_type": "stream",
     "text": [
      "apple coffee\n",
      "apple tea\n",
      "apple sprite\n",
      "banana coffee\n",
      "banana tea\n",
      "banana sprite\n",
      "peach coffee\n",
      "peach tea\n",
      "peach sprite\n"
     ]
    }
   ],
   "source": [
    "fruits = ['apple', 'banana', 'peach']\n",
    "drinks = ['coffee', 'tea', 'sprite']\n",
    "\n",
    "for fruit in fruits:\n",
    "    for drink in drinks:\n",
    "        print(fruit, drink)"
   ]
  },
  {
   "cell_type": "code",
   "execution_count": 9,
   "metadata": {},
   "outputs": [
    {
     "data": {
      "text/plain": [
       "[('apple', 'coffee'),\n",
       " ('apple', 'tea'),\n",
       " ('apple', 'sprite'),\n",
       " ('banana', 'coffee'),\n",
       " ('banana', 'tea'),\n",
       " ('banana', 'sprite'),\n",
       " ('peach', 'coffee'),\n",
       " ('peach', 'tea'),\n",
       " ('peach', 'sprite')]"
      ]
     },
     "execution_count": 9,
     "metadata": {},
     "output_type": "execute_result"
    }
   ],
   "source": [
    "# 중첩 리스트 컴프리헨션 사용하기.\n",
    "[(fruit, drink) for fruit in fruits for drink in drinks]"
   ]
  },
  {
   "cell_type": "code",
   "execution_count": 10,
   "metadata": {},
   "outputs": [
    {
     "name": "stdout",
     "output_type": "stream",
     "text": [
      "apple coffee cake\n",
      "apple coffee ice_cream\n",
      "apple coffee jelly\n",
      "apple tea cake\n",
      "apple tea ice_cream\n",
      "apple tea jelly\n",
      "apple sprite cake\n",
      "apple sprite ice_cream\n",
      "apple sprite jelly\n",
      "banana coffee cake\n",
      "banana coffee ice_cream\n",
      "banana coffee jelly\n",
      "banana tea cake\n",
      "banana tea ice_cream\n",
      "banana tea jelly\n",
      "banana sprite cake\n",
      "banana sprite ice_cream\n",
      "banana sprite jelly\n",
      "peach coffee cake\n",
      "peach coffee ice_cream\n",
      "peach coffee jelly\n",
      "peach tea cake\n",
      "peach tea ice_cream\n",
      "peach tea jelly\n",
      "peach sprite cake\n",
      "peach sprite ice_cream\n",
      "peach sprite jelly\n"
     ]
    }
   ],
   "source": [
    "# 세개로 해보기.\n",
    "desserts = ['cake', 'ice_cream', 'jelly']\n",
    "\n",
    "for fruit in fruits:\n",
    "    for drink in drinks:\n",
    "        for dessert in desserts:\n",
    "            print(fruit, drink, dessert)"
   ]
  },
  {
   "cell_type": "code",
   "execution_count": 11,
   "metadata": {},
   "outputs": [
    {
     "data": {
      "text/plain": [
       "[('apple', 'coffee', 'cake'),\n",
       " ('apple', 'coffee', 'ice_cream'),\n",
       " ('apple', 'coffee', 'jelly'),\n",
       " ('apple', 'tea', 'cake'),\n",
       " ('apple', 'tea', 'ice_cream'),\n",
       " ('apple', 'tea', 'jelly'),\n",
       " ('apple', 'sprite', 'cake'),\n",
       " ('apple', 'sprite', 'ice_cream'),\n",
       " ('apple', 'sprite', 'jelly'),\n",
       " ('banana', 'coffee', 'cake'),\n",
       " ('banana', 'coffee', 'ice_cream'),\n",
       " ('banana', 'coffee', 'jelly'),\n",
       " ('banana', 'tea', 'cake'),\n",
       " ('banana', 'tea', 'ice_cream'),\n",
       " ('banana', 'tea', 'jelly'),\n",
       " ('banana', 'sprite', 'cake'),\n",
       " ('banana', 'sprite', 'ice_cream'),\n",
       " ('banana', 'sprite', 'jelly'),\n",
       " ('peach', 'coffee', 'cake'),\n",
       " ('peach', 'coffee', 'ice_cream'),\n",
       " ('peach', 'coffee', 'jelly'),\n",
       " ('peach', 'tea', 'cake'),\n",
       " ('peach', 'tea', 'ice_cream'),\n",
       " ('peach', 'tea', 'jelly'),\n",
       " ('peach', 'sprite', 'cake'),\n",
       " ('peach', 'sprite', 'ice_cream'),\n",
       " ('peach', 'sprite', 'jelly')]"
      ]
     },
     "execution_count": 11,
     "metadata": {},
     "output_type": "execute_result"
    }
   ],
   "source": [
    "[(fruit, drink, dessert) for fruit in fruits for drink in drinks for dessert in desserts]"
   ]
  },
  {
   "cell_type": "markdown",
   "metadata": {},
   "source": [
    "# 딕셔너리 컴프리헨션\n",
    "\n",
    "리스트 못지않게 딕셔너리 또한 컴프리헨션이 있다. \n",
    "\n",
    "#### {키_표현식 : 값_표현식 for 표현식 in 순회 가능한 객체}"
   ]
  },
  {
   "cell_type": "code",
   "execution_count": 12,
   "metadata": {},
   "outputs": [
    {
     "name": "stdout",
     "output_type": "stream",
     "text": [
      "{'l': 1, 'e': 2, 't': 2, 'r': 1, 's': 1}\n"
     ]
    }
   ],
   "source": [
    "word = 'letters'\n",
    "\n",
    "letter_count = {letter : word.count(letter) for letter in word}\n",
    "print(letter_count)"
   ]
  },
  {
   "cell_type": "code",
   "execution_count": 13,
   "metadata": {},
   "outputs": [],
   "source": [
    "# 하지만 위와 같은 경우 letters에는 총 5개의 알파벳이 사용되지만 중첩된 t와 e도 한번 더 순회를 해서 총 7번 순회된다. 그러므로, \n",
    "# set()함수를 사용하여 좀 더 압축시켜보자. "
   ]
  },
  {
   "cell_type": "code",
   "execution_count": 14,
   "metadata": {},
   "outputs": [
    {
     "name": "stdout",
     "output_type": "stream",
     "text": [
      "{'l': 1, 't': 2, 's': 1, 'r': 1, 'e': 2}\n"
     ]
    }
   ],
   "source": [
    "# 위 딕셔너리와 다르게 정렬이 된다. 왜냐하면, set()함수에서 변수를 가져오기 때문이다. \n",
    "letter_count = {letter : word.count(letter) for letter in set(word)}\n",
    "print(letter_count)"
   ]
  },
  {
   "cell_type": "markdown",
   "metadata": {},
   "source": [
    "# 셋 컴프리헨션\n",
    "set또한 컴프리헨션을 가지고 있다. \n",
    "\n",
    "#### {표현식 for 표현식 in 순회가능한 객체}"
   ]
  },
  {
   "cell_type": "code",
   "execution_count": 15,
   "metadata": {},
   "outputs": [
    {
     "name": "stdout",
     "output_type": "stream",
     "text": [
      "{1, 4}\n"
     ]
    }
   ],
   "source": [
    "a_set = {number for number in range(1,6) if number % 3 == 1}\n",
    "print(a_set)"
   ]
  },
  {
   "cell_type": "markdown",
   "metadata": {},
   "source": [
    "# 제너레이터 컴프리헨션\n",
    "\n",
    "튜플은 아쉽게도 컴프리헨션이 없다. 아마 리스트 컴프리헨션을 생성할 때 대괄호[] 대신 소괄호()를 사용하면 튜플이 생성될꺼라고 착각하기 쉽다. \n",
    "\n",
    "하지만, 괄호 안의 내용은 튜플이 아니라\n",
    "#### 제너레이터 컴프리헨션이다!\n",
    "\n",
    "그리고 이것은 제너레이터 객체를 반환한다. "
   ]
  },
  {
   "cell_type": "code",
   "execution_count": 17,
   "metadata": {},
   "outputs": [
    {
     "name": "stdout",
     "output_type": "stream",
     "text": [
      "<generator object <genexpr> at 0x000002A28F2F8570>\n",
      "<class 'generator'>\n"
     ]
    }
   ],
   "source": [
    "number_thing = (number for number in range(1,6))\n",
    "print(number_thing)\n",
    "print(type(number_thing))"
   ]
  },
  {
   "cell_type": "markdown",
   "metadata": {},
   "source": [
    "제너레이터는 이터레이터에 데이터를 제공하는 하나의 방법이다. \n",
    "\n",
    "그래서 다음과 같이 제너레이터 객체를 바로 순회할 수 있다. "
   ]
  },
  {
   "cell_type": "code",
   "execution_count": 19,
   "metadata": {},
   "outputs": [
    {
     "name": "stdout",
     "output_type": "stream",
     "text": [
      "1\n",
      "2\n",
      "3\n",
      "4\n",
      "5\n"
     ]
    }
   ],
   "source": [
    "for number in number_thing:\n",
    "    print(number)"
   ]
  },
  {
   "cell_type": "markdown",
   "metadata": {},
   "source": [
    "혹은 리스트 컴프리헨션처럼 만들기 위해 제너레이터 컴프리헨션에 list() 호출을 랩핑(wrapping)할 수 있다. "
   ]
  },
  {
   "cell_type": "code",
   "execution_count": 21,
   "metadata": {},
   "outputs": [
    {
     "name": "stdout",
     "output_type": "stream",
     "text": [
      "[]\n"
     ]
    }
   ],
   "source": [
    "number_thing = list(number_thing)\n",
    "print(number_thing)"
   ]
  },
  {
   "cell_type": "markdown",
   "metadata": {},
   "source": [
    "### 중요한 점! number_thing을 리스트로 wrapping하고 출력한 결과 왜 빈 리스트가 왜 나왔을까?\n",
    "\n",
    "#### 리스트, 셋, 문자열, 딕셔너리는 메모리에 존재하지만 제너레이터는 즉석에서 그 값을 생성하고, 이터레이터를 통해서 한 번에 값을 하나씩 처리한다. 제너레이터는 이 값을 기억하지 않으므로 다시 시작하거나 제너레이터를 백업할 수 없다!"
   ]
  },
  {
   "cell_type": "code",
   "execution_count": null,
   "metadata": {},
   "outputs": [],
   "source": []
  }
 ],
 "metadata": {
  "kernelspec": {
   "display_name": "Python 3",
   "language": "python",
   "name": "python3"
  },
  "language_info": {
   "codemirror_mode": {
    "name": "ipython",
    "version": 3
   },
   "file_extension": ".py",
   "mimetype": "text/x-python",
   "name": "python",
   "nbconvert_exporter": "python",
   "pygments_lexer": "ipython3",
   "version": "3.7.3"
  }
 },
 "nbformat": 4,
 "nbformat_minor": 2
}
