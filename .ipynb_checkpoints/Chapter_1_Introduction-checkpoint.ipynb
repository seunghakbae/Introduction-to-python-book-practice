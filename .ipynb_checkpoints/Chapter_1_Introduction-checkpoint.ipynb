{
 "cells": [
  {
   "cell_type": "markdown",
   "metadata": {},
   "source": [
    "# 파이썬 활용\n",
    "\n",
    "### 파이썬은 다음과 같은 컴퓨팅 환경에서 사용할 수 있다.\n",
    " - 터미널 창의 커맨드 라인\n",
    " - 웹을 포함한 GUI\n",
    " - 서버/클라이언트 웹\n",
    " - 클라우드\n",
    " - 모바일 디바이스\n",
    " - 임베디드 디바이스. \n",
    " \n",
    "\n",
    "### 파이썬의 특징.\n",
    "- 정적언어(static language) : C나 C++, JAVA와 같이 컴퓨터에 대한 저수준의 세부사항을 몇 가지 정할 필요가 있을 때 사용하는 언어. \n",
    "정적언어에서는 각 변수의 타입(TYPE)을 선언한다. 그리고 변수 타입은 메모리에서 사용할 공간과 용도를 컴퓨터에 알려준다. 컴퓨터는 이 정보를 이용해서 코드를 매우 낮은 저수준의 기계언어로 컴파일 한다. \n",
    "\n",
    "이렇게, 변수들이 자신의 타입을 바꿀 수 없는 언어들을 정적언어라고 한다. 즉, 한 번 정수는 영원한 정수이다. \n",
    "\n",
    "- 동적 언어(dynamic programming language) : 스크립트 언어라고도 부른다. 변수 타입을 선언하도록 강요하지 않고 x = 5와 같이 입력하면 동적언어는 변수 x가 선언되고 그 값이 정수 5인것을 알고 있다. 코드를 컴파일러 대신 인터프리터로 해석한다. \n",
    "\n",
    "오랫동안 동적 언어는 정적 언어로 짠 프로그램의 데이터 공급을 위해 코드가 짧은 프로그램(스크립트)으로 사용되었다. 이러한 프로그램을 글루코드라고 부른다. 동적 언어는 이러한 업무 처리에 적합하지만, 오늘날에는 아주 큰 업무 처리도 잘 수행한다. \n",
    "\n",
    "### 파이썬을 쓰면 안 될때\n",
    "파이썬은 대부분의 애플리케이션에서 충분히 빠르지만 그렇지 않은 경우도 있다. 예를 들어 계산 작업을 많이 하는 경우 (CPU Bounds)가 이에 해당한다. 또한, 일반적으로 C, C++ 또는 자바로 작성한 프로그램이 더 빠르게 작동하는 경우가 많다. \n",
    "\n",
    "- 파이썬의 표준 인터프리터는 c로 작성되었고 C코드로 확장할 수 있다. "
   ]
  },
  {
   "cell_type": "markdown",
   "metadata": {},
   "source": [
    "# 파이썬의 철학"
   ]
  },
  {
   "cell_type": "code",
   "execution_count": 1,
   "metadata": {},
   "outputs": [
    {
     "name": "stdout",
     "output_type": "stream",
     "text": [
      "The Zen of Python, by Tim Peters\n",
      "\n",
      "Beautiful is better than ugly.\n",
      "Explicit is better than implicit.\n",
      "Simple is better than complex.\n",
      "Complex is better than complicated.\n",
      "Flat is better than nested.\n",
      "Sparse is better than dense.\n",
      "Readability counts.\n",
      "Special cases aren't special enough to break the rules.\n",
      "Although practicality beats purity.\n",
      "Errors should never pass silently.\n",
      "Unless explicitly silenced.\n",
      "In the face of ambiguity, refuse the temptation to guess.\n",
      "There should be one-- and preferably only one --obvious way to do it.\n",
      "Although that way may not be obvious at first unless you're Dutch.\n",
      "Now is better than never.\n",
      "Although never is often better than *right* now.\n",
      "If the implementation is hard to explain, it's a bad idea.\n",
      "If the implementation is easy to explain, it may be a good idea.\n",
      "Namespaces are one honking great idea -- let's do more of those!\n"
     ]
    }
   ],
   "source": [
    "import this"
   ]
  },
  {
   "cell_type": "code",
   "execution_count": null,
   "metadata": {},
   "outputs": [],
   "source": []
  }
 ],
 "metadata": {
  "kernelspec": {
   "display_name": "Python 3",
   "language": "python",
   "name": "python3"
  },
  "language_info": {
   "codemirror_mode": {
    "name": "ipython",
    "version": 3
   },
   "file_extension": ".py",
   "mimetype": "text/x-python",
   "name": "python",
   "nbconvert_exporter": "python",
   "pygments_lexer": "ipython3",
   "version": "3.7.3"
  }
 },
 "nbformat": 4,
 "nbformat_minor": 2
}
