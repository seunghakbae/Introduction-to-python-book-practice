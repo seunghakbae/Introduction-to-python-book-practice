{
 "cells": [
  {
   "cell_type": "markdown",
   "metadata": {},
   "source": [
    "# 변수, 이름, 객체\n",
    "\n",
    "파이썬에서는 모든 것(부울, 정수, 실수, 문자열, 데이터 구조, 함수, 프로그램)이 객체(object)로 구현되어 있다. \n",
    "객체는 데이터가 담긴 투명한 플라스틱 박스와 같다. 객체의 타입이 int라면 여기에 또 다른 int를 더할 수 있다. 타입은 박스에 포함된 데이터값을 변경할 수 있는 변수(가변, mutable)인지 혹은 변경 할 수 없는 상수(불변, immutable)인지 판단할 수 있다. \n",
    "\n",
    "가변 객체는 열려 있는 상자와 같다. 값을 볼 수 있을 뿐만 아니라 바꿀 수 도 있다. 하지만, 타입은 변경 할 수 없다. \n",
    "하지만, 불변 객체는 값을 바꿀수도 없고 타입은 당연히 변경할 수 없다. \n",
    "\n",
    "- 파이썬은 객체의 타입을 바꿀 수 없는 강타입(Strong typing)이다. 심지어 그 값이 가변인 경우에도 타입을 바꿀 수 없다. \n",
    "\n",
    "### 변수 선언\n",
    "프로그래밍 언어에서는 변수를 선언하여 사용할 수 있다. 변수는 컴퓨터 메모리에 있는 값을 참조하기 위한 이름이다. 즉, 변수는 단지 이름일 뿐이다. 할당한다는 의미는 값을 복사하는 것이 아니라, 데이터가 담긴 객체에 그냥 이름을 붙이는 것이다. 그 이름은 객체 자신에 포함되는 것이라기 보다는 객체의 참조다. "
   ]
  },
  {
   "cell_type": "code",
   "execution_count": 47,
   "metadata": {
    "scrolled": true
   },
   "outputs": [
    {
     "name": "stdout",
     "output_type": "stream",
     "text": [
      "7\n"
     ]
    }
   ],
   "source": [
    "# 정수 7이 담긴 객체 박스에 a라는 이름을 할당한다. \n",
    "a = 7\n",
    "print(a)"
   ]
  },
  {
   "cell_type": "code",
   "execution_count": 48,
   "metadata": {},
   "outputs": [
    {
     "name": "stdout",
     "output_type": "stream",
     "text": [
      "7\n"
     ]
    }
   ],
   "source": [
    "# 그리고 변수 이름 b도 7이 담긴 객체 상자에 붙는다. \n",
    "b = a\n",
    "print(b)"
   ]
  },
  {
   "cell_type": "code",
   "execution_count": 49,
   "metadata": {},
   "outputs": [
    {
     "name": "stdout",
     "output_type": "stream",
     "text": [
      "True\n",
      "True\n",
      "140703723852800 140703723852800\n",
      "True\n"
     ]
    }
   ],
   "source": [
    "# a와 b는 서로 같은 변수인가?\n",
    "print((a is b))\n",
    "print((a == b))\n",
    "print(id(a), id(b))\n",
    "print(id(a) == id(b))"
   ]
  },
  {
   "cell_type": "code",
   "execution_count": 50,
   "metadata": {},
   "outputs": [
    {
     "name": "stdout",
     "output_type": "stream",
     "text": [
      "10 7\n",
      "False\n",
      "False\n",
      "140703723852896 140703723852800\n",
      "False\n"
     ]
    }
   ],
   "source": [
    "# 만약 a에 3을 더하면 b는 어떻게 될까?\n",
    "# a에 3을 더하는 순간 둘은 같은 변수가 아니게 된다. \n",
    "a = a + 3\n",
    "print(a, b)\n",
    "print((a is b))\n",
    "print((a == b))\n",
    "print(id(a), id(b))\n",
    "print(id(a) == id(b))"
   ]
  },
  {
   "cell_type": "code",
   "execution_count": 54,
   "metadata": {},
   "outputs": [
    {
     "name": "stdout",
     "output_type": "stream",
     "text": [
      "True\n",
      "140703723852992 140703723852992\n"
     ]
    }
   ],
   "source": [
    "# 또한 재밌는 점이, 파이썬에서는 파이썬은 정수를 객체로 저장하고, 처음에 작은 정수 값들을 (-5 ~ 256) 생성한 후, 다음에 작은\n",
    "# 작은 정수값을 가진 변수가 만들어 지면 다 같은 객체를 가지게 한다. \n",
    "i = 13\n",
    "j = 13\n",
    "print((i is j))\n",
    "print(id(i), id(j))"
   ]
  },
  {
   "cell_type": "code",
   "execution_count": 55,
   "metadata": {},
   "outputs": [
    {
     "name": "stdout",
     "output_type": "stream",
     "text": [
      "False\n",
      "2085123018480 2085123016176\n",
      "True\n",
      "2085123016176 2085123016176\n"
     ]
    }
   ],
   "source": [
    "# 반면 큰 숫자의 경우, 처음부터 다른 객체를 할당시킨다. \n",
    "i = 280\n",
    "j = 280\n",
    "print((i is j))\n",
    "print(id(i), id(j))\n",
    "i = j\n",
    "print((i is j))\n",
    "print(id(i), id(j))"
   ]
  },
  {
   "cell_type": "markdown",
   "metadata": {},
   "source": [
    "### 파이썬에서 변수 혹은 리터럴 값의 타입을 알고 싶다면, type을 사용하면 된다. "
   ]
  },
  {
   "cell_type": "code",
   "execution_count": 58,
   "metadata": {},
   "outputs": [
    {
     "name": "stdout",
     "output_type": "stream",
     "text": [
      "<class 'int'>\n",
      "<class 'int'>\n",
      "<class 'float'>\n",
      "<class 'str'>\n"
     ]
    }
   ],
   "source": [
    "print(type(i))\n",
    "print(type(58))\n",
    "print(type(99.9))\n",
    "print(type('abc'))"
   ]
  },
  {
   "cell_type": "markdown",
   "metadata": {},
   "source": [
    "### 클래스(class)는 객체의 정의를 의미한다. 파이썬에서는 class와 type이 거의 동일하다. \n",
    "### 변수이름에는 다음 문자만 사용가능하다. \n",
    " - 소문자\n",
    " - 대문자\n",
    " - 숫자\n",
    " - 언더스코어\n",
    " \n",
    " 또한, 파이썬의 예약어도 변수로 선언하면 안 된다. \n"
   ]
  },
  {
   "cell_type": "markdown",
   "metadata": {},
   "source": [
    "# 숫자\n"
   ]
  }
 ],
 "metadata": {
  "kernelspec": {
   "display_name": "Python 3",
   "language": "python",
   "name": "python3"
  },
  "language_info": {
   "codemirror_mode": {
    "name": "ipython",
    "version": 3
   },
   "file_extension": ".py",
   "mimetype": "text/x-python",
   "name": "python",
   "nbconvert_exporter": "python",
   "pygments_lexer": "ipython3",
   "version": "3.7.3"
  }
 },
 "nbformat": 4,
 "nbformat_minor": 2
}
