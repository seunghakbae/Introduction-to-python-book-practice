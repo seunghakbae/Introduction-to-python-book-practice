{
 "cells": [
  {
   "cell_type": "markdown",
   "metadata": {},
   "source": [
    "# Data handling\n",
    "\n",
    "데이터에 대한 기술을 살펴본다. 내용의 대부분은 다음 데이터 타입이다. \n",
    "\n",
    "- 문자열 : 텍스트 데이터에 사용되는 유니코드(Unicode)문자의 시퀀스\n",
    "\n",
    "- 바이트와 바이트 배열 : 이진 데이터에 사용되는 8비트 정수의 시퀀스"
   ]
  },
  {
   "cell_type": "markdown",
   "metadata": {},
   "source": [
    "# 텍스트 문자열\n",
    "파이썬 텍스트 문자열의 강력한 특징을 살펴보자."
   ]
  },
  {
   "cell_type": "markdown",
   "metadata": {},
   "source": [
    "### 유니코드\n",
    "\n",
    "아스키코드는 1960년대에 정의되었다. 컴퓨터의 기본 저장 단위는 바이트(byte)이다. 바이트는 8비트에 256개의 고유한 값을 저장할 수 있다. 여러 가지 이유로 아시크코드는 7비트(128개의 고유한 값)만 사용한다. 각 26개의 대/소문자, 10개의 숫자, 구두 문자, 공백 문자, 비인쇄 제어 코드(nonprinting control code)로 구성되어 있다. \n",
    "\n",
    "하지만, 세상에는 아스키코드에서 제공하는 문자보다 더 많은 문자가 있다. 그래서, 파이썬은 많은 문자와 기호를 지원하기 위해 많은 노력을 했다. \n",
    "ex) Latin-1, ISO 8859-1, Windows code page 1252\n",
    "\n",
    "이들 각 문자는 모두 8비트를 사용한다. 하지만 비유럽 국가의 언어는 8비트로 모든 문자를 표현 할 수 없다. 유니코드(Unicode)는 전 세계 언어의 문자를 정의하기 위한 국제 표준 코드다. 유니 코드는 수학 및 기타 분야의 기호들도 포함하고 이싿. \n",
    "\n",
    "##### 유니코드는 플랫폼, 프로그램, 언어에 상관없이 문자마다 고유한 코드값을 제공한다. \n",
    "\n",
    "유니코드 코드 차트 페이지는 현재 정의된 모든 문자 집합과 이미지에 대한 링크를 제공한다. 버전 7.0같은 겨우 113,021개의 문자를 정의한다. 각각의 문자는 고유한 이름과 식별 번호가 있다. 문자들은 유니코드 평면 이라고 하는 8비트의 세트로 분할된다. "
   ]
  },
  {
   "cell_type": "markdown",
   "metadata": {},
   "source": [
    "![title]("
   ]
  }
 ],
 "metadata": {
  "kernelspec": {
   "display_name": "Python 3",
   "language": "python",
   "name": "python3"
  },
  "language_info": {
   "codemirror_mode": {
    "name": "ipython",
    "version": 3
   },
   "file_extension": ".py",
   "mimetype": "text/x-python",
   "name": "python",
   "nbconvert_exporter": "python",
   "pygments_lexer": "ipython3",
   "version": "3.7.3"
  }
 },
 "nbformat": 4,
 "nbformat_minor": 2
}
