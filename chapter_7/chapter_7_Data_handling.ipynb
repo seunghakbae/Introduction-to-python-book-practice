{
 "cells": [
  {
   "cell_type": "markdown",
   "metadata": {},
   "source": [
    "# Data handling\n",
    "\n",
    "데이터에 대한 기술을 살펴본다. 내용의 대부분은 다음 데이터 타입이다. \n",
    "\n",
    "- 문자열 : 텍스트 데이터에 사용되는 유니코드(Unicode)문자의 시퀀스\n",
    "\n",
    "- 바이트와 바이트 배열 : 이진 데이터에 사용되는 8비트 정수의 시퀀스"
   ]
  },
  {
   "cell_type": "markdown",
   "metadata": {},
   "source": [
    "# 텍스트 문자열\n",
    "파이썬 텍스트 문자열의 강력한 특징을 살펴보자."
   ]
  },
  {
   "cell_type": "markdown",
   "metadata": {},
   "source": [
    "### 유니코드\n",
    "\n",
    "아스키코드는 1960년대에 정의되었다. 컴퓨터의 기본 저장 단위는 바이트(byte)이다. 바이트는 8비트에 256개의 고유한 값을 저장할 수 있다. 여러 가지 이유로 아시크코드는 7비트(128개의 고유한 값)만 사용한다. 각 26개의 대/소문자, 10개의 숫자, 구두 문자, 공백 문자, 비인쇄 제어 코드(nonprinting control code)로 구성되어 있다. \n",
    "\n",
    "하지만, 세상에는 아스키코드에서 제공하는 문자보다 더 많은 문자가 있다. 그래서, 파이썬은 많은 문자와 기호를 지원하기 위해 많은 노력을 했다. \n",
    "ex) Latin-1, ISO 8859-1, Windows code page 1252\n",
    "\n",
    "이들 각 문자는 모두 8비트를 사용한다. 하지만 비유럽 국가의 언어는 8비트로 모든 문자를 표현 할 수 없다. 유니코드(Unicode)는 전 세계 언어의 문자를 정의하기 위한 국제 표준 코드다. 유니 코드는 수학 및 기타 분야의 기호들도 포함하고 이싿. \n",
    "\n",
    "##### 유니코드는 플랫폼, 프로그램, 언어에 상관없이 문자마다 고유한 코드값을 제공한다. \n",
    "\n",
    "유니코드 코드 차트 페이지는 현재 정의된 모든 문자 집합과 이미지에 대한 링크를 제공한다. 버전 7.0같은 겨우 113,021개의 문자를 정의한다. 각각의 문자는 고유한 이름과 식별 번호가 있다. 문자들은 유니코드 평면 이라고 하는 8비트의 세트로 분할된다. "
   ]
  },
  {
   "cell_type": "markdown",
   "metadata": {},
   "source": [
    "![title](unicode_hangul.png)"
   ]
  },
  {
   "cell_type": "markdown",
   "metadata": {},
   "source": [
    "### 유니코드 읽는 법.\n",
    "\n",
    "유니코드는 글자의 코드를 표기할때 U+(16진수 숫자) 라고 표기한다. 예를들어 ㄱ은 유니코드로 U+1100, ㅎ 은 유니코드로 U+1112 가 된다. 이 유니코드를 표현하는 방식(인코딩) 으로 UCS-2, UTF-16, UTF-8, UTF-32 등이 있다."
   ]
  },
  {
   "cell_type": "markdown",
   "metadata": {},
   "source": [
    "### UCS-2\n",
    "유니코드에 매핑된 문자들의 갯수는 초창기에 2바이트를 넘지 않았습니다. 따라서 고정된 2바이트를 사용하면 모든 유니코드를 표현할 수 있기 때문에 고정 2바이트 인코딩인 UCS-2가 탄생하게 되었습니다. 하지만 유니코드에 매핑된 문자들의 갯수는 점점 늘어났고, 고정 2바이트로는 모든 유니코드를 표현 할 수 없는 상태가 됩니다. 그래서 고정 4바이트를 사용하는 UCS-4를 사용하자는 의견이 있었지만, 채택 되지는 않았습니다.\n",
    "\n",
    "\n",
    "\n",
    "### UTF-16\n",
    "\n",
    "UCS-2로 모든 문자를 표시할 수 없는 한계를 극복하기 위해 2바이트 고정 크기가 아닌, 가변크기의 UTF-16이 탄생하게 됩니다. UTF-16은 UCS-2에 표현되어 있는 글자는 2바이트로 표기하고, 2바이트를 넘어서는 문자는 4바이트로 표기하는 인코딩 방식입니다. 따라서 UTF-16은 UCS-2의 대안으로 제시 되었던 UCS-4보다는 공간을 효율적으로 사용하면서 UCS-2와 호환이 되었습니다. 하지만 UTF-16에도 단점이 있었습니다. 바로 기존의 인코딩인 ASCII와 호환이 되지 않았던 것입니다. 또한 엔디안 호환성 문제도 있었기 때문에 사람들은 다른 대안을 찾게 됩니다.\n",
    "\n",
    "\n",
    "\n",
    "### UTF-32\n",
    "\n",
    "유니코드를 무조건 4바이트를 사용하여 표기하는 인코딩입니다. UTF-32는 가변 길이 인코딩에 비해 공간을 너무 많이 차지하기 때문에 잘 쓰이지 않습니다. 하지만 가변 길이를 고려할 필요가 없어서 처리가 간단하기 때문에 종종 쓰이기도 합니다.\n",
    "\n",
    " \n",
    "\n",
    "### UTF-8\n",
    "UTF-8은 가변 인코딩으로 1바이트 에서 6바이트를 사용합니다. UTF-16이 ASCII와 호환되지 않았던 점을 보안하여 UTF-8은 처음 부분에 ASCII코드 값과 똑같은 코드 값을 넣어 아스키 문서를 UTF-8으로 그대로 읽을 수 있습니다. 또한 엔디안 문제를 해결하여 호환성도 뛰어났습니다. 따라서 UTF-8 이 현재 가장 널리 쓰이는 유니코드 인코딩이 되었습니다.\n"
   ]
  },
  {
   "cell_type": "markdown",
   "metadata": {},
   "source": [
    "### 파이썬 3 유니코드 문자열\n",
    "\n",
    "파이썬 3 문자열은 바이트 배열이 아닌 유니코드 문자열이다. 파이썬 3은 일반적인 바이트 문자열과 유니코드 문자를 구별한다. \n",
    "\n",
    "유니코드 식별자(ID) 혹은 문자에 대한 이름(NAME)을 안다면, 이 문자를 파이썬 문자열에 사용할 수 있다. \n",
    "\n",
    "#### 4자리\n",
    "16진수와 그 앞에 \\u는 유니코드의 기본 평면 256개 중 하나의 문자를 지정한다. \n",
    "첫 번째 두 숫자는 평면 번호다(00에서 FF까지)다음의 두 숫자는 평면에 있는 문자의 인덱스다. 평면 00은 아스키코드고, 평면 안의 문자 위치는 아스키코드의 번호와 같다. \n",
    "\n",
    "높은 평면의 문자일수록 비트수가 더 필요하다. 이에 대한 파이썬의 이스케이프 시퀀스는 \\U이고, 8자리의 16진수를 사용한다. 숫자에 남은 공간이 있다면 왼쪽에 0을 채운다. \n",
    "\n",
    "모든 문자는 표준 이름 \\N{name}으로 지정할 수 있다. 유니코드 문자 이름 인덱스 페이지에서 표준 이름 리스트를 참조할 수 있다. \n",
    "\n",
    "- lookup() : 대/소문자를 구분하지 않는 인자를 취하고, 유니코드 문자를 반환한다. \n",
    "\n",
    "- name() : 인자로 유니코드 문자를 취하고, 대문자 이름을 반환한다. "
   ]
  },
  {
   "cell_type": "markdown",
   "metadata": {},
   "source": [
    "### 유니코드 문자를 취하는 테스트 함수. "
   ]
  },
  {
   "cell_type": "code",
   "execution_count": 1,
   "metadata": {},
   "outputs": [],
   "source": [
    "def unicode_test(value):\n",
    "    import unicodedata\n",
    "    name = unicodedata.name(value)\n",
    "    value2 = unicodedata.lookup(name)\n",
    "    print('value=\"%s\", name = \"%s\", value2=\"%s\"' % (value, name, value2))"
   ]
  },
  {
   "cell_type": "code",
   "execution_count": 2,
   "metadata": {},
   "outputs": [
    {
     "name": "stdout",
     "output_type": "stream",
     "text": [
      "value=\"A\", name = \"LATIN CAPITAL LETTER A\", value2=\"A\"\n"
     ]
    }
   ],
   "source": [
    "# 아스키 문자를 넣어보자. \n",
    "unicode_test('A')"
   ]
  },
  {
   "cell_type": "code",
   "execution_count": 3,
   "metadata": {},
   "outputs": [
    {
     "name": "stdout",
     "output_type": "stream",
     "text": [
      "value=\"$\", name = \"DOLLAR SIGN\", value2=\"$\"\n"
     ]
    }
   ],
   "source": [
    "# 아스키 문자 부호를 넣어보자. \n",
    "unicode_test('$')"
   ]
  },
  {
   "cell_type": "code",
   "execution_count": 4,
   "metadata": {},
   "outputs": [
    {
     "name": "stdout",
     "output_type": "stream",
     "text": [
      "value=\"¢\", name = \"CENT SIGN\", value2=\"¢\"\n"
     ]
    }
   ],
   "source": [
    "# 유니코드 통화문자를 넣어보자. \n",
    "unicode_test('\\u00a2')"
   ]
  },
  {
   "cell_type": "code",
   "execution_count": 5,
   "metadata": {},
   "outputs": [
    {
     "name": "stdout",
     "output_type": "stream",
     "text": [
      "value=\"€\", name = \"EURO SIGN\", value2=\"€\"\n"
     ]
    }
   ],
   "source": [
    "# 다른 유니코드 통화 문자를 넣어보자. \n",
    "unicode_test('\\u20ac')"
   ]
  },
  {
   "cell_type": "code",
   "execution_count": 11,
   "metadata": {},
   "outputs": [
    {
     "name": "stdout",
     "output_type": "stream",
     "text": [
      "value=\"ᄀ\", name = \"HANGUL CHOSEONG KIYEOK\", value2=\"ᄀ\"\n",
      "value=\"가\", name = \"HANGUL SYLLABLE GA\", value2=\"가\"\n",
      "value=\"꼀\", name = \"HANGUL SYLLABLE GGYEOLS\", value2=\"꼀\"\n"
     ]
    }
   ],
   "source": [
    "# 한글을 넣어보자. \n",
    "unicode_test('\\u1100')\n",
    "unicode_test('\\uAC00')\n",
    "unicode_test(\"\\uAF00\")"
   ]
  },
  {
   "cell_type": "markdown",
   "metadata": {},
   "source": [
    "한 가지 문제가 있다면, 텍스트를 표시하는 데 사용하는 글꼴에 한계가 있다. 모든 글꼴은 모든 유니코드에 대한 이미지를 가지고 있지 않으면, 이것을 일부 플레이스홀더 문자로 표시할 것이다. "
   ]
  },
  {
   "cell_type": "code",
   "execution_count": 12,
   "metadata": {},
   "outputs": [
    {
     "name": "stdout",
     "output_type": "stream",
     "text": [
      "value=\"☃\", name = \"SNOWMAN\", value2=\"☃\"\n"
     ]
    }
   ],
   "source": [
    "unicode_test('\\u2603')"
   ]
  },
  {
   "cell_type": "markdown",
   "metadata": {},
   "source": [
    "문자열에 단어 cafe를 저장한다고 하자. 마지막 e문자는 어떻게 지정할 수 있을까? E에 대한 문자 인덱스를 찾고 name()과 lookup()함수로 확인해보자. "
   ]
  },
  {
   "cell_type": "code",
   "execution_count": 16,
   "metadata": {},
   "outputs": [],
   "source": [
    "import unicodedata"
   ]
  },
  {
   "cell_type": "code",
   "execution_count": 17,
   "metadata": {},
   "outputs": [
    {
     "data": {
      "text/plain": [
       "'LATIN SMALL LETTER E WITH ACUTE'"
      ]
     },
     "execution_count": 17,
     "metadata": {},
     "output_type": "execute_result"
    }
   ],
   "source": [
    "unicodedata.name('\\u00e9')"
   ]
  },
  {
   "cell_type": "code",
   "execution_count": 18,
   "metadata": {},
   "outputs": [
    {
     "ename": "KeyError",
     "evalue": "\"undefined character name 'é'\"",
     "output_type": "error",
     "traceback": [
      "\u001b[1;31m---------------------------------------------------------------------------\u001b[0m",
      "\u001b[1;31mKeyError\u001b[0m                                  Traceback (most recent call last)",
      "\u001b[1;32m<ipython-input-18-b11ab60e4dad>\u001b[0m in \u001b[0;36m<module>\u001b[1;34m\u001b[0m\n\u001b[1;32m----> 1\u001b[1;33m \u001b[0municodedata\u001b[0m\u001b[1;33m.\u001b[0m\u001b[0mlookup\u001b[0m\u001b[1;33m(\u001b[0m\u001b[1;34m'\\u00e9'\u001b[0m\u001b[1;33m)\u001b[0m\u001b[1;33m\u001b[0m\u001b[1;33m\u001b[0m\u001b[0m\n\u001b[0m",
      "\u001b[1;31mKeyError\u001b[0m: \"undefined character name 'é'\""
     ]
    }
   ],
   "source": [
    "unicodedata.lookup('\\u00e9')"
   ]
  },
  {
   "cell_type": "code",
   "execution_count": 21,
   "metadata": {},
   "outputs": [
    {
     "ename": "TypeError",
     "evalue": "name() argument 1 must be a unicode character, not str",
     "output_type": "error",
     "traceback": [
      "\u001b[1;31m---------------------------------------------------------------------------\u001b[0m",
      "\u001b[1;31mTypeError\u001b[0m                                 Traceback (most recent call last)",
      "\u001b[1;32m<ipython-input-21-03f06fae7134>\u001b[0m in \u001b[0;36m<module>\u001b[1;34m\u001b[0m\n\u001b[1;32m----> 1\u001b[1;33m \u001b[0municodedata\u001b[0m\u001b[1;33m.\u001b[0m\u001b[0mname\u001b[0m\u001b[1;33m(\u001b[0m\u001b[1;34m'LATIN SMALL LETTER E WITH ACUTE'\u001b[0m\u001b[1;33m)\u001b[0m\u001b[1;33m\u001b[0m\u001b[1;33m\u001b[0m\u001b[0m\n\u001b[0m",
      "\u001b[1;31mTypeError\u001b[0m: name() argument 1 must be a unicode character, not str"
     ]
    }
   ],
   "source": [
    "unicodedata.name('LATIN SMALL LETTER E WITH ACUTE')"
   ]
  },
  {
   "cell_type": "code",
   "execution_count": 23,
   "metadata": {},
   "outputs": [
    {
     "data": {
      "text/plain": [
       "'café'"
      ]
     },
     "execution_count": 23,
     "metadata": {},
     "output_type": "execute_result"
    }
   ],
   "source": [
    "place = 'caf\\u00e9'\n",
    "place"
   ]
  },
  {
   "cell_type": "code",
   "execution_count": 24,
   "metadata": {},
   "outputs": [
    {
     "data": {
      "text/plain": [
       "'é'"
      ]
     },
     "execution_count": 24,
     "metadata": {},
     "output_type": "execute_result"
    }
   ],
   "source": [
    "u_umlaut = '\\N{LATIN SMALL LETTER E WITH ACUTE}'\n",
    "u_umlaut"
   ]
  },
  {
   "cell_type": "markdown",
   "metadata": {},
   "source": [
    "### UTF-8 인코딩과 디코딩\n",
    "\n",
    "파이썬에서 일반 문자열을 처리할 때는 각 유니코드 문자를 저장하는 방법에 대해 걱정하지 않아도 된다. 그러나 외부 데이터를 교환할 때는 다음 과정이 필요하다. \n",
    "\n",
    "- 문자열을 바이트로 인코딩\n",
    "\n",
    "- 바이트를 문자열로 디코딩\n",
    "\n",
    "유니코드에 64000 미만의 문자가 있다면 2바이트로 된 각 유니코드 문자의 식별자를 저장할 수 있다. 그러나 불행하게도 문자가 더 많다. 3 또는 4바이트의 식별자를 인코딩할 수 있지만, 텍스트 문자열에 대한 메모리 및 디스크 저장 공간이 3~4배 증가한다. \n",
    "\n",
    "#### 유니코드 한 문자당 1~4바이트를 사용한다. \n",
    "- 1 바이트 : 아스키코드\n",
    "- 2 바이트 : 키릴 문자를 제외한 대부분의 파생된 라틴어\n",
    "- 3 바이트 : 기본 다국어 평면의 나머지\n",
    "- 4 바이트 : 아시아 언어 및 기호를 포함한 나머지\n",
    "\n",
    "UTF-8은 파이썬, 리눅스, HTML의 표준 텍스트 인코딩이다. utf-8은 빠르고 완전하고 잘 동작한다. 코드에 utf-8 인코딩 방식을 사용하면 인생이 한결 편해질 것이다. "
   ]
  },
  {
   "cell_type": "markdown",
   "metadata": {},
   "source": [
    "# 인코딩\n",
    "문자열을 바이트로 인코딩해보자. \n",
    "\n",
    "#### 인코딩\n",
    "- ascii : 7비트의 아스키코드\n",
    "- utf-8 : 8비트 가변 길이 인코딩 형식. 거의 대부분 문자 지원\n",
    "- latin-1 : ISO 8859-1로도 알려짐\n",
    "- cp-1252 : 윈도우 인코딩 형식\n",
    "- unicode-escape 파이썬 유니코드 리터럴 형식."
   ]
  },
  {
   "cell_type": "code",
   "execution_count": 25,
   "metadata": {},
   "outputs": [
    {
     "name": "stdout",
     "output_type": "stream",
     "text": [
      "1\n"
     ]
    }
   ],
   "source": [
    "# 어떤 것도 utf-8로 인쾽 할 수 있다. \n",
    "snowman = '\\u2603'\n",
    "print(len(snowman))\n",
    "ds = snowman.encode('utf-8') # 유니코드 문자를 바이트 시퀀스로 인코딩해보자. "
   ]
  },
  {
   "cell_type": "code",
   "execution_count": 27,
   "metadata": {},
   "outputs": [
    {
     "name": "stdout",
     "output_type": "stream",
     "text": [
      "3\n",
      "b'\\xe2\\x98\\x83'\n"
     ]
    }
   ],
   "source": [
    "print(len(ds))\n",
    "print(ds)"
   ]
  },
  {
   "cell_type": "markdown",
   "metadata": {},
   "source": [
    "# 디코딩\n",
    "\n",
    "바이트 문자열을 유니코드 문자열로 디코딩해보자. 외부 소스에서 텍스트를 얻을 떄마다 그것은 바이트 문자열로 인코딩되어 이싿. 이 소스에서 실제로 사용된 인코딩을 알기 위해 인코딩 과정을 거꾸로 하여 유니코드 문자열을 얻을 수 이싿. "
   ]
  },
  {
   "cell_type": "code",
   "execution_count": 28,
   "metadata": {},
   "outputs": [
    {
     "data": {
      "text/plain": [
       "'café'"
      ]
     },
     "execution_count": 28,
     "metadata": {},
     "output_type": "execute_result"
    }
   ],
   "source": [
    "place = 'caf\\u00e9'\n",
    "place"
   ]
  },
  {
   "cell_type": "code",
   "execution_count": 29,
   "metadata": {},
   "outputs": [
    {
     "name": "stdout",
     "output_type": "stream",
     "text": [
      "b'caf\\xc3\\xa9'\n",
      "<class 'bytes'>\n"
     ]
    }
   ],
   "source": [
    "# 이것을 utf-8형식의 placce_bytes라는 바이트 변수로 인코딩한다. \n",
    "place_bytes = place.encode('utf-8')\n",
    "print(place_bytes)\n",
    "print(type(place_bytes))"
   ]
  },
  {
   "cell_type": "code",
   "execution_count": 30,
   "metadata": {},
   "outputs": [
    {
     "name": "stdout",
     "output_type": "stream",
     "text": [
      "café\n"
     ]
    }
   ],
   "source": [
    "# 이제 utf-8로 디코딩해보자.\n",
    "place2 = place_bytes.decode('utf-8')\n",
    "print(place2)"
   ]
  },
  {
   "cell_type": "code",
   "execution_count": 32,
   "metadata": {},
   "outputs": [
    {
     "ename": "UnicodeDecodeError",
     "evalue": "'ascii' codec can't decode byte 0xc3 in position 3: ordinal not in range(128)",
     "output_type": "error",
     "traceback": [
      "\u001b[1;31m---------------------------------------------------------------------------\u001b[0m",
      "\u001b[1;31mUnicodeDecodeError\u001b[0m                        Traceback (most recent call last)",
      "\u001b[1;32m<ipython-input-32-db94f87739d9>\u001b[0m in \u001b[0;36m<module>\u001b[1;34m\u001b[0m\n\u001b[0;32m      1\u001b[0m \u001b[1;31m# 다른 인코딩 방식으로 디코딩하면 무슨 일이 일어날까?\u001b[0m\u001b[1;33m\u001b[0m\u001b[1;33m\u001b[0m\u001b[1;33m\u001b[0m\u001b[0m\n\u001b[1;32m----> 2\u001b[1;33m \u001b[0mplace3\u001b[0m \u001b[1;33m=\u001b[0m \u001b[0mplace_bytes\u001b[0m\u001b[1;33m.\u001b[0m\u001b[0mdecode\u001b[0m\u001b[1;33m(\u001b[0m\u001b[1;34m'ascii'\u001b[0m\u001b[1;33m)\u001b[0m\u001b[1;33m\u001b[0m\u001b[1;33m\u001b[0m\u001b[0m\n\u001b[0m",
      "\u001b[1;31mUnicodeDecodeError\u001b[0m: 'ascii' codec can't decode byte 0xc3 in position 3: ordinal not in range(128)"
     ]
    }
   ],
   "source": [
    "# 다른 인코딩 방식으로 디코딩하면 무슨 일이 일어날까?\n",
    "place3 = place_bytes.decode('ascii')"
   ]
  },
  {
   "cell_type": "code",
   "execution_count": 34,
   "metadata": {},
   "outputs": [
    {
     "name": "stdout",
     "output_type": "stream",
     "text": [
      "cafÃ©\n"
     ]
    }
   ],
   "source": [
    "place3 = place_bytes.decode('latin-1')\n",
    "print(place3)"
   ]
  },
  {
   "cell_type": "code",
   "execution_count": 35,
   "metadata": {},
   "outputs": [
    {
     "name": "stdout",
     "output_type": "stream",
     "text": [
      "cafÃ©\n"
     ]
    }
   ],
   "source": [
    "place3 = place_bytes.decode('windows-1252')\n",
    "print(place3)"
   ]
  },
  {
   "cell_type": "markdown",
   "metadata": {},
   "source": [
    "# 포맷\n",
    "\n",
    "데이터 값을 문자열에 끼워넣는(interpolate)방법을 배워보자. 다시 말해 다양한 포맷을 사용하여 문자열 안에 값을 넣는다. \n",
    "\n",
    "파이썬에는 옛 스타일(2)과 새로운 스타일(3)이 있다. "
   ]
  },
  {
   "cell_type": "markdown",
   "metadata": {},
   "source": [
    "### 옛 스타일 : %\n",
    "문자열 포맷의 옛 스타일은 string % data이다. "
   ]
  },
  {
   "cell_type": "code",
   "execution_count": 37,
   "metadata": {},
   "outputs": [
    {
     "name": "stdout",
     "output_type": "stream",
     "text": [
      "42\n"
     ]
    }
   ],
   "source": [
    "# 정수\n",
    "print('%s' % 42)\n",
    "print('%d'% 42)"
   ]
  },
  {
   "cell_type": "code",
   "execution_count": 39,
   "metadata": {},
   "outputs": [
    {
     "name": "stdout",
     "output_type": "stream",
     "text": [
      "7.030000\n",
      "7.030000e+00\n",
      "7.03\n"
     ]
    }
   ],
   "source": [
    "# 부동소수점수\n",
    "print('%f' % 7.03)\n",
    "print('%e' % 7.03)\n",
    "print('%g' % 7.03)"
   ]
  },
  {
   "cell_type": "code",
   "execution_count": 40,
   "metadata": {},
   "outputs": [],
   "source": [
    "# 변수에 정수 n, 부동소수점수 f, 문자열 s를 정의해보자. \n",
    "n = 42\n",
    "f = 7.03\n",
    "s = 'string cheese'"
   ]
  },
  {
   "cell_type": "code",
   "execution_count": 41,
   "metadata": {},
   "outputs": [
    {
     "name": "stdout",
     "output_type": "stream",
     "text": [
      "42 7.030000 string cheese\n"
     ]
    }
   ],
   "source": [
    "print('%d %f %s' % (n,f,s))"
   ]
  },
  {
   "cell_type": "code",
   "execution_count": 42,
   "metadata": {},
   "outputs": [
    {
     "name": "stdout",
     "output_type": "stream",
     "text": [
      "        42   7.030000 string cheese\n"
     ]
    }
   ],
   "source": [
    "# 각 변수에 최소 10자의 필드를 설정하고 오른쪽으로 정렬한다. \n",
    "print('%10d %10f %10s' % (n,f,s))"
   ]
  },
  {
   "cell_type": "code",
   "execution_count": 43,
   "metadata": {},
   "outputs": [
    {
     "name": "stdout",
     "output_type": "stream",
     "text": [
      "42         7.030000   string cheese\n"
     ]
    }
   ],
   "source": [
    "# 왼쪽으로 정렬한다. \n",
    "print('%-10d %-10f %-10s' % (n,f,s))"
   ]
  },
  {
   "cell_type": "markdown",
   "metadata": {},
   "source": [
    "### 새로운 스타일의 포맷팅 : {}와 format\n",
    "\n",
    "새로운 스타일의 포맷팅은 아래와 같다. \n",
    "'{} {} {}'.format(n,f,s)"
   ]
  },
  {
   "cell_type": "code",
   "execution_count": 44,
   "metadata": {},
   "outputs": [
    {
     "name": "stdout",
     "output_type": "stream",
     "text": [
      "42 with 7.03 with string cheese\n"
     ]
    }
   ],
   "source": [
    "print('{} with {} with {}'.format(n,f,s))"
   ]
  },
  {
   "cell_type": "code",
   "execution_count": 45,
   "metadata": {},
   "outputs": [
    {
     "name": "stdout",
     "output_type": "stream",
     "text": [
      "string cheese 42 7.03\n"
     ]
    }
   ],
   "source": [
    "# 옛 스타일에는 순서대로 데이터를 제공한다. 새로운 스타일에서는 아래와 같이 순서를 지정할 수 있다. \n",
    "print('{2} {0} {1}'.format(n,f,s))"
   ]
  },
  {
   "cell_type": "code",
   "execution_count": 46,
   "metadata": {},
   "outputs": [
    {
     "name": "stdout",
     "output_type": "stream",
     "text": [
      "10 5.5 format\n"
     ]
    }
   ],
   "source": [
    "# 지정도 가능하다. \n",
    "print('{n} {f} {s}'.format(n=10,f=5.5,s='format'))"
   ]
  },
  {
   "cell_type": "code",
   "execution_count": 49,
   "metadata": {},
   "outputs": [
    {
     "name": "stdout",
     "output_type": "stream",
     "text": [
      "42 7.030000 string cheese\n"
     ]
    }
   ],
   "source": [
    "# 새로운 스타일에서는 : 다음에 타입 지정자를 입력한다. \n",
    "print('{0:d} {1:f} {2:s}'.format(n,f,s))"
   ]
  },
  {
   "cell_type": "code",
   "execution_count": 51,
   "metadata": {},
   "outputs": [
    {
     "ename": "ValueError",
     "evalue": "Unknown format code 's' for object of type 'int'",
     "output_type": "error",
     "traceback": [
      "\u001b[1;31m---------------------------------------------------------------------------\u001b[0m",
      "\u001b[1;31mValueError\u001b[0m                                Traceback (most recent call last)",
      "\u001b[1;32m<ipython-input-51-10d9ee970ae4>\u001b[0m in \u001b[0;36m<module>\u001b[1;34m\u001b[0m\n\u001b[1;32m----> 1\u001b[1;33m \u001b[0mprint\u001b[0m\u001b[1;33m(\u001b[0m\u001b[1;34m'{0:s} {1:f} {2:s}'\u001b[0m\u001b[1;33m.\u001b[0m\u001b[0mformat\u001b[0m\u001b[1;33m(\u001b[0m\u001b[0mn\u001b[0m\u001b[1;33m,\u001b[0m\u001b[0mf\u001b[0m\u001b[1;33m,\u001b[0m\u001b[0ms\u001b[0m\u001b[1;33m)\u001b[0m\u001b[1;33m)\u001b[0m\u001b[1;33m\u001b[0m\u001b[1;33m\u001b[0m\u001b[0m\n\u001b[0m",
      "\u001b[1;31mValueError\u001b[0m: Unknown format code 's' for object of type 'int'"
     ]
    }
   ],
   "source": [
    "# 다른 타입 지정자를 사용하면 error가 난다. \n",
    "print('{0:s} {1:f} {2:s}'.format(n,f,s))"
   ]
  },
  {
   "cell_type": "code",
   "execution_count": 55,
   "metadata": {},
   "outputs": [
    {
     "name": "stdout",
     "output_type": "stream",
     "text": [
      "        42   7.030000 string cheese\n"
     ]
    }
   ],
   "source": [
    "print('{0:10d} {1:10f} {2:10s}'.format(n,f,s))"
   ]
  },
  {
   "cell_type": "code",
   "execution_count": 56,
   "metadata": {},
   "outputs": [
    {
     "name": "stdout",
     "output_type": "stream",
     "text": [
      "42         7.030000   string cheese\n"
     ]
    }
   ],
   "source": [
    "# 왼쪽 정렬.\n",
    "print('{0:<10d} {1:<10f} {2:<10s}'.format(n,f,s))"
   ]
  },
  {
   "cell_type": "code",
   "execution_count": 57,
   "metadata": {},
   "outputs": [
    {
     "name": "stdout",
     "output_type": "stream",
     "text": [
      "        42   7.030000 string cheese\n"
     ]
    }
   ],
   "source": [
    "# 오른쪽 정렬.\n",
    "print('{0:>10d} {1:>10f} {2:>10s}'.format(n,f,s))"
   ]
  },
  {
   "cell_type": "code",
   "execution_count": 58,
   "metadata": {},
   "outputs": [
    {
     "name": "stdout",
     "output_type": "stream",
     "text": [
      "    42      7.030000  string cheese\n"
     ]
    }
   ],
   "source": [
    "# 중앙 정렬\n",
    "print('{0:^10d} {1:^10f} {2:^10s}'.format(n,f,s))"
   ]
  },
  {
   "cell_type": "markdown",
   "metadata": {},
   "source": []
  }
 ],
 "metadata": {
  "kernelspec": {
   "display_name": "Python 3",
   "language": "python",
   "name": "python3"
  },
  "language_info": {
   "codemirror_mode": {
    "name": "ipython",
    "version": 3
   },
   "file_extension": ".py",
   "mimetype": "text/x-python",
   "name": "python",
   "nbconvert_exporter": "python",
   "pygments_lexer": "ipython3",
   "version": "3.7.3"
  }
 },
 "nbformat": 4,
 "nbformat_minor": 2
}
