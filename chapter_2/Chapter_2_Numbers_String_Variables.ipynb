{
 "cells": [
  {
   "cell_type": "markdown",
   "metadata": {},
   "source": [
    "# 변수, 이름, 객체\n",
    "\n",
    "파이썬에서는 모든 것(부울, 정수, 실수, 문자열, 데이터 구조, 함수, 프로그램)이 객체(object)로 구현되어 있다. \n",
    "객체는 데이터가 담긴 투명한 플라스틱 박스와 같다. 객체의 타입이 int라면 여기에 또 다른 int를 더할 수 있다. 타입은 박스에 포함된 데이터값을 변경할 수 있는 변수(가변, mutable)인지 혹은 변경 할 수 없는 상수(불변, immutable)인지 판단할 수 있다. \n",
    "\n",
    "가변 객체는 열려 있는 상자와 같다. 값을 볼 수 있을 뿐만 아니라 바꿀 수 도 있다. 하지만, 타입은 변경 할 수 없다. \n",
    "하지만, 불변 객체는 값을 바꿀수도 없고 타입은 당연히 변경할 수 없다. \n",
    "\n",
    "- 파이썬은 객체의 타입을 바꿀 수 없는 강타입(Strong typing)이다. 심지어 그 값이 가변인 경우에도 타입을 바꿀 수 없다. \n",
    "\n",
    "### 변수 선언\n",
    "프로그래밍 언어에서는 변수를 선언하여 사용할 수 있다. 변수는 컴퓨터 메모리에 있는 값을 참조하기 위한 이름이다. 즉, 변수는 단지 이름일 뿐이다. 할당한다는 의미는 값을 복사하는 것이 아니라, 데이터가 담긴 객체에 그냥 이름을 붙이는 것이다. 그 이름은 객체 자신에 포함되는 것이라기 보다는 객체의 참조다. "
   ]
  },
  {
   "cell_type": "code",
   "execution_count": 47,
   "metadata": {
    "scrolled": true
   },
   "outputs": [
    {
     "name": "stdout",
     "output_type": "stream",
     "text": [
      "7\n"
     ]
    }
   ],
   "source": [
    "# 정수 7이 담긴 객체 박스에 a라는 이름을 할당한다. \n",
    "a = 7\n",
    "print(a)"
   ]
  },
  {
   "cell_type": "code",
   "execution_count": 48,
   "metadata": {},
   "outputs": [
    {
     "name": "stdout",
     "output_type": "stream",
     "text": [
      "7\n"
     ]
    }
   ],
   "source": [
    "# 그리고 변수 이름 b도 7이 담긴 객체 상자에 붙는다. \n",
    "b = a\n",
    "print(b)"
   ]
  },
  {
   "cell_type": "code",
   "execution_count": 49,
   "metadata": {},
   "outputs": [
    {
     "name": "stdout",
     "output_type": "stream",
     "text": [
      "True\n",
      "True\n",
      "140703723852800 140703723852800\n",
      "True\n"
     ]
    }
   ],
   "source": [
    "# a와 b는 서로 같은 변수인가?\n",
    "print((a is b))\n",
    "print((a == b))\n",
    "print(id(a), id(b))\n",
    "print(id(a) == id(b))"
   ]
  },
  {
   "cell_type": "code",
   "execution_count": 50,
   "metadata": {},
   "outputs": [
    {
     "name": "stdout",
     "output_type": "stream",
     "text": [
      "10 7\n",
      "False\n",
      "False\n",
      "140703723852896 140703723852800\n",
      "False\n"
     ]
    }
   ],
   "source": [
    "# 만약 a에 3을 더하면 b는 어떻게 될까?\n",
    "# a에 3을 더하는 순간 둘은 같은 변수가 아니게 된다. \n",
    "a = a + 3\n",
    "print(a, b)\n",
    "print((a is b))\n",
    "print((a == b))\n",
    "print(id(a), id(b))\n",
    "print(id(a) == id(b))"
   ]
  },
  {
   "cell_type": "code",
   "execution_count": 54,
   "metadata": {},
   "outputs": [
    {
     "name": "stdout",
     "output_type": "stream",
     "text": [
      "True\n",
      "140703723852992 140703723852992\n"
     ]
    }
   ],
   "source": [
    "# 또한 재밌는 점이, 파이썬에서는 파이썬은 정수를 객체로 저장하고, 처음에 작은 정수 값들을 (-5 ~ 256) 생성한 후, 다음에 작은\n",
    "# 작은 정수값을 가진 변수가 만들어 지면 다 같은 객체를 가지게 한다. \n",
    "i = 13\n",
    "j = 13\n",
    "print((i is j))\n",
    "print(id(i), id(j))"
   ]
  },
  {
   "cell_type": "code",
   "execution_count": 55,
   "metadata": {},
   "outputs": [
    {
     "name": "stdout",
     "output_type": "stream",
     "text": [
      "False\n",
      "2085123018480 2085123016176\n",
      "True\n",
      "2085123016176 2085123016176\n"
     ]
    }
   ],
   "source": [
    "# 반면 큰 숫자의 경우, 처음부터 다른 객체를 할당시킨다. \n",
    "i = 280\n",
    "j = 280\n",
    "print((i is j))\n",
    "print(id(i), id(j))\n",
    "i = j\n",
    "print((i is j))\n",
    "print(id(i), id(j))"
   ]
  },
  {
   "cell_type": "markdown",
   "metadata": {},
   "source": [
    "### 파이썬에서 변수 혹은 리터럴 값의 타입을 알고 싶다면, type을 사용하면 된다. "
   ]
  },
  {
   "cell_type": "code",
   "execution_count": 58,
   "metadata": {},
   "outputs": [
    {
     "name": "stdout",
     "output_type": "stream",
     "text": [
      "<class 'int'>\n",
      "<class 'int'>\n",
      "<class 'float'>\n",
      "<class 'str'>\n"
     ]
    }
   ],
   "source": [
    "print(type(i))\n",
    "print(type(58))\n",
    "print(type(99.9))\n",
    "print(type('abc'))"
   ]
  },
  {
   "cell_type": "markdown",
   "metadata": {},
   "source": [
    "### 클래스(class)는 객체의 정의를 의미한다. 파이썬에서는 class와 type이 거의 동일하다. \n",
    "### 변수이름에는 다음 문자만 사용가능하다. \n",
    " - 소문자\n",
    " - 대문자\n",
    " - 숫자\n",
    " - 언더스코어\n",
    " \n",
    " 또한, 파이썬의 예약어도 변수로 선언하면 안 된다. \n"
   ]
  },
  {
   "cell_type": "markdown",
   "metadata": {},
   "source": [
    "# 숫자\n",
    "\n",
    "파이썬은 정수와 부동소수점수를 지원하는 기능이 내장되어 있다. \n",
    "\n",
    "### 정수\n",
    "연속된 정수는 리터럴(literal)정수로 간주한다. \n",
    "\n",
    "여러 연산자를 가지고 정수계산을 할 수 있다. (+, -, *, / //(정수나누기), %, *** ))\n",
    "\n",
    "### 진수\n",
    "정수 앞에 진수(base)를 붙이지 않으면 10진수로 간주한다. \n",
    "파이썬에는 10진수 외에도 세 가지 리터럴 정수를 표현 할 수 있다. \n",
    "- 2진수 : 0b or 0B\n",
    "- 8진수 : 0o or 0O\n",
    "- 16진수 : 0x 혹은 0X\n",
    "\n",
    "### 형변환\n",
    "다른 데이터 타입을 정수형으로 변환하려면 int()함수를 사용한다. 이 함수는 소수점을 버리고 정수를 변환한다. \n",
    "int()는 부동소수점수 혹은 숫자로 이루어진 문자열을 정수로 변환한다. \n",
    "\n",
    "### int의 크기\n",
    "파이썬에서int의 크기는 32비트로 제한되었다. 이는 -2147483648에서 2147483647까지 저장할 수 있는 공간이다. \n",
    "long은 그보다 더 많은 공간을 가지고 있다. 64비트의 9223372036854775808에서 9223372036854775807까지 허용한다. 파이썬 3에서는 long이 사라지고 int의 크기가 더 유연해졌다. 심지어 64비트보다 더 큰 공간을 가질 수 있다. 예를 들어, 고글(10 ** 100)\n",
    "\n",
    "### 부동소수점수 (float)\n",
    "정수는 숫자만으로 구성되어 있지만, 부동소수점수는 소수점이 있다. "
   ]
  },
  {
   "cell_type": "code",
   "execution_count": 59,
   "metadata": {},
   "outputs": [
    {
     "name": "stdout",
     "output_type": "stream",
     "text": [
      "1.8\n",
      "1\n"
     ]
    }
   ],
   "source": [
    "# /는 부동소수점을 포함한 결과가 출력된다. \n",
    "# //는 부동소수점을 제외한 결과, 즉 정수가 출력된다. \n",
    "print(9 / 5)\n",
    "print(9 // 5)"
   ]
  },
  {
   "cell_type": "code",
   "execution_count": 60,
   "metadata": {},
   "outputs": [
    {
     "name": "stdout",
     "output_type": "stream",
     "text": [
      "2\n"
     ]
    }
   ],
   "source": [
    "# 2진수 10을 10진수로 출력해보자.\n",
    "print(0b10)"
   ]
  },
  {
   "cell_type": "code",
   "execution_count": 62,
   "metadata": {},
   "outputs": [
    {
     "name": "stdout",
     "output_type": "stream",
     "text": [
      "8\n",
      "73\n"
     ]
    }
   ],
   "source": [
    "# 8진수 10을 10진수로 출력해보자.\n",
    "# 8진수 111을 10진수로 출력해보자. \n",
    "print(0o10)\n",
    "print(0o111)"
   ]
  },
  {
   "cell_type": "code",
   "execution_count": 65,
   "metadata": {},
   "outputs": [
    {
     "name": "stdout",
     "output_type": "stream",
     "text": [
      "1\n",
      "0\n"
     ]
    }
   ],
   "source": [
    "print(int(True))\n",
    "print(int(False))"
   ]
  },
  {
   "cell_type": "code",
   "execution_count": 70,
   "metadata": {},
   "outputs": [
    {
     "name": "stdout",
     "output_type": "stream",
     "text": [
      "99\n",
      "-23\n",
      "12\n",
      "13\n"
     ]
    }
   ],
   "source": [
    "print(int('99'))\n",
    "print(int('-23'))\n",
    "print(int('12'))\n",
    "print(int(13.3))"
   ]
  },
  {
   "cell_type": "code",
   "execution_count": 73,
   "metadata": {},
   "outputs": [
    {
     "name": "stdout",
     "output_type": "stream",
     "text": [
      "10000000000000000000000000000000000000000000000000000000000000000000000000000000000000000000000000000\n",
      "100000000000000000000000000000000000000000000000000000000000000000000000000000000000000000000000000000000000000000000000000000000000000000000000000000000000000000000000000000000000000000000000000000000\n"
     ]
    }
   ],
   "source": [
    "# 고글\n",
    "googl = 10 ** 100\n",
    "print(googl)\n",
    "print(googl * googl)"
   ]
  },
  {
   "cell_type": "markdown",
   "metadata": {},
   "source": [
    "# 문자열\n",
    "\n",
    "파이썬 3에서는 유니코드 표준에 대한 지원으로 전 세계에서 쓰이는 언어들의 많은 기호를 담을 수 있다. 이는, 파이썬 2로부터 분리된 가장 큰 이유이다. \n",
    "\n",
    "다른 언어에서와는 달리, 파이썬에서는 문자열이 불변(immutable)이다. 문자열 자체는 변경할 수 없지만, 같은 효과를 얻기 위해 문자열의 일부를 다른 문자열로 복사 할 수는 있다. \n",
    "보통 '' 나 \"\"를 사용하고, 여러줄의 문자열을 사용하고 싶으면 \"\"\" \"\"\"를 사용한다. \n",
    "\n",
    "### 데이터 타입 변환 : str()\n",
    "str()함수를 사용하여 데이터 타입을 문자열로 변환할 수 있다. \n",
    "\n",
    "### 이스케이프 문자\n",
    "\\n은 개행\n",
    "\\t는 tab\n",
    "\\'이나 \\\"를 사용하여 단일 또는 이중 인용 부호를 표현가능.\n",
    "\n",
    "### + 연산자\n",
    "+ 연산자를 사용하여 리터럴 문자열 또는 문자열 변수를 결합할 수 있다. \n",
    "\n",
    "### * 연산자\n",
    "* 연산자를 이용하여 문자열을 복제 할 수 있다. \n",
    "\n",
    "### [] 문자추출\n",
    "문자열에서 한 문자를 얻기 위해서는 문자열 이름 뒤에 대괄호와 오프셋을 지정한다. 가장 왼쪽의 오프셋은 0이고, 그 다음은 1, 2, 등으로 진행된다. 가장 오른쪽의 오프셋은 -1이다. \n",
    "\n",
    "### 슬라이스[start:end:step]\n",
    "슬라이스를 사용하여 한 문자열에서 문자열의 일부(substring)을 추출할 수 있다. 대괄호를 사용하여 시작(start)오프셋, 끝(end) 오프셋, 그리고 옵션으로 스텝(step)을 명시하여 슬라이스를 정의한다. \n",
    "\n",
    "- [:] : 처음부터 끝까지 전체 시퀀스를 추출.\n",
    "- [start : ] : start 오프셋부터 끝가지 추출\n",
    "- [ : end] : 처음부터 오프셋까지 시퀀스를 추출.\n",
    "- [start : end] : start오프셋부터 (end - 1)오프셋까지 시퀀스를 추출. \n",
    "- [start : end : step] : step만큼 문자를 건너뛰면서, start 오프셋부터 (end - 1)오프셋까지 시퀀스를 추출한다. \n",
    "\n",
    "\n",
    "### 문자열로 나누기 : split()\n",
    "어떤 구분자를 기준으로 하나의 문자열을 작은 문자열들의 리스트로 나누는 함수.\n",
    "\n",
    "### 문자열로 합치기 : join()\n",
    "join() 함수는 split() 함수와 반대다. join() 함수는 문자열 리스트 list를 하나의 문자열로 결합한다.\n",
    "\n",
    "### strip() : 시퀀스 삭제. \n",
    "양끝에 문자열을 없앤다. \n",
    "\n",
    "### startswith() : 주어진 문자열로 시작하는 지 체크한다. \n",
    "\n",
    "### endswith() : 주어진 문자열로 끝나는 지 체크한다. \n",
    "\n",
    "### finds() : 주어진 문자열이 첫 번째로 나오는 오프셋\n",
    "\n",
    "### rfinds() : 주어진 문자열이 마지막으로 나오는 오프셋\n",
    "\n",
    "### count() : 주어진 문자열이 몇 번 나오는가\n",
    "\n",
    "### title() : 모든 단어의 첫글자를 대문자로 만든다. \n",
    "\n",
    "### upper() : 모든 글자를 대문자로 만든다. \n",
    "\n",
    "### lower() : 모든 글자를 소문자로 만든다. \n",
    "\n",
    "### replace() : 대체하기. \n",
    "인자로 바꿀 문자열, 대체할 새 문자열, 바꿀 문자열에 대한 횟수를 입력한다. "
   ]
  },
  {
   "cell_type": "code",
   "execution_count": 74,
   "metadata": {},
   "outputs": [
    {
     "name": "stdout",
     "output_type": "stream",
     "text": [
      "NaNaNaNa\n",
      "HeyHeyHey\n",
      "goodbye\n"
     ]
    }
   ],
   "source": [
    "# * 와 + 연산자 사용하기.\n",
    "start = 'Na' * 4 + '\\n'\n",
    "middle = 'Hey' * 3 + '\\n'\n",
    "end = 'goodbye'\n",
    "print(start + middle + end)"
   ]
  },
  {
   "cell_type": "code",
   "execution_count": 79,
   "metadata": {},
   "outputs": [
    {
     "name": "stdout",
     "output_type": "stream",
     "text": [
      "a\n",
      "b\n",
      "z\n",
      "y\n",
      "abc\n",
      "abcdefghijklmnopqrstuvwxy\n"
     ]
    }
   ],
   "source": [
    "# [] 문자추출\n",
    "letters = 'abcdefghijklmnopqrstuvwxyz'\n",
    "print(letters[0])\n",
    "print(letters[1])\n",
    "print(letters[-1])\n",
    "print(letters[-2])\n",
    "print(letters[:3]) # 0~3까지 출력.\n",
    "print(letters[:-1]) # 제일 오른쪽 까지 다 출력."
   ]
  },
  {
   "cell_type": "code",
   "execution_count": 83,
   "metadata": {},
   "outputs": [
    {
     "name": "stdout",
     "output_type": "stream",
     "text": [
      "abcdefghijklmnopqrstuvwxyz\n",
      "abcdefghijklmnopqrstuvwxyz\n",
      "abcdefghijklmnopqrstuvwxy\n",
      "def\n",
      "df\n",
      "acegikmoqsuwy\n"
     ]
    }
   ],
   "source": [
    "# slicing\n",
    "print(letters[:])\n",
    "print(letters[0:])\n",
    "print(letters[:-1])\n",
    "print(letters[3:6])\n",
    "print(letters[3:6:2])\n",
    "print(letters[::2])"
   ]
  },
  {
   "cell_type": "code",
   "execution_count": 84,
   "metadata": {},
   "outputs": [
    {
     "name": "stdout",
     "output_type": "stream",
     "text": [
      "['get', 'gloves,', 'get', 'mask,', 'give', 'cat', 'vitamins,', 'call', 'ambulance']\n"
     ]
    }
   ],
   "source": [
    "# split()사용하기.\n",
    "todos = 'get gloves, get mask, give cat vitamins, call ambulance'\n",
    "print(todos.split())"
   ]
  },
  {
   "cell_type": "code",
   "execution_count": 88,
   "metadata": {},
   "outputs": [
    {
     "name": "stdout",
     "output_type": "stream",
     "text": [
      "Yeti Bigfoot Loch Ness Monster\n",
      "Yeti,Bigfoot,Loch Ness Monster\n"
     ]
    }
   ],
   "source": [
    "# join()사용하기.\n",
    "crypto_list = ['Yeti', 'Bigfoot', 'Loch Ness Monster']\n",
    "print(' '.join(crypto_list))\n",
    "print(','.join(crypto_list))"
   ]
  },
  {
   "cell_type": "code",
   "execution_count": 93,
   "metadata": {},
   "outputs": [
    {
     "name": "stdout",
     "output_type": "stream",
     "text": [
      "247\n",
      "True\n",
      "False\n",
      "73\n",
      "210\n",
      "3\n"
     ]
    }
   ],
   "source": [
    "# 문자열 여러 함수 사용해보기. \n",
    "poems = \"\"\"All that doth flow we cannot liquid name Or else Would fire and water be the same;\n",
    "But that is liquid which is moist and wet\n",
    "Fire that property can never get.\n",
    "Then 'tis not cold that doth the fire put out But' the wet that makes it die, no doubt.\n",
    "\"\"\"\n",
    "print(len(poems))\n",
    "print(poems.startswith(\"All\"))\n",
    "print(poems.endswith(\"doubt\"))\n",
    "print(poems.find(\"the\"))\n",
    "print(poems.rfind(\"the\"))\n",
    "print(poems.count(\"the\"))"
   ]
  },
  {
   "cell_type": "code",
   "execution_count": 98,
   "metadata": {},
   "outputs": [
    {
     "name": "stdout",
     "output_type": "stream",
     "text": [
      " duck goes into a bar ...\n",
      "A duck goes into a bar ...\n",
      "A Duck Goes Into A Bar ...\n",
      "A DUCK GOES INTO A BAR ...\n",
      "a duck goes into a bar ...\n",
      "A DUCK GOES INTO A BAR ...\n",
      "the duck goes into the bar ...\n"
     ]
    }
   ],
   "source": [
    "setup = \"a duck goes into a bar ...\"\n",
    "print(setup.strip('a'))\n",
    "print(setup.capitalize())\n",
    "print(setup.title())\n",
    "print(setup.upper())\n",
    "print(setup.lower())\n",
    "print(setup.swapcase())\n",
    "print(setup.replace('a', 'the', 2))"
   ]
  },
  {
   "cell_type": "markdown",
   "metadata": {},
   "source": [
    "# 연습문제"
   ]
  },
  {
   "cell_type": "code",
   "execution_count": 99,
   "metadata": {},
   "outputs": [
    {
     "name": "stdout",
     "output_type": "stream",
     "text": [
      "1시간은  3600 초\n"
     ]
    }
   ],
   "source": [
    "#2.1 1시간은 몇 초인가?\n",
    "print('1시간은 ',str(60 * 60), '초')"
   ]
  },
  {
   "cell_type": "code",
   "execution_count": 100,
   "metadata": {},
   "outputs": [],
   "source": [
    "# 2.2 계산한 결과를 seconds_per_hour 변수에 저장하라.\n",
    "seconds_per_hour = 60 * 60"
   ]
  },
  {
   "cell_type": "code",
   "execution_count": 102,
   "metadata": {},
   "outputs": [],
   "source": [
    "# 1일은 몇 초인가?\n",
    "seconds_per_day = seconds_per_hour * 24"
   ]
  },
  {
   "cell_type": "code",
   "execution_count": 105,
   "metadata": {},
   "outputs": [
    {
     "name": "stdout",
     "output_type": "stream",
     "text": [
      "24.0\n",
      "24\n"
     ]
    }
   ],
   "source": [
    "# 부동소수점(/)을 사용해서 seconds_per_day를 seconds_per_hour로 나누어라. \n",
    "print(seconds_per_day / seconds_per_hour)\n",
    "print(seconds_per_day // seconds_per_hour)"
   ]
  }
 ],
 "metadata": {
  "kernelspec": {
   "display_name": "Python 3",
   "language": "python",
   "name": "python3"
  },
  "language_info": {
   "codemirror_mode": {
    "name": "ipython",
    "version": 3
   },
   "file_extension": ".py",
   "mimetype": "text/x-python",
   "name": "python",
   "nbconvert_exporter": "python",
   "pygments_lexer": "ipython3",
   "version": "3.7.3"
  }
 },
 "nbformat": 4,
 "nbformat_minor": 2
}
