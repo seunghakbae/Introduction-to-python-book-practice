{
 "cells": [
  {
   "cell_type": "markdown",
   "metadata": {},
   "source": [
    "# 객체란 무엇인가?\n",
    "\n",
    "숫자에서 모듈까지 파이썬의 모든 것은 객체다. \n",
    "\n",
    "객체는 데이터(변수, 속성, attribute이라고 부름)와 코드(함수, 메서드, method라고 부름)을 모두 포함한다. 객체는 어떤 구체적인 것의 유일한 인스턴스(instance)를 나타낸다. \n",
    "\n",
    "예를 들어, 값 7의 정수 객체와 값 8을 다른 객체이지만, 정수 클래스의 객체이다. "
   ]
  }
 ],
 "metadata": {
  "kernelspec": {
   "display_name": "Python 3",
   "language": "python",
   "name": "python3"
  },
  "language_info": {
   "codemirror_mode": {
    "name": "ipython",
    "version": 3
   },
   "file_extension": ".py",
   "mimetype": "text/x-python",
   "name": "python",
   "nbconvert_exporter": "python",
   "pygments_lexer": "ipython3",
   "version": "3.7.3"
  }
 },
 "nbformat": 4,
 "nbformat_minor": 2
}
