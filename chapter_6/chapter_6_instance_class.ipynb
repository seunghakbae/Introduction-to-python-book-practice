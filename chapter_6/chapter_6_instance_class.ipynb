{
 "cells": [
  {
   "cell_type": "markdown",
   "metadata": {},
   "source": [
    "# 객체란 무엇인가?\n",
    "\n",
    "숫자에서 모듈까지 파이썬의 모든 것은 객체다. \n",
    "\n",
    "객체는 데이터(변수, 속성, attribute이라고 부름)와 코드(함수, 메서드, method라고 부름)을 모두 포함한다. 객체는 어떤 구체적인 것의 유일한 인스턴스(instance)를 나타낸다. \n",
    "\n",
    "예를 들어, 값 7의 정수 객체와 값 8을 다른 객체이지만, 정수 클래스의 객체이다. \n",
    "\n",
    "아무도 생성하지 않은 새로운 객체를 생성할 때는 무엇을 포함하고 있는 지 가리키는 클래스를 생성해야 한다. \n",
    "\n",
    "객체를 명사, 메서드를 동사라고 생각하자. 객체는 각각의 사물을 나타내고, 메서드는 다른 사물과 어떻게 상호작용하는 지 정의한다. "
   ]
  },
  {
   "cell_type": "markdown",
   "metadata": {},
   "source": [
    "### 클래스 선언하기 : class\n",
    "\n",
    "2장에서는 객체를 플라스틱 박스에 비유했다. 클래스는 박스를 만드는 틀에 비유할 수 있다. "
   ]
  },
  {
   "cell_type": "code",
   "execution_count": 1,
   "metadata": {},
   "outputs": [],
   "source": [
    "# 먼저 객체의 틀로 Person 클래스를 정의해보자. \n",
    "\n",
    "class Person():\n",
    "    pass"
   ]
  },
  {
   "cell_type": "code",
   "execution_count": 2,
   "metadata": {},
   "outputs": [],
   "source": [
    "# 함수처럼 클래스 이름을 호출하여 클래스로부터 객체를 생성할 수 있다. \n",
    "someone = Person()"
   ]
  },
  {
   "cell_type": "markdown",
   "metadata": {},
   "source": [
    "Person()은 Person클래스로부터 개별 객체를 생성하고, someone 변수에 이 객체를 할당한다. \n",
    "\n",
    "이번에는 특별한 파이썬 객체 초기화(initialization) 메서드 (__init__)을 포함시켜보자. "
   ]
  },
  {
   "cell_type": "code",
   "execution_count": 3,
   "metadata": {},
   "outputs": [],
   "source": [
    "# 이것은 진짜 파이썬 클래스의 정의다. \n",
    "class Person():\n",
    "    def __init__(self):\n",
    "        pass"
   ]
  },
  {
   "cell_type": "markdown",
   "metadata": {},
   "source": [
    "__init__ ()은 틀별한 메서드 이름이다. 이 메서드는 클래스의 정의로부터 객체를 초기화한다. self인자는 객체 자신을 가리킨다. \n",
    "\n",
    "클래스에서 __init__()을 정의할 때, 첫 번째 매개변수는 self여야 한다. 비록 파이썬에서 self는 예약어가 아니지만 일반적으로 사용한다. "
   ]
  },
  {
   "cell_type": "code",
   "execution_count": 4,
   "metadata": {},
   "outputs": [],
   "source": [
    "# 실제로 뭔가를 하는 간단한 객체를 생성해보자. \n",
    "# 이번에는 name 매개변수를 초기화 메서드에 추가한다. \n",
    "\n",
    "class Person():\n",
    "    def __init__(self, name):\n",
    "        self.name = name\n",
    "        \n",
    "# 이제 name 매개변수에 문자열을 전달하여 Person 클래스로부터 객체를 생성할 수 있다. \n",
    "hunter = Person('Elmer Fudd')"
   ]
  },
  {
   "cell_type": "markdown",
   "metadata": {},
   "source": [
    "### 코드가 어떻게 동작하는 지 살펴보자. \n",
    "\n",
    "- Person 클래스의 정의를 찾는다. \n",
    "- 새 객체를 메모리에 초기화(생성)한다. \n",
    "- 객체의 __init__ 메서드를 호출한다. 새롭게 생성된 객체를 self에 전달하고, 인자('Elmer Fudd')를 name에 전달한다. \n",
    "- 객체에 name 값을 저장한다. \n",
    "- 새로운 객체를 반환한다. \n",
    "- hunter에 이 객체를 연결한다. \n",
    "\n",
    "이 새로운 객체는 파이썬의 다른 객체의 생성 과정과 같다. \n",
    "\n",
    "우리가 전달한 name값에 무엇이 있는 지 살펴보자. 그것은 객체의 속성(attribute)에 저장되어 있다. 이 속성은 직접 읽고 쓸 수 있다. "
   ]
  },
  {
   "cell_type": "code",
   "execution_count": 5,
   "metadata": {},
   "outputs": [
    {
     "name": "stdout",
     "output_type": "stream",
     "text": [
      "Elmer Fudd\n"
     ]
    }
   ],
   "source": [
    "print(hunter.name)"
   ]
  },
  {
   "cell_type": "markdown",
   "metadata": {},
   "source": [
    "Person 클래스 정의에서 name 속성을 self.name으로 접근하는 것을 기억하라. hunter와 같은 객체를 생성할 때 이것을 hunter.name이라고 여긴다. "
   ]
  },
  {
   "cell_type": "markdown",
   "metadata": {},
   "source": [
    "# 상속\n",
    "\n",
    "기존 클래스에 필요한 기능을 추가하고 싶다면 상속을 사용할 수 있다. 기존 클래스에서 일부를 추가하거나 변경하여 새 클래스를 생성한다. 이것은 코드를 재사용하는 아주 좋은 방법이다. 상속을 이용하면 새로운 클래스는 기존 클래스를 복사하지 않고, 기존 클래스의 모든 코들르 쓸 수 있다. \n",
    "\n",
    "이것을 기존 클래스의 행동(behavior)를 오버라이드(override, 재정의)한다. 기존 클래스는 부모(parent)클래스, 슈퍼(super)클래스, 베이스(base)클래스라고 부른다. 새 클래스는 자식(child)클래스, 서브(sub)클래스, 파생된(derived)클래스라고 부른다. "
   ]
  },
  {
   "cell_type": "code",
   "execution_count": 6,
   "metadata": {},
   "outputs": [],
   "source": [
    "# 빈 클래스 Car를 정의해보자. 그리고 Car의 서브클래스 Yugo를 정의하자. \n",
    "class Car():\n",
    "    pass\n",
    "\n",
    "class Yugo(Car):\n",
    "    pass"
   ]
  },
  {
   "cell_type": "code",
   "execution_count": 15,
   "metadata": {},
   "outputs": [],
   "source": [
    "# 각 클래스로부터 객체를 생성한다. \n",
    "give_me_a_car = Car()\n",
    "give_me_a_yugo = Yugo()"
   ]
  },
  {
   "cell_type": "markdown",
   "metadata": {},
   "source": [
    "자식 클래스는 부모 클래스를 구체화(specialization)한 것이다. 객체 지향 용어로 Yugo는 Car다(Yugo is-a Car). give_me_a_yugo 객체는 Yugo 클래스의 인스턴스지만, 또한 Car클래스가 할 수 있는 어떤 것을 상속받는다. "
   ]
  },
  {
   "cell_type": "code",
   "execution_count": 16,
   "metadata": {},
   "outputs": [],
   "source": [
    "class Car():\n",
    "    def exclaim(self):\n",
    "        print(\"I am a Car\")\n",
    "        \n",
    "class Yugo(Car):\n",
    "    pass"
   ]
  },
  {
   "cell_type": "code",
   "execution_count": 17,
   "metadata": {},
   "outputs": [],
   "source": [
    "give_me_a_car = Car()\n",
    "give_me_a_yugo = Yugo()"
   ]
  },
  {
   "cell_type": "code",
   "execution_count": 18,
   "metadata": {},
   "outputs": [
    {
     "name": "stdout",
     "output_type": "stream",
     "text": [
      "I am a Car\n"
     ]
    }
   ],
   "source": [
    "give_me_a_car.exclaim()"
   ]
  },
  {
   "cell_type": "code",
   "execution_count": 19,
   "metadata": {},
   "outputs": [
    {
     "name": "stdout",
     "output_type": "stream",
     "text": [
      "I am a Car\n"
     ]
    }
   ],
   "source": [
    "give_me_a_yugo.exclaim()"
   ]
  },
  {
   "cell_type": "markdown",
   "metadata": {},
   "source": [
    "### 메서드 오버라이드\n",
    "\n",
    "방금 본 것처럼 새 클래스는 먼저 부모 클래스로부터 모든 것을 상속받는다. \n",
    "\n",
    "메서드 오버라이드(override)는 자식 클래스에서 부모 클래스의 기능(method)를 재정의할 때 사용하는 기능이다. 오버라이드는 두가지 경우에 주로 사용한다.\n",
    "\n",
    "경우 1: 부모 클래스의 기능을 사용하지 않고 자식 클래스에서 구현한 기능을 사용하고 싶은 경우\n",
    "\n",
    "경우 2: 부모 클래스의 기능을 자식 클래스에서 확장하고 싶은 경우"
   ]
  },
  {
   "cell_type": "code",
   "execution_count": 20,
   "metadata": {},
   "outputs": [],
   "source": [
    "class Car():\n",
    "    def exclaim(self):\n",
    "        print(\"I'm a Car!\")"
   ]
  },
  {
   "cell_type": "code",
   "execution_count": 21,
   "metadata": {},
   "outputs": [],
   "source": [
    "# Car 클래스를 상속받으면서, exclaim메서드를 재정의한다. \n",
    "class Yugo(Car):\n",
    "    def exclaim(self):\n",
    "        print(\"I'm a Yugo! Much like a Car, but more Yugo-ish\")"
   ]
  },
  {
   "cell_type": "code",
   "execution_count": 24,
   "metadata": {},
   "outputs": [],
   "source": [
    "give_me_a_car = Car()\n",
    "give_me_a_yugo = Yugo()"
   ]
  },
  {
   "cell_type": "code",
   "execution_count": 26,
   "metadata": {},
   "outputs": [
    {
     "name": "stdout",
     "output_type": "stream",
     "text": [
      "I'm a Car!\n",
      "I'm a Yugo! Much like a Car, but more Yugo-ish\n"
     ]
    }
   ],
   "source": [
    "give_me_a_car.exclaim()\n",
    "give_me_a_yugo.exclaim()"
   ]
  },
  {
   "cell_type": "markdown",
   "metadata": {},
   "source": [
    "### 메서드 추가하기.\n",
    "\n",
    "자식 클래스는 부모 클래스에 없는 메서드를 추가할 수 있다. "
   ]
  },
  {
   "cell_type": "code",
   "execution_count": 27,
   "metadata": {},
   "outputs": [],
   "source": [
    "class Car():\n",
    "    def exclaim(self):\n",
    "        print(\"I'm a Car!\")\n",
    "        \n",
    "class Yugo(Car):\n",
    "    def exclaim(self):\n",
    "        print(\"I'm a Yugo! Much like a Car, but more Yugo-ish\")\n",
    "            \n",
    "    def need_a_push(self):\n",
    "        print(\"A little bit of help?\")"
   ]
  },
  {
   "cell_type": "code",
   "execution_count": 28,
   "metadata": {},
   "outputs": [],
   "source": [
    "give_me_a_car = Car()\n",
    "give_me_a_yugo = Yugo()"
   ]
  },
  {
   "cell_type": "code",
   "execution_count": 29,
   "metadata": {},
   "outputs": [
    {
     "name": "stdout",
     "output_type": "stream",
     "text": [
      "I'm a Car!\n",
      "I'm a Yugo! Much like a Car, but more Yugo-ish\n",
      "A little bit of help?\n"
     ]
    }
   ],
   "source": [
    "give_me_a_car.exclaim()\n",
    "give_me_a_yugo.exclaim()\n",
    "give_me_a_yugo.need_a_push()"
   ]
  },
  {
   "cell_type": "code",
   "execution_count": 30,
   "metadata": {},
   "outputs": [
    {
     "ename": "AttributeError",
     "evalue": "'Car' object has no attribute 'need_a_push'",
     "output_type": "error",
     "traceback": [
      "\u001b[1;31m---------------------------------------------------------------------------\u001b[0m",
      "\u001b[1;31mAttributeError\u001b[0m                            Traceback (most recent call last)",
      "\u001b[1;32m<ipython-input-30-19d985d006b1>\u001b[0m in \u001b[0;36m<module>\u001b[1;34m\u001b[0m\n\u001b[0;32m      1\u001b[0m \u001b[1;31m# 부모 클래스는 사용이 불가능하다.\u001b[0m\u001b[1;33m\u001b[0m\u001b[1;33m\u001b[0m\u001b[1;33m\u001b[0m\u001b[0m\n\u001b[1;32m----> 2\u001b[1;33m \u001b[0mgive_me_a_car\u001b[0m\u001b[1;33m.\u001b[0m\u001b[0mneed_a_push\u001b[0m\u001b[1;33m(\u001b[0m\u001b[1;33m)\u001b[0m\u001b[1;33m\u001b[0m\u001b[1;33m\u001b[0m\u001b[0m\n\u001b[0m",
      "\u001b[1;31mAttributeError\u001b[0m: 'Car' object has no attribute 'need_a_push'"
     ]
    }
   ],
   "source": [
    "# 부모 클래스는 사용이 불가능하다. \n",
    "give_me_a_car.need_a_push()"
   ]
  },
  {
   "cell_type": "markdown",
   "metadata": {},
   "source": [
    "### 부모에게 도움 받기 : super\n",
    "\n",
    "자식 클래스에서 부모 클래스의 메서드를 호출하고 싶다면 어떻게 해야 할까? super()메서드를 사용하면 된다. "
   ]
  },
  {
   "cell_type": "code",
   "execution_count": 31,
   "metadata": {},
   "outputs": [],
   "source": [
    "class Person():\n",
    "    def __init__(self, name):\n",
    "        self.name = name\n",
    "\n",
    "class EmailPerson(Person):\n",
    "    def __init__(self, name, email):\n",
    "        super().__init__(name)\n",
    "        self.email = email"
   ]
  },
  {
   "cell_type": "markdown",
   "metadata": {},
   "source": [
    "자식 클래스에서 __init__() 메서드를 정의하면 부모 클래스의 __init__() 메서드를 대체하는 것이기 때문에 더 이상 자동으로 부모 클래스의 __init__()메서드가 호출되지 않는다. 그러므로 이것을 명시적으로 호출해야 한다. \n",
    "\n",
    "- super()메서드는 부모 클래스의 정의를 얻는다. \n",
    "- __init__() 메서드는 Person.__init__() 메서드를 호출한다. 이 메서드는 self 인자를 슈퍼 클래스로 전달하는 역할을 한다. 그러므로 슈퍼 클래스에 어떤 선택적 인자를 제공하지만 하면 된다. \n",
    "- self.email = email은 EmailPerson 클래스를 Person클래스와 다르게 만들어주는 코드다. "
   ]
  },
  {
   "cell_type": "code",
   "execution_count": 32,
   "metadata": {},
   "outputs": [],
   "source": [
    "bob = EmailPerson('Bob Frap', 'bob@frapples.com')"
   ]
  },
  {
   "cell_type": "code",
   "execution_count": 33,
   "metadata": {},
   "outputs": [
    {
     "name": "stdout",
     "output_type": "stream",
     "text": [
      "Bob Frap bob@frapples.com\n"
     ]
    }
   ],
   "source": [
    "print(bob.name, bob.email)"
   ]
  },
  {
   "cell_type": "code",
   "execution_count": null,
   "metadata": {},
   "outputs": [],
   "source": [
    "# 왜 자식 클래스에서 아래와 같이 정의하지 않았을까?\n",
    "class EmailPerson(Person):\n",
    "    def __init__(self, name, email):\n",
    "        self.name = name\n",
    "        self.email = email"
   ]
  },
  {
   "cell_type": "markdown",
   "metadata": {},
   "source": [
    "물론 이와 같이 정의할 수 있지만, 상속을 사용할 수 없다. 그래서 만약 Person() 클래스의 정의가 바뀌면 EmailPerson도 저절로 바뀌게 된다!"
   ]
  },
  {
   "cell_type": "markdown",
   "metadata": {},
   "source": [
    "# 자신 : self\n",
    "\n",
    "파이썬에서는 인스턴스 메소드의 첫 번째 인자로 self를 포함해야 한다. 파이썬은 적절한 객체의 속성과 메서드를 찾기 위해 self인자를 사용한다. "
   ]
  },
  {
   "cell_type": "code",
   "execution_count": 34,
   "metadata": {},
   "outputs": [
    {
     "name": "stdout",
     "output_type": "stream",
     "text": [
      "I'm a Car!\n"
     ]
    }
   ],
   "source": [
    "# 이전 예제의 Car클래스를 기억하는가? exclaim()메서드를 다시 호출해보자. \n",
    "car = Car()\n",
    "car.exclaim()"
   ]
  },
  {
   "cell_type": "markdown",
   "metadata": {},
   "source": [
    "파이썬이 은밀하게 처리하는 일은 다음과 같다.\n",
    "\n",
    "- car 객체의 Car 클래스를 찾는다. \n",
    "- car 객체를 Car 클래스의 exclaim()메서드의 self 매개변수에 전달한다. "
   ]
  },
  {
   "cell_type": "code",
   "execution_count": 35,
   "metadata": {},
   "outputs": [
    {
     "name": "stdout",
     "output_type": "stream",
     "text": [
      "I'm a Car!\n"
     ]
    }
   ],
   "source": [
    "# 그래서 아래와 같은 것도 가능하다. \n",
    "Car.exclaim(car)"
   ]
  },
  {
   "cell_type": "markdown",
   "metadata": {},
   "source": [
    "# get/set 속성값과 프로퍼티\n",
    "\n",
    "Java에서는 외부로부터 바로 접근할 수 없는 private객체 속성을 지원한다. 프로그래머는 private 속성의 값을 읽고 쓰기 위해 getter 메서드와 setter메서드를 사용한다. \n",
    "\n",
    "파이썬에서는 getter와 setter 메서드가 필요없다. 왜냐하면, 모든 속성과 메서드는 public이기 때문이다. 만약, 속성에 직접 접근이 부담스럽다면 getter와 setter를 사용할 수 있다. 그러나 파이썬에서는 property를 사용한다. "
   ]
  },
  {
   "cell_type": "code",
   "execution_count": 36,
   "metadata": {},
   "outputs": [],
   "source": [
    "# 새 메서드들은 마지막 라인 전까지 평범한 getter와 setter 메서드처럼 행동한다. 마지막 라인에서 두 메서드를 name이라는 \n",
    "# 속성의 프로퍼티로 정의한다. \n",
    "\n",
    "# 마지막 라인에서 두 메서드를 name이라는 속성의 프로퍼티로 정의한다. property()의 첫 번째 인자는 getter 메서드, \n",
    "# 두번 째 인자는 setter 메서드다. \n",
    "\n",
    "class Duck():\n",
    "    def __init__(self, input_name):\n",
    "        self.hidden_name = input_name\n",
    "    def get_name(self):\n",
    "        print('inside the getter')\n",
    "        return self.hidden_name\n",
    "    def set_name(self, input_name):\n",
    "        print('inside the setter')\n",
    "        self.hidden_name = input_name\n",
    "    name = property(get_name, set_name)"
   ]
  },
  {
   "cell_type": "code",
   "execution_count": 40,
   "metadata": {},
   "outputs": [
    {
     "name": "stdout",
     "output_type": "stream",
     "text": [
      "inside the getter\n",
      "Howard\n"
     ]
    }
   ],
   "source": [
    "# 이제 Duck 객체의 name을 참조할 때 get_name() 메서드를 호출해서 hidden_Name값을 반환한다. \n",
    "\n",
    "fowl = Duck('Howard')\n",
    "print(fowl.name)"
   ]
  },
  {
   "cell_type": "code",
   "execution_count": 41,
   "metadata": {},
   "outputs": [
    {
     "name": "stdout",
     "output_type": "stream",
     "text": [
      "inside the getter\n"
     ]
    },
    {
     "data": {
      "text/plain": [
       "'Howard'"
      ]
     },
     "execution_count": 41,
     "metadata": {},
     "output_type": "execute_result"
    }
   ],
   "source": [
    "# 여전히 보통의 getter 메서드 처럼 get_name() 메서드를 호출한다. \n",
    "fowl.get_name()"
   ]
  },
  {
   "cell_type": "code",
   "execution_count": 42,
   "metadata": {},
   "outputs": [
    {
     "name": "stdout",
     "output_type": "stream",
     "text": [
      "inside the setter\n",
      "inside the getter\n"
     ]
    },
    {
     "data": {
      "text/plain": [
       "'Daffy'"
      ]
     },
     "execution_count": 42,
     "metadata": {},
     "output_type": "execute_result"
    }
   ],
   "source": [
    "# name 속성에 값을 할당하면 set_name()메서드를 호출한다. \n",
    "fowl.name = 'Daffy'\n",
    "fowl.name"
   ]
  },
  {
   "cell_type": "code",
   "execution_count": 44,
   "metadata": {},
   "outputs": [
    {
     "name": "stdout",
     "output_type": "stream",
     "text": [
      "inside the setter\n",
      "inside the getter\n"
     ]
    },
    {
     "data": {
      "text/plain": [
       "'Daffy'"
      ]
     },
     "execution_count": 44,
     "metadata": {},
     "output_type": "execute_result"
    }
   ],
   "source": [
    "# set_name() 메서드를 여전히 직접 호출할 수 있다. \n",
    "fowl.set_name('Daffy')\n",
    "fowl.name"
   ]
  },
  {
   "cell_type": "markdown",
   "metadata": {},
   "source": [
    "### 데커레이터\n",
    "\n",
    "프로퍼티를 정의하는 또다른 방법은 데커레이터를 사용하는 것이다. 다음 예제는 두 개의 다른 메서드를 정의한다. 각 메서드는 name()이지만, 서로 다른 데커레이터를 사용한다. \n",
    "\n",
    "- getter 메서드 앞에 @property 데커레이터를 쓴다. \n",
    "- setter 메서드 앞에 @name.setter 데커레이터를 쓴다. "
   ]
  },
  {
   "cell_type": "code",
   "execution_count": 45,
   "metadata": {},
   "outputs": [],
   "source": [
    "class Duck():\n",
    "    def __init__(self, input_name):\n",
    "        self.hidden_name = input_name\n",
    "    \n",
    "    @property\n",
    "    def name(self):\n",
    "        print('inside the getter')\n",
    "        return self.hidden_name\n",
    "    \n",
    "    @name.setter\n",
    "    def name(self, input_name):\n",
    "        print('inside the setter')\n",
    "        self.hidden_name = input_name"
   ]
  },
  {
   "cell_type": "code",
   "execution_count": 46,
   "metadata": {},
   "outputs": [
    {
     "name": "stdout",
     "output_type": "stream",
     "text": [
      "inside the getter\n"
     ]
    },
    {
     "data": {
      "text/plain": [
       "'Howard'"
      ]
     },
     "execution_count": 46,
     "metadata": {},
     "output_type": "execute_result"
    }
   ],
   "source": [
    "# 이제 name을 속성처럼 접근이 가능하다. 하지만, get_name() 메서드와 set_name() 메서드가 보이지 않는다. \n",
    "fowl = Duck('Howard')\n",
    "fowl.name"
   ]
  },
  {
   "cell_type": "code",
   "execution_count": 47,
   "metadata": {},
   "outputs": [
    {
     "name": "stdout",
     "output_type": "stream",
     "text": [
      "inside the setter\n"
     ]
    }
   ],
   "source": [
    "fowl.name = 'Donald'"
   ]
  },
  {
   "cell_type": "code",
   "execution_count": 49,
   "metadata": {},
   "outputs": [
    {
     "name": "stdout",
     "output_type": "stream",
     "text": [
      "inside the getter\n"
     ]
    },
    {
     "data": {
      "text/plain": [
       "'Donald'"
      ]
     },
     "execution_count": 49,
     "metadata": {},
     "output_type": "execute_result"
    }
   ],
   "source": [
    "fowl.name"
   ]
  },
  {
   "cell_type": "markdown",
   "metadata": {},
   "source": [
    "또한 프로퍼티는 계산된 값을 참조할 수 있다. radius 속성과 계산된 diameter 프로퍼티를 가진 Circle 클래스를 정의해보자. "
   ]
  },
  {
   "cell_type": "code",
   "execution_count": 55,
   "metadata": {},
   "outputs": [],
   "source": [
    "class Circle():\n",
    "    def __init__(self, radius):\n",
    "        self.radius = radius\n",
    "    \n",
    "    @property\n",
    "    def diameter(self):\n",
    "        return 2 * self.radius"
   ]
  },
  {
   "cell_type": "code",
   "execution_count": 56,
   "metadata": {},
   "outputs": [],
   "source": [
    "class Circle_test():\n",
    "    def __init__(self, radius):\n",
    "        self.radius = radius\n",
    "    \n",
    "    def diameter(self):\n",
    "        return 2 * self.radius"
   ]
  },
  {
   "cell_type": "code",
   "execution_count": 59,
   "metadata": {},
   "outputs": [],
   "source": [
    "circle = Circle(5)\n",
    "circle_test = Circle_test(5)"
   ]
  },
  {
   "cell_type": "code",
   "execution_count": 60,
   "metadata": {},
   "outputs": [
    {
     "name": "stdout",
     "output_type": "stream",
     "text": [
      "5\n",
      "10\n"
     ]
    }
   ],
   "source": [
    "print(circle.radius)\n",
    "print(circle.diameter)"
   ]
  },
  {
   "cell_type": "code",
   "execution_count": 62,
   "metadata": {},
   "outputs": [
    {
     "name": "stdout",
     "output_type": "stream",
     "text": [
      "10\n",
      "5\n"
     ]
    }
   ],
   "source": [
    "print(circle_test.diameter())\n",
    "print(circle_test.radius)"
   ]
  },
  {
   "cell_type": "code",
   "execution_count": 63,
   "metadata": {},
   "outputs": [
    {
     "name": "stdout",
     "output_type": "stream",
     "text": [
      "7\n",
      "14\n"
     ]
    }
   ],
   "source": [
    "circle.radius = 7\n",
    "print(circle.radius)\n",
    "print(circle.diameter)"
   ]
  },
  {
   "cell_type": "code",
   "execution_count": 64,
   "metadata": {},
   "outputs": [
    {
     "name": "stdout",
     "output_type": "stream",
     "text": [
      "14\n",
      "7\n"
     ]
    }
   ],
   "source": [
    "circle_test.radius = 7\n",
    "print(circle_test.diameter())\n",
    "print(circle_test.radius)"
   ]
  },
  {
   "cell_type": "markdown",
   "metadata": {},
   "source": [
    "# private 네임 맹글링\n",
    "\n",
    "이전 절의 Duck 클래스 예제에서 숨겨진 hidden_name 속성을 호출했다. 파이썬은 클래스 정의 외부에서 볼수 없도록 하는 속성에 대한 네이밍 컨벤션(naming convention)이 있다. 속성 이름 앞에 두 언더스코어(__)를 붙이면 된다. "
   ]
  },
  {
   "cell_type": "code",
   "execution_count": 65,
   "metadata": {},
   "outputs": [],
   "source": [
    "class Duck():\n",
    "    def __init__(self, input_name):\n",
    "        self.__name = input_name\n",
    "    \n",
    "    @property\n",
    "    def name(self):\n",
    "        print('inside the getter')\n",
    "        return self.__name\n",
    "    \n",
    "    @name.setter\n",
    "    def name(self, input_name):\n",
    "        print('inside the setter')\n",
    "        self.__name = input_name"
   ]
  },
  {
   "cell_type": "code",
   "execution_count": 66,
   "metadata": {},
   "outputs": [
    {
     "name": "stdout",
     "output_type": "stream",
     "text": [
      "inside the getter\n"
     ]
    },
    {
     "data": {
      "text/plain": [
       "'Howard'"
      ]
     },
     "execution_count": 66,
     "metadata": {},
     "output_type": "execute_result"
    }
   ],
   "source": [
    "fowl = Duck('Howard')\n",
    "fowl.name"
   ]
  },
  {
   "cell_type": "code",
   "execution_count": 67,
   "metadata": {},
   "outputs": [
    {
     "name": "stdout",
     "output_type": "stream",
     "text": [
      "inside the setter\n",
      "inside the getter\n"
     ]
    },
    {
     "data": {
      "text/plain": [
       "'Donald'"
      ]
     },
     "execution_count": 67,
     "metadata": {},
     "output_type": "execute_result"
    }
   ],
   "source": [
    "fowl.name = 'Donald'\n",
    "fowl.name"
   ]
  },
  {
   "cell_type": "code",
   "execution_count": 68,
   "metadata": {},
   "outputs": [
    {
     "ename": "AttributeError",
     "evalue": "'Duck' object has no attribute '__name'",
     "output_type": "error",
     "traceback": [
      "\u001b[1;31m---------------------------------------------------------------------------\u001b[0m",
      "\u001b[1;31mAttributeError\u001b[0m                            Traceback (most recent call last)",
      "\u001b[1;32m<ipython-input-68-39d081ea2ef8>\u001b[0m in \u001b[0;36m<module>\u001b[1;34m\u001b[0m\n\u001b[1;32m----> 1\u001b[1;33m \u001b[0mfowl\u001b[0m\u001b[1;33m.\u001b[0m\u001b[0m__name\u001b[0m\u001b[1;33m\u001b[0m\u001b[1;33m\u001b[0m\u001b[0m\n\u001b[0m",
      "\u001b[1;31mAttributeError\u001b[0m: 'Duck' object has no attribute '__name'"
     ]
    }
   ],
   "source": [
    "# 접근할 수 없다. \n",
    "fowl.__name"
   ]
  },
  {
   "cell_type": "markdown",
   "metadata": {},
   "source": [
    "니 네이밍 컨벤션은 속성을 private으로 만들 진 않았지만, 파이썬은 이 속성이 우연히 외부 코드에서 발견할 수 없도록 이름을 mangling했다."
   ]
  },
  {
   "cell_type": "markdown",
   "metadata": {},
   "source": [
    "# 메서드 타입.\n",
    "\n",
    "\n",
    "클래스 정의에서 메서드의 첫 번째 인자가 self라면 이 메서드는 인스턴스 메서드(instance method)다. 이것은 일반적인 클래스를 생성할 떄의 메서드 타입이다. 인스턴스 메서드의 첫 번째 매개변수는 self고, 파이썬은 이 메서드를 호출할 때 객체를 전달한다. \n",
    "\n",
    "\n",
    "### 클래스 메서드\n",
    "\n",
    "이와 반대로 클래스 메서드(class method)는 클래스 전체에 영향을 미친다. 클래스에 대한 어떤 변화는 모든 객체에 영향을 미친다. 클래스 정의에서 함수에 @classmethod 데커레이터가 있다면 이것은 클래스 메서드다. 또한 이 메서드의 첫 번째 매개변수는 클래스 자신이다. 파이썬에서는 보통 이 클래스의 매개변수를 cls로 쓴다. class는 예약어이기 때문에 사용할 수 없다. "
   ]
  },
  {
   "cell_type": "code",
   "execution_count": 70,
   "metadata": {},
   "outputs": [],
   "source": [
    "class A():\n",
    "    count = 0\n",
    "    def __init__(self):\n",
    "        A.count += 1\n",
    "    def exclaim(self):\n",
    "        print(\"I'm an A!\")\n",
    "    @classmethod\n",
    "    def kids(cls):\n",
    "        print(\"A has\", cls.count, \"little objects\")"
   ]
  },
  {
   "cell_type": "code",
   "execution_count": 71,
   "metadata": {},
   "outputs": [],
   "source": [
    "easy_a = A()\n",
    "breezy_a = A()\n",
    "wheezy_a = A()"
   ]
  },
  {
   "cell_type": "code",
   "execution_count": 72,
   "metadata": {},
   "outputs": [
    {
     "name": "stdout",
     "output_type": "stream",
     "text": [
      "A has 3 little objects\n"
     ]
    }
   ],
   "source": [
    "A.kids()"
   ]
  },
  {
   "cell_type": "markdown",
   "metadata": {},
   "source": [
    "### 정적 메서드 @staticmethod\n",
    "\n",
    "kids 메서드에서 A.count를 사용할 수 있었지만 cls.count를 사용했다. \n",
    "\n",
    "클래스 정의에서 메서드의 세 번째 타입은 클래스나 객체에 영향을 미치지 못한다. 이 메서드는 단지 편의를 위해 존재한다. 정적 메서드는 @staticmethod 데커레이터가 붙어있고, 첫 번째 매개변수로 self나 cls가 없다. "
   ]
  },
  {
   "cell_type": "code",
   "execution_count": 74,
   "metadata": {},
   "outputs": [],
   "source": [
    "class CoyoteWeapon():\n",
    "    @staticmethod\n",
    "    def commercial():\n",
    "        print(\"This Coyoteman\")"
   ]
  },
  {
   "cell_type": "code",
   "execution_count": 75,
   "metadata": {},
   "outputs": [
    {
     "name": "stdout",
     "output_type": "stream",
     "text": [
      "This Coyoteman\n"
     ]
    }
   ],
   "source": [
    "CoyoteWeapon.commercial()"
   ]
  },
  {
   "cell_type": "markdown",
   "metadata": {},
   "source": [
    "# 덕 타이핑\n",
    "\n",
    "파이썬은 다형성(polymorphism)을 느슨하게 구현했다. 이것은 클래스에 상관없이 같은 동작을 다른 객체에 적용할 수 있다는 것을 의미한다. "
   ]
  },
  {
   "cell_type": "code",
   "execution_count": 76,
   "metadata": {},
   "outputs": [],
   "source": [
    "# 세 Quote 클래스에서 같은 __init__() 이니셜라이저를 사용해보자.\n",
    "\n",
    "class Quote():\n",
    "    def __init__(self, person, words):\n",
    "        self.person = person\n",
    "        self.words = words\n",
    "    def who(self):\n",
    "        return self.person\n",
    "    def says(self):\n",
    "        return self.words + \".\"\n",
    "    \n",
    "class QuestionQuote(Quote):\n",
    "    def says(self):\n",
    "        return self.words + \"?\"\n",
    "    \n",
    "class ExclamationQuote(Quote):\n",
    "    def says(self):\n",
    "        return self.words + \"!\""
   ]
  },
  {
   "cell_type": "code",
   "execution_count": 77,
   "metadata": {},
   "outputs": [
    {
     "name": "stdout",
     "output_type": "stream",
     "text": [
      "Elmer Fudd I'm hunting wabbits.\n"
     ]
    }
   ],
   "source": [
    "hunter = Quote(\"Elmer Fudd\", \"I'm hunting wabbits\")\n",
    "print(hunter.who(), hunter.says())"
   ]
  },
  {
   "cell_type": "code",
   "execution_count": 78,
   "metadata": {},
   "outputs": [
    {
     "name": "stdout",
     "output_type": "stream",
     "text": [
      "Bugs What's up?\n"
     ]
    }
   ],
   "source": [
    "hunted1 = QuestionQuote(\"Bugs\", \"What's up\")\n",
    "print(hunted1.who(), hunted1.says())"
   ]
  },
  {
   "cell_type": "code",
   "execution_count": 79,
   "metadata": {},
   "outputs": [
    {
     "name": "stdout",
     "output_type": "stream",
     "text": [
      "Daffy Its rabbit season!\n"
     ]
    }
   ],
   "source": [
    "hunted2 = ExclamationQuote('Daffy',\"Its rabbit season\")\n",
    "print(hunted2.who(), hunted2.says())"
   ]
  },
  {
   "cell_type": "code",
   "execution_count": 80,
   "metadata": {},
   "outputs": [],
   "source": [
    "# 그러면 이제 Quote와 관계없는 BabblingBrook클래스를 정의하자. \n",
    "class BabblingBrook():\n",
    "    def who(self):\n",
    "        return 'Brrok'\n",
    "    def says(self):\n",
    "        return \"Babble\""
   ]
  },
  {
   "cell_type": "code",
   "execution_count": 81,
   "metadata": {},
   "outputs": [],
   "source": [
    "brook = BabblingBrook()"
   ]
  },
  {
   "cell_type": "code",
   "execution_count": 82,
   "metadata": {},
   "outputs": [],
   "source": [
    "# 다양한 객체의 who()와 says()메서드를 실행해보자. brook 객체는 다른 객체와 전혀 관계가 없다. \n",
    "def who_says(obj):\n",
    "    print(obj.who(), 'says', obj.says())"
   ]
  },
  {
   "cell_type": "code",
   "execution_count": 83,
   "metadata": {},
   "outputs": [
    {
     "name": "stdout",
     "output_type": "stream",
     "text": [
      "Elmer Fudd says I'm hunting wabbits.\n",
      "Bugs says What's up?\n",
      "Daffy says Its rabbit season!\n",
      "Brrok says Babble\n"
     ]
    }
   ],
   "source": [
    "# 이러한 행위를 덕 타이핑(duck typing)이라고 부른다. \n",
    "\n",
    "who_says(hunter)\n",
    "who_says(hunted1)\n",
    "who_says(hunted2)\n",
    "who_says(brook)"
   ]
  },
  {
   "cell_type": "markdown",
   "metadata": {},
   "source": [
    "# 컴포지션\n",
    "\n",
    "자식 클래스가 부모 클래스처럼 행동하고 싶을 때, 상속은 좋은 기술이다. 하지만, 컴포지션(compostion)혹은 어그리게이션(aggregation)의 사용이 더 적절한 경우가 있다.(X has-a Y)"
   ]
  },
  {
   "cell_type": "code",
   "execution_count": 84,
   "metadata": {},
   "outputs": [],
   "source": [
    "class Bill():\n",
    "    def __init__(self, description):\n",
    "        self.description = description\n",
    "\n",
    "class Tail():\n",
    "    def __init__(self, length):\n",
    "        self.length = length\n",
    "        \n",
    "class Duck():\n",
    "    def __init__(self, bill, tail):\n",
    "        self.bill = bill\n",
    "        self.tail = tail\n",
    "    def about(self):\n",
    "        print('This duck has a ', self.bill.description, 'bill and a ', self.tail.length, 'tail')"
   ]
  },
  {
   "cell_type": "code",
   "execution_count": 85,
   "metadata": {},
   "outputs": [
    {
     "name": "stdout",
     "output_type": "stream",
     "text": [
      "This duck has a  Wide orange bill and a  long tail\n"
     ]
    }
   ],
   "source": [
    "tail = Tail('long')\n",
    "bill = Bill('Wide orange')\n",
    "duck = Duck(bill, tail)\n",
    "duck.about()"
   ]
  },
  {
   "cell_type": "markdown",
   "metadata": {},
   "source": [
    "# 클래스와 객체, 그리고 모듈은 언제 사용할까?\n"
   ]
  }
 ],
 "metadata": {
  "kernelspec": {
   "display_name": "Python 3",
   "language": "python",
   "name": "python3"
  },
  "language_info": {
   "codemirror_mode": {
    "name": "ipython",
    "version": 3
   },
   "file_extension": ".py",
   "mimetype": "text/x-python",
   "name": "python",
   "nbconvert_exporter": "python",
   "pygments_lexer": "ipython3",
   "version": "3.7.3"
  }
 },
 "nbformat": 4,
 "nbformat_minor": 2
}
