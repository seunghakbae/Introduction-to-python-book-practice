{
 "cells": [
  {
   "cell_type": "markdown",
   "metadata": {},
   "source": [
    "# 객체란 무엇인가?\n",
    "\n",
    "숫자에서 모듈까지 파이썬의 모든 것은 객체다. \n",
    "\n",
    "객체는 데이터(변수, 속성, attribute이라고 부름)와 코드(함수, 메서드, method라고 부름)을 모두 포함한다. 객체는 어떤 구체적인 것의 유일한 인스턴스(instance)를 나타낸다. \n",
    "\n",
    "예를 들어, 값 7의 정수 객체와 값 8을 다른 객체이지만, 정수 클래스의 객체이다. \n",
    "\n",
    "아무도 생성하지 않은 새로운 객체를 생성할 때는 무엇을 포함하고 있는 지 가리키는 클래스를 생성해야 한다. \n",
    "\n",
    "객체를 명사, 메서드를 동사라고 생각하자. 객체는 각각의 사물을 나타내고, 메서드는 다른 사물과 어떻게 상호작용하는 지 정의한다. "
   ]
  },
  {
   "cell_type": "markdown",
   "metadata": {},
   "source": [
    "### 클래스 선언하기 : class\n",
    "\n",
    "2장에서는 객체를 플라스틱 박스에 비유했다. 클래스는 박스를 만드는 틀에 비유할 수 있다. "
   ]
  },
  {
   "cell_type": "code",
   "execution_count": 1,
   "metadata": {},
   "outputs": [],
   "source": [
    "# 먼저 객체의 틀로 Person 클래스를 정의해보자. \n",
    "\n",
    "class Person():\n",
    "    pass"
   ]
  },
  {
   "cell_type": "code",
   "execution_count": 2,
   "metadata": {},
   "outputs": [],
   "source": [
    "# 함수처럼 클래스 이름을 호출하여 클래스로부터 객체를 생성할 수 있다. \n",
    "someone = Person()"
   ]
  },
  {
   "cell_type": "markdown",
   "metadata": {},
   "source": [
    "Person()은 Person클래스로부터 개별 객체를 생성하고, someone 변수에 이 객체를 할당한다. \n",
    "\n",
    "이번에는 특별한 파이썬 객체 초기화(initialization) 메서드 (__init__)을 포함시켜보자. "
   ]
  },
  {
   "cell_type": "code",
   "execution_count": 3,
   "metadata": {},
   "outputs": [],
   "source": [
    "# 이것은 진짜 파이썬 클래스의 정의다. \n",
    "class Person():\n",
    "    def __init__(self):\n",
    "        pass"
   ]
  },
  {
   "cell_type": "markdown",
   "metadata": {},
   "source": [
    "__init__ ()은 틀별한 메서드 이름이다. 이 메서드는 클래스의 정의로부터 객체를 초기화한다. self인자는 객체 자신을 가리킨다. \n",
    "\n",
    "클래스에서 __init__()을 정의할 때, 첫 번째 매개변수는 self여야 한다. 비록 파이썬에서 self는 예약어가 아니지만 일반적으로 사용한다. "
   ]
  },
  {
   "cell_type": "code",
   "execution_count": 4,
   "metadata": {},
   "outputs": [],
   "source": [
    "# 실제로 뭔가를 하는 간단한 객체를 생성해보자. \n",
    "# 이번에는 name 매개변수를 초기화 메서드에 추가한다. \n",
    "\n",
    "class Person():\n",
    "    def __init__(self, name):\n",
    "        self.name = name\n",
    "        \n",
    "# 이제 name 매개변수에 문자열을 전달하여 Person 클래스로부터 객체를 생성할 수 있다. \n",
    "hunter = Person('Elmer Fudd')"
   ]
  },
  {
   "cell_type": "markdown",
   "metadata": {},
   "source": [
    "### 코드가 어떻게 동작하는 지 살펴보자. \n",
    "\n",
    "- Person 클래스의 정의를 찾는다. \n",
    "- 새 객체를 메모리에 초기화(생성)한다. \n",
    "- 객체의 __init__ 메서드를 호출한다. 새롭게 생성된 객체를 self에 전달하고, 인자('Elmer Fudd')를 name에 전달한다. \n",
    "- 객체에 name 값을 저장한다. \n",
    "- 새로운 객체를 반환한다. \n",
    "- hunter에 이 객체를 연결한다. \n",
    "\n",
    "이 새로운 객체는 파이썬의 다른 객체의 생성 과정과 같다. \n",
    "\n",
    "우리가 전달한 name값에 무엇이 있는 지 살펴보자. 그것은 객체의 속성(attribute)에 저장되어 있다. 이 속성은 직접 읽고 쓸 수 있다. "
   ]
  },
  {
   "cell_type": "code",
   "execution_count": 5,
   "metadata": {},
   "outputs": [
    {
     "name": "stdout",
     "output_type": "stream",
     "text": [
      "Elmer Fudd\n"
     ]
    }
   ],
   "source": [
    "print(hunter.name)"
   ]
  },
  {
   "cell_type": "markdown",
   "metadata": {},
   "source": [
    "Person 클래스 정의에서 name 속성을 self.name으로 접근하는 것을 기억하라. hunter와 같은 객체를 생성할 때 이것을 hunter.name이라고 여긴다. "
   ]
  },
  {
   "cell_type": "markdown",
   "metadata": {},
   "source": [
    "# 상속\n",
    "\n",
    "기존 클래스에 필요한 기능을 추가하고 싶다면 상속을 사용할 수 있다. 기존 클래스에서 일부를 추가하거나 변경하여 새 클래스를 생성한다. 이것은 코드를 재사용하는 아주 좋은 방법이다. 상속을 이용하면 새로운 클래스는 기존 클래스를 복사하지 않고, 기존 클래스의 모든 코들르 쓸 수 있다. \n",
    "\n",
    "이것을 기존 클래스의 행동(behavior)를 오버라이드(override, 재정의)한다. 기존 클래스는 부모(parent)클래스, 슈퍼(super)클래스, 베이스(base)클래스라고 부른다. 새 클래스는 자식(child)클래스, 서브(sub)클래스, 파생된(derived)클래스라고 부른다. "
   ]
  },
  {
   "cell_type": "code",
   "execution_count": 6,
   "metadata": {},
   "outputs": [],
   "source": [
    "# 빈 클래스 Car를 정의해보자. 그리고 Car의 서브클래스 Yugo를 정의하자. \n",
    "class Car():\n",
    "    pass\n",
    "\n",
    "class Yugo(Car):\n",
    "    pass"
   ]
  },
  {
   "cell_type": "code",
   "execution_count": 15,
   "metadata": {},
   "outputs": [],
   "source": [
    "# 각 클래스로부터 객체를 생성한다. \n",
    "give_me_a_car = Car()\n",
    "give_me_a_yugo = Yugo()"
   ]
  },
  {
   "cell_type": "markdown",
   "metadata": {},
   "source": [
    "자식 클래스는 부모 클래스를 구체화(specialization)한 것이다. 객체 지향 용어로 Yugo는 Car다(Yugo is-a Car). give_me_a_yugo 객체는 Yugo 클래스의 인스턴스지만, 또한 Car클래스가 할 수 있는 어떤 것을 상속받는다. "
   ]
  },
  {
   "cell_type": "code",
   "execution_count": 16,
   "metadata": {},
   "outputs": [],
   "source": [
    "class Car():\n",
    "    def exclaim(self):\n",
    "        print(\"I am a Car\")\n",
    "        \n",
    "class Yugo(Car):\n",
    "    pass"
   ]
  },
  {
   "cell_type": "code",
   "execution_count": 17,
   "metadata": {},
   "outputs": [],
   "source": [
    "give_me_a_car = Car()\n",
    "give_me_a_yugo = Yugo()"
   ]
  },
  {
   "cell_type": "code",
   "execution_count": 18,
   "metadata": {},
   "outputs": [
    {
     "name": "stdout",
     "output_type": "stream",
     "text": [
      "I am a Car\n"
     ]
    }
   ],
   "source": [
    "give_me_a_car.exclaim()"
   ]
  },
  {
   "cell_type": "code",
   "execution_count": 19,
   "metadata": {},
   "outputs": [
    {
     "name": "stdout",
     "output_type": "stream",
     "text": [
      "I am a Car\n"
     ]
    }
   ],
   "source": [
    "give_me_a_yugo.exclaim()"
   ]
  },
  {
   "cell_type": "markdown",
   "metadata": {},
   "source": [
    "### 메서드 오버라이드\n",
    "\n",
    "방금 본 것처럼 새 클래스는 먼저 부모 클래스로부터 모든 것을 상속받는다. \n",
    "\n",
    "메서드 오버라이드(override)는 자식 클래스에서 부모 클래스의 기능(method)를 재정의할 때 사용하는 기능이다. 오버라이드는 두가지 경우에 주로 사용한다.\n",
    "\n",
    "경우 1: 부모 클래스의 기능을 사용하지 않고 자식 클래스에서 구현한 기능을 사용하고 싶은 경우\n",
    "\n",
    "경우 2: 부모 클래스의 기능을 자식 클래스에서 확장하고 싶은 경우"
   ]
  },
  {
   "cell_type": "code",
   "execution_count": 20,
   "metadata": {},
   "outputs": [],
   "source": [
    "class Car():\n",
    "    def exclaim(self):\n",
    "        print(\"I'm a Car!\")"
   ]
  },
  {
   "cell_type": "code",
   "execution_count": 21,
   "metadata": {},
   "outputs": [],
   "source": [
    "# Car 클래스를 상속받으면서, exclaim메서드를 재정의한다. \n",
    "class Yugo(Car):\n",
    "    def exclaim(self):\n",
    "        print(\"I'm a Yugo! Much like a Car, but more Yugo-ish\")"
   ]
  },
  {
   "cell_type": "code",
   "execution_count": 24,
   "metadata": {},
   "outputs": [],
   "source": [
    "give_me_a_car = Car()\n",
    "give_me_a_yugo = Yugo()"
   ]
  },
  {
   "cell_type": "code",
   "execution_count": 26,
   "metadata": {},
   "outputs": [
    {
     "name": "stdout",
     "output_type": "stream",
     "text": [
      "I'm a Car!\n",
      "I'm a Yugo! Much like a Car, but more Yugo-ish\n"
     ]
    }
   ],
   "source": [
    "give_me_a_car.exclaim()\n",
    "give_me_a_yugo.exclaim()"
   ]
  },
  {
   "cell_type": "markdown",
   "metadata": {},
   "source": [
    "### 메서드 추가하기.\n",
    "\n",
    "자식 클래스는 부모 클래스에 없는 메서드를 추가할 수 있다. "
   ]
  },
  {
   "cell_type": "code",
   "execution_count": 27,
   "metadata": {},
   "outputs": [],
   "source": [
    "class Car():\n",
    "    def exclaim(self):\n",
    "        print(\"I'm a Car!\")\n",
    "        \n",
    "class Yugo(Car):\n",
    "    def exclaim(self):\n",
    "        print(\"I'm a Yugo! Much like a Car, but more Yugo-ish\")\n",
    "            \n",
    "    def need_a_push(self):\n",
    "        print(\"A little bit of help?\")"
   ]
  },
  {
   "cell_type": "code",
   "execution_count": 28,
   "metadata": {},
   "outputs": [],
   "source": [
    "give_me_a_car = Car()\n",
    "give_me_a_yugo = Yugo()"
   ]
  },
  {
   "cell_type": "code",
   "execution_count": 29,
   "metadata": {},
   "outputs": [
    {
     "name": "stdout",
     "output_type": "stream",
     "text": [
      "I'm a Car!\n",
      "I'm a Yugo! Much like a Car, but more Yugo-ish\n",
      "A little bit of help?\n"
     ]
    }
   ],
   "source": [
    "give_me_a_car.exclaim()\n",
    "give_me_a_yugo.exclaim()\n",
    "give_me_a_yugo.need_a_push()"
   ]
  },
  {
   "cell_type": "code",
   "execution_count": 30,
   "metadata": {},
   "outputs": [
    {
     "ename": "AttributeError",
     "evalue": "'Car' object has no attribute 'need_a_push'",
     "output_type": "error",
     "traceback": [
      "\u001b[1;31m---------------------------------------------------------------------------\u001b[0m",
      "\u001b[1;31mAttributeError\u001b[0m                            Traceback (most recent call last)",
      "\u001b[1;32m<ipython-input-30-19d985d006b1>\u001b[0m in \u001b[0;36m<module>\u001b[1;34m\u001b[0m\n\u001b[0;32m      1\u001b[0m \u001b[1;31m# 부모 클래스는 사용이 불가능하다.\u001b[0m\u001b[1;33m\u001b[0m\u001b[1;33m\u001b[0m\u001b[1;33m\u001b[0m\u001b[0m\n\u001b[1;32m----> 2\u001b[1;33m \u001b[0mgive_me_a_car\u001b[0m\u001b[1;33m.\u001b[0m\u001b[0mneed_a_push\u001b[0m\u001b[1;33m(\u001b[0m\u001b[1;33m)\u001b[0m\u001b[1;33m\u001b[0m\u001b[1;33m\u001b[0m\u001b[0m\n\u001b[0m",
      "\u001b[1;31mAttributeError\u001b[0m: 'Car' object has no attribute 'need_a_push'"
     ]
    }
   ],
   "source": [
    "# 부모 클래스는 사용이 불가능하다. \n",
    "give_me_a_car.need_a_push()"
   ]
  },
  {
   "cell_type": "markdown",
   "metadata": {},
   "source": [
    "### 부모에게 도움 받기 : super\n",
    "\n",
    "자식 클래스에서 부모 클래스의 메서드를 호출하고 싶다면 어떻게 해야 할까? super()메서드를 사용하면 된다. "
   ]
  },
  {
   "cell_type": "code",
   "execution_count": 31,
   "metadata": {},
   "outputs": [],
   "source": [
    "class Person():\n",
    "    def __init__(self, name):\n",
    "        self.name = name\n",
    "\n",
    "class EmailPerson(Person):\n",
    "    def __init__(self, name, email):\n",
    "        super().__init__(name)\n",
    "        self.email = email"
   ]
  },
  {
   "cell_type": "markdown",
   "metadata": {},
   "source": [
    "자식 클래스에서 __init__() 메서드를 정의하면 부모 클래스의 __init__() 메서드를 대체하는 것이기 때문에 더 이상 자동으로 부모 클래스의 __init__()메서드가 호출되지 않는다. 그러므로 이것을 명시적으로 호출해야 한다. \n",
    "\n",
    "- super()메서드는 부모 클래스의 정의를 얻는다. \n",
    "- __init__() 메서드는 Person.__init__() 메서드를 호출한다. 이 메서드는 self 인자를 슈퍼 클래스로 전달하는 역할을 한다. 그러므로 슈퍼 클래스에 어떤 선택적 인자를 제공하지만 하면 된다. \n",
    "- self.email = email은 EmailPerson 클래스를 Person클래스와 다르게 만들어주는 코드다. "
   ]
  },
  {
   "cell_type": "code",
   "execution_count": 32,
   "metadata": {},
   "outputs": [],
   "source": [
    "bob = EmailPerson('Bob Frap', 'bob@frapples.com')"
   ]
  },
  {
   "cell_type": "code",
   "execution_count": 33,
   "metadata": {},
   "outputs": [
    {
     "name": "stdout",
     "output_type": "stream",
     "text": [
      "Bob Frap bob@frapples.com\n"
     ]
    }
   ],
   "source": [
    "print(bob.name, bob.email)"
   ]
  },
  {
   "cell_type": "code",
   "execution_count": null,
   "metadata": {},
   "outputs": [],
   "source": [
    "# 왜 자식 클래스에서 아래와 같이 정의하지 않았을까?\n",
    "class EmailPerson(Person):\n",
    "    def __init__(self, name, email):\n",
    "        self.name = name\n",
    "        self.email = email"
   ]
  },
  {
   "cell_type": "markdown",
   "metadata": {},
   "source": [
    "물론 이와 같이 정의할 수 있지만, 상속을 사용할 수 없다. 그래서 만약 Person() 클래스의 정의가 바뀌면 EmailPerson도 저절로 바뀌게 된다!"
   ]
  },
  {
   "cell_type": "code",
   "execution_count": null,
   "metadata": {},
   "outputs": [],
   "source": []
  }
 ],
 "metadata": {
  "kernelspec": {
   "display_name": "Python 3",
   "language": "python",
   "name": "python3"
  },
  "language_info": {
   "codemirror_mode": {
    "name": "ipython",
    "version": 3
   },
   "file_extension": ".py",
   "mimetype": "text/x-python",
   "name": "python",
   "nbconvert_exporter": "python",
   "pygments_lexer": "ipython3",
   "version": "3.7.3"
  }
 },
 "nbformat": 4,
 "nbformat_minor": 2
}
