{
 "cells": [
  {
   "cell_type": "markdown",
   "metadata": {},
   "source": [
    "# 리스트, 튜플, 딕셔너리, 셋\n",
    "\n",
    "2장에서는 부울, 정수, 부동소수점수, 문자열등과 같은 기본 데이터 타입을 알아보았다. 이들 타입이 원자(atom)이라면, 이번 장에서 다룰 자료구조(data structure)는 분자(molecule)같은 존재이다. "
   ]
  },
  {
   "cell_type": "markdown",
   "metadata": {},
   "source": [
    "# 딕셔너리(dictionary)\n",
    "딕셔너리는 리스트와 비슷하다. 다른 점은 항목의 순서를 따지지 않으며 0 또는 1과 같은 오프셋으로 항목을 선택할 수 없다. 대신 값(value)에 상응하는 고유한 키(key)를 지정한다. \n",
    "\n",
    "키는 대부분 문자열이지만, 불변(immutable)하는 파이썬의 어떤 타입 (부울, 정수, 부동소수점수, 튜플, 문자열)이 될 수도 있다. 딕셔너리 자체는 mutable이다. \n",
    "\n",
    "#### 다른 언어에서는 딕셔너리를 연관 배열(associative array), 해시(hash), 해시맵(hashmap)이라고 부른다. "
   ]
  },
  {
   "cell_type": "markdown",
   "metadata": {},
   "source": [
    "### 딕셔너리 생성하기 : {}\n",
    "딕셔너리를 생성하기 위해서 중괄호({})안에 콤마로 구분된 키:값 쌍을 지정한다. "
   ]
  },
  {
   "cell_type": "code",
   "execution_count": 2,
   "metadata": {},
   "outputs": [
    {
     "name": "stdout",
     "output_type": "stream",
     "text": [
      "{}\n"
     ]
    }
   ],
   "source": [
    "# 키와 값이 없는 비어있는 딕셔너리.\n",
    "empty_dict = {}\n",
    "print(empty_dict)"
   ]
  },
  {
   "cell_type": "code",
   "execution_count": 4,
   "metadata": {},
   "outputs": [
    {
     "name": "stdout",
     "output_type": "stream",
     "text": [
      "{'day': 'A period of twenty-four hours, mostly misspent', 'positive': \"Mistaken at the to of one's Voice\", 'misfortune': 'The kind of fortune that never misses'}\n"
     ]
    }
   ],
   "source": [
    "bierece = {\n",
    "    \"day\" : \"A period of twenty-four hours, mostly misspent\",\n",
    "    \"positive\" : \"Mistaken at the to of one's Voice\",\n",
    "    \"misfortune\" : \"The kind of fortune that never misses\"\n",
    "}\n",
    "print(bierece)"
   ]
  },
  {
   "cell_type": "markdown",
   "metadata": {},
   "source": [
    "### 딕셔너리로 변환하기 : dict()\n",
    "dict() 함수를 사용해서 두 값으로 이루어진 시퀀스를 딕셔너리로 변환할 수 있다. "
   ]
  },
  {
   "cell_type": "code",
   "execution_count": 6,
   "metadata": {},
   "outputs": [
    {
     "name": "stdout",
     "output_type": "stream",
     "text": [
      "{'a': 'b', 'c': 'd', 'e': 'f'}\n"
     ]
    }
   ],
   "source": [
    "# 앞에 있는 값은 key값이 되고 뒤에 있는 값은 value값이 된다. \n",
    "lol = [['a', 'b'], ['c', 'd'], ['e', 'f']]\n",
    "print(dict(lol))"
   ]
  },
  {
   "cell_type": "code",
   "execution_count": 7,
   "metadata": {},
   "outputs": [
    {
     "name": "stdout",
     "output_type": "stream",
     "text": [
      "{'a': 'b', 'c': 'd', 'e': 'f'}\n",
      "{'a': 'b', 'c': 'd', 'e': 'f'}\n",
      "{'a': 'b', 'c': 'd', 'e': 'f'}\n",
      "{'a': 'b', 'c': 'd', 'e': 'f'}\n"
     ]
    }
   ],
   "source": [
    "lot = [('a', 'b'), ('c', 'd'), ('e', 'f')]\n",
    "print(dict(lol))\n",
    "\n",
    "tol = (['a', 'b'], ['c', 'd'], ['e', 'f'])\n",
    "print(dict(tol))\n",
    "\n",
    "los = ['ab', 'cd', 'ef'] # 두 문자열로 된 리스트.\n",
    "print(dict(los))\n",
    "\n",
    "tos = ('ab', 'cd', 'ef') # 두 문자열로 된 튜플\n",
    "print(dict(tos))"
   ]
  },
  {
   "cell_type": "markdown",
   "metadata": {},
   "source": [
    "### 항목 추가/변경하기\n",
    "딕셔너리에 항목을 추가하는 방법은 간단하다. 키에 의해 참조되는 항목에 값을 할당하면 된다. 키가 딕셔너리에 있는 경우 새 값으로 대체되고, 없는 경우 새 값이 키와 사전에 추가된다. "
   ]
  },
  {
   "cell_type": "code",
   "execution_count": 10,
   "metadata": {},
   "outputs": [
    {
     "name": "stdout",
     "output_type": "stream",
     "text": [
      "{'Chapman': 'Graham', 'Cleese': 'John', 'Idle': 'Eric', 'Jones': 'Terry', 'Palin': 'Michael'}\n"
     ]
    }
   ],
   "source": [
    "pythons = {'Chapman' : \"Graham\", \n",
    "          \"Cleese\" : \"John\", \n",
    "           \"Idle\" : \"Eric\", \n",
    "           \"Jones\" : \"Terry\", \n",
    "           \"Palin\" : \"Michael\"\n",
    "          }\n",
    "print(pythons)"
   ]
  },
  {
   "cell_type": "code",
   "execution_count": 11,
   "metadata": {},
   "outputs": [
    {
     "name": "stdout",
     "output_type": "stream",
     "text": [
      "{'Chapman': 'Graham', 'Cleese': 'John', 'Idle': 'Eric', 'Jones': 'Terry', 'Palin': 'Michael', 'Gilliam': 'Gerry'}\n"
     ]
    }
   ],
   "source": [
    "# 항목 추가하기.\n",
    "pythons['Gilliam'] = 'Gerry'\n",
    "print(pythons)"
   ]
  },
  {
   "cell_type": "code",
   "execution_count": 12,
   "metadata": {},
   "outputs": [
    {
     "name": "stdout",
     "output_type": "stream",
     "text": [
      "{'Chapman': 'Graham', 'Cleese': 'John', 'Idle': 'Eric', 'Jones': 'Terry', 'Palin': 'Michael', 'Gilliam': 'Terry'}\n"
     ]
    }
   ],
   "source": [
    "# 항목 변경하기.\n",
    "pythons['Gilliam'] = 'Terry'\n",
    "print(pythons)"
   ]
  },
  {
   "cell_type": "markdown",
   "metadata": {},
   "source": [
    "### 딕셔너리 결합하기 : update()\n",
    "한 딕셔너리의 키와 값들을 복사해서 다른 딕셔너리에 붙여준다. \n",
    "\n",
    "만약 두번째 딕셔너리에 같은 키 값이 있으면 어떨까? 두 번째 딕셔너리에 있는 값이 승리한다. "
   ]
  },
  {
   "cell_type": "code",
   "execution_count": 14,
   "metadata": {},
   "outputs": [
    {
     "name": "stdout",
     "output_type": "stream",
     "text": [
      "{'Chapman': 'Graham', 'Cleese': 'John', 'Idle': 'Eric', 'Jones': 'Terry', 'Palin': 'Michael', 'Gilliam': 'Terry', 'Marx': 'Groucho', 'Howard': 'Moe'}\n"
     ]
    }
   ],
   "source": [
    "others = {'Marx' : \"Groucho\", \"Howard\" : 'Moe'}\n",
    "pythons.update(others)\n",
    "print(pythons)"
   ]
  },
  {
   "cell_type": "code",
   "execution_count": 15,
   "metadata": {},
   "outputs": [
    {
     "name": "stdout",
     "output_type": "stream",
     "text": [
      "{'a': 1, 'b': 'playtus'}\n"
     ]
    }
   ],
   "source": [
    "# 만약 같은 값이 있다면?\n",
    "first = {'a' : 1, 'b' : 2}\n",
    "second = {'b' : 'playtus'}\n",
    "first.update(second)\n",
    "print(first)"
   ]
  },
  {
   "cell_type": "markdown",
   "metadata": {},
   "source": [
    "### 삭제하기 : del(), clear()\n",
    "한개의 키와 값을 삭제하려면 del(), 모두 삭제하기 위해선 clear()"
   ]
  },
  {
   "cell_type": "code",
   "execution_count": 16,
   "metadata": {},
   "outputs": [
    {
     "name": "stdout",
     "output_type": "stream",
     "text": [
      "{'Chapman': 'Graham', 'Cleese': 'John', 'Idle': 'Eric', 'Jones': 'Terry', 'Palin': 'Michael', 'Gilliam': 'Terry', 'Marx': 'Groucho', 'Howard': 'Moe'}\n",
      "{'Chapman': 'Graham', 'Cleese': 'John', 'Idle': 'Eric', 'Jones': 'Terry', 'Palin': 'Michael', 'Gilliam': 'Terry', 'Howard': 'Moe'}\n"
     ]
    }
   ],
   "source": [
    "# del() 사용해서 Marx 없애기.\n",
    "print(pythons)\n",
    "del pythons['Marx']\n",
    "print(pythons)"
   ]
  },
  {
   "cell_type": "code",
   "execution_count": 18,
   "metadata": {},
   "outputs": [
    {
     "name": "stdout",
     "output_type": "stream",
     "text": [
      "{}\n"
     ]
    }
   ],
   "source": [
    "# clear() 사용하기.\n",
    "pythons.clear()\n",
    "print(pythons)"
   ]
  },
  {
   "cell_type": "markdown",
   "metadata": {},
   "source": [
    "### in으로 키 멤버쉽 테스트하기.\n",
    "딕셔너리에 키가 존재하는 지 알아보기 위해서 in을 사용한다. "
   ]
  },
  {
   "cell_type": "code",
   "execution_count": 20,
   "metadata": {},
   "outputs": [
    {
     "name": "stdout",
     "output_type": "stream",
     "text": [
      "{'Chapman': 'Graham', 'Cleese': 'John', 'Idle': 'Eric', 'Jones': 'Terry', 'Palin': 'Michael'}\n"
     ]
    }
   ],
   "source": [
    "pythons = {'Chapman' : \"Graham\", \n",
    "          \"Cleese\" : \"John\", \n",
    "           \"Idle\" : \"Eric\", \n",
    "           \"Jones\" : \"Terry\", \n",
    "           \"Palin\" : \"Michael\"\n",
    "          }\n",
    "print(pythons)"
   ]
  },
  {
   "cell_type": "code",
   "execution_count": 21,
   "metadata": {},
   "outputs": [
    {
     "name": "stdout",
     "output_type": "stream",
     "text": [
      "True\n"
     ]
    }
   ],
   "source": [
    "print('Chapman' in pythons)"
   ]
  },
  {
   "cell_type": "code",
   "execution_count": 22,
   "metadata": {},
   "outputs": [
    {
     "name": "stdout",
     "output_type": "stream",
     "text": [
      "True\n"
     ]
    }
   ],
   "source": [
    "print('Idle' in pythons)"
   ]
  },
  {
   "cell_type": "markdown",
   "metadata": {},
   "source": [
    "### 모든 키 얻기 : keys()\n",
    "딕셔너리의 모든 키를 가져오기 위해선 keys()를 사용한다. "
   ]
  },
  {
   "cell_type": "code",
   "execution_count": 23,
   "metadata": {},
   "outputs": [
    {
     "name": "stdout",
     "output_type": "stream",
     "text": [
      "dict_keys(['green', 'yellow', 'red'])\n"
     ]
    }
   ],
   "source": [
    "signals = {'green' : 'go', 'yellow' : \"go faster\", 'red' : \"smile for the camera\"}\n",
    "print(signals.keys())"
   ]
  },
  {
   "cell_type": "markdown",
   "metadata": {},
   "source": [
    "### 모든 값 얻기 : values()\n",
    "딕셔너리의 모든 값을 가져오기 위해서는 values()를 사용한다. "
   ]
  },
  {
   "cell_type": "code",
   "execution_count": 25,
   "metadata": {},
   "outputs": [
    {
     "name": "stdout",
     "output_type": "stream",
     "text": [
      "['go', 'go faster', 'smile for the camera']\n"
     ]
    }
   ],
   "source": [
    "print(list(signals.values()))"
   ]
  },
  {
   "cell_type": "markdown",
   "metadata": {},
   "source": [
    "### 모든 쌍의 키-값 : items()\n",
    "모든 키와 값의 쌍을 얻기 위해선 items()를 사용한다. "
   ]
  },
  {
   "cell_type": "code",
   "execution_count": 26,
   "metadata": {},
   "outputs": [
    {
     "name": "stdout",
     "output_type": "stream",
     "text": [
      "[('green', 'go'), ('yellow', 'go faster'), ('red', 'smile for the camera')]\n"
     ]
    }
   ],
   "source": [
    "print(list(signals.items()))"
   ]
  },
  {
   "cell_type": "markdown",
   "metadata": {},
   "source": [
    "### 할당 : =, 복사 : copy()\n",
    "리스트와 마찬가지로 딕셔너리를 할당 한후 변경하면 같은 객체를 가리키고 있기 때문에 반영된다. \n",
    "그래서 copy()를 사용한다. "
   ]
  },
  {
   "cell_type": "code",
   "execution_count": 27,
   "metadata": {},
   "outputs": [
    {
     "name": "stdout",
     "output_type": "stream",
     "text": [
      "{'green': 'go', 'yellow': 'go faster', 'red': 'smile for the camera'}\n",
      "{'green': 'go', 'yellow': 'go faster', 'red': 'smile for the camera'}\n",
      "2039003761976 2039003761976\n",
      "{'green': 'go', 'yellow': 'go faster', 'red': 'smile for the camera', 'bule': 'confuse everyone'}\n"
     ]
    }
   ],
   "source": [
    "signals = {'green' : 'go', 'yellow' : \"go faster\", 'red' : \"smile for the camera\"}\n",
    "save_signals = signals\n",
    "print(signals)\n",
    "print(save_signals)\n",
    "print(id(signals), id(save_signals))\n",
    "signals['bule'] = 'confuse everyone'\n",
    "print(save_signals)"
   ]
  },
  {
   "cell_type": "code",
   "execution_count": 28,
   "metadata": {},
   "outputs": [
    {
     "name": "stdout",
     "output_type": "stream",
     "text": [
      "{'green': 'go', 'yellow': 'go faster', 'red': 'smile for the camera', 'bule': 'confuse everyone'}\n",
      "{'green': 'go', 'yellow': 'go faster', 'red': 'smile for the camera', 'bule': 'confuse everyone', 'black': 'stop'}\n",
      "2039003761976 2039003098928\n"
     ]
    }
   ],
   "source": [
    "copy_signals = signals.copy()\n",
    "signals['black'] = 'stop'\n",
    "print(copy_signals)\n",
    "print(signals)\n",
    "print(id(signals), id(copy_signals))"
   ]
  },
  {
   "cell_type": "markdown",
   "metadata": {},
   "source": [
    "# Set\n",
    "셋은 값은 버리고 키만 남은 딕셔너리와 같다. 딕셔너리와 마찬가지로 각 키는 유일해야 한다. 어떤 것이 존재하는 지 여부만 판단하기 위해서는 셋을 사용한다. "
   ]
  },
  {
   "cell_type": "markdown",
   "metadata": {},
   "source": [
    "### 셋 생성하기 : set()\n",
    "셋을 생성할 때 다음과 같이 set()함수나 중괄호({})안에 콤마로 구분된 하나 이상의 값을 넣으면 된다. \n",
    "\n",
    "[]가 빈 리스트를 생성한 것 처럼 {}가 빈 셋을 생성할꺼라고 착각할 수 있다. 하지만, {}는 빈 딕셔너리를 생성한다. 왜냐하면, 파이썬에서는 딕셔너리가 먼저 등장하였기 떄문이다. "
   ]
  },
  {
   "cell_type": "code",
   "execution_count": 29,
   "metadata": {},
   "outputs": [
    {
     "name": "stdout",
     "output_type": "stream",
     "text": [
      "set()\n",
      "{0, 2, 4, 6, 8}\n",
      "<class 'dict'>\n"
     ]
    }
   ],
   "source": [
    "empty_set = set()\n",
    "print(empty_set)\n",
    "\n",
    "even_numbers = {0,2,4,6,8}\n",
    "print(even_numbers)\n",
    "\n",
    "empty_set_2 = {}\n",
    "print(type(empty_set_2)) #empty_set_2같은 경우 {}로 생성할려고 하면 dictionary가 생성된다. "
   ]
  },
  {
   "cell_type": "markdown",
   "metadata": {},
   "source": [
    "### 데이터 타입 변환하기.\n",
    "리스트, 문자열, 튜플, 딕셔너리로부터 중복된 값을 버린 셋을 생성할 수 있다. "
   ]
  },
  {
   "cell_type": "code",
   "execution_count": 30,
   "metadata": {},
   "outputs": [
    {
     "name": "stdout",
     "output_type": "stream",
     "text": [
      "{'l', 't', 'e', 's', 'r'}\n"
     ]
    }
   ],
   "source": [
    "# 문자열 set으로 변환하기.\n",
    "print(set('letters'))"
   ]
  },
  {
   "cell_type": "code",
   "execution_count": 31,
   "metadata": {},
   "outputs": [
    {
     "name": "stdout",
     "output_type": "stream",
     "text": [
      "{'Bulls', 'Kim', 'Dasher'}\n"
     ]
    }
   ],
   "source": [
    "# 리스트를 셋으로 변환하기.\n",
    "print(set(['Dasher', 'Bulls', 'Bulls', 'Kim']))"
   ]
  },
  {
   "cell_type": "code",
   "execution_count": 32,
   "metadata": {},
   "outputs": [
    {
     "name": "stdout",
     "output_type": "stream",
     "text": [
      "{'Bulls', 'Kim', 'Dasher'}\n"
     ]
    }
   ],
   "source": [
    "# 튜플을 셋으로 변환하기.\n",
    "print(set(('Dasher', 'Bulls', 'Bulls', 'Kim')))"
   ]
  },
  {
   "cell_type": "code",
   "execution_count": 33,
   "metadata": {},
   "outputs": [
    {
     "name": "stdout",
     "output_type": "stream",
     "text": [
      "{'a', 'c'}\n"
     ]
    }
   ],
   "source": [
    "# 딕셔너리에 set()을 사용하면 키만 사용한다. \n",
    "print(set(dict(['ab', 'cd'])))"
   ]
  },
  {
   "cell_type": "markdown",
   "metadata": {},
   "source": [
    "### in으로 값 멤버십 테스트하기.\n",
    "in을 사용한 방식이 일반적으로 셋이 사용되는 용도이다. "
   ]
  },
  {
   "cell_type": "code",
   "execution_count": 34,
   "metadata": {},
   "outputs": [],
   "source": [
    "# 예를 들어, 아래와 같은 딕셔너리가 있다고 하자. \n",
    "drinks = {\n",
    "    'martini' : {'vodka', 'vermouth'},\n",
    "    'black russian' : {'vodka', 'kahlua'}, \n",
    "    'white russian' : {'cream', 'kahlua', 'vodka'},\n",
    "    \"manhattan\" : {\"rye\", 'vermouth', 'bitters'}, \n",
    "    'screwdriver' : {\"orange juice\", 'vodka'}    \n",
    "}"
   ]
  },
  {
   "cell_type": "code",
   "execution_count": 35,
   "metadata": {},
   "outputs": [
    {
     "name": "stdout",
     "output_type": "stream",
     "text": [
      "martini\n",
      "black russian\n",
      "white russian\n",
      "screwdriver\n"
     ]
    }
   ],
   "source": [
    "for name, contents in drinks.items():\n",
    "    if 'vodka' in contents:\n",
    "        print(name)"
   ]
  },
  {
   "cell_type": "markdown",
   "metadata": {},
   "source": [
    "### 콤비네이션과 연산자.\n"
   ]
  }
 ],
 "metadata": {
  "kernelspec": {
   "display_name": "Python 3",
   "language": "python",
   "name": "python3"
  },
  "language_info": {
   "codemirror_mode": {
    "name": "ipython",
    "version": 3
   },
   "file_extension": ".py",
   "mimetype": "text/x-python",
   "name": "python",
   "nbconvert_exporter": "python",
   "pygments_lexer": "ipython3",
   "version": "3.7.3"
  }
 },
 "nbformat": 4,
 "nbformat_minor": 2
}
