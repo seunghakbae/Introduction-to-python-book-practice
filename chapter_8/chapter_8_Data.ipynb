{
 "cells": [
  {
   "cell_type": "markdown",
   "metadata": {},
   "source": [
    "# 흘러가는 데이터\n",
    "\n",
    "활성화된 프로그램은 데이터를 RAM에 저장한다. 램은 아주 빠르지만 비싸고 일정한 전력 공급을 필요로 한다. 그래서 컴퓨터 시스템 개발자들은 디스크와 램 사이의 격차를 줄이기 위해 노력을 해왔다. 프로그래머는 디스크와 같은 비휘발성 장치를 사용하여 데이터를 저장하고 복구할 수 있는 지속성이 필요했다. \n",
    "\n",
    "이 장에서는 일반 파일, 구조화된 파일, 데이터베이스와 같이 특수 목적에 맞게 최적화된 데이터 스토리지의 각 특징에 대해 살펴본다. "
   ]
  },
  {
   "cell_type": "markdown",
   "metadata": {},
   "source": [
    "# 파일 입출력\n",
    "\n",
    "데이터를 가장 간단하게 지속하려면 보통 파일(plain file)을 사용한다. 이것을 플랫 파일(flat file)이라고도 부른다. \n",
    "\n",
    "파일은 단지 파일이름(filename)으로 저장된 바이트 시퀀스다. \n",
    "\n",
    "파일로부터 데이터를 읽어서 메모리에 적재하고, 메모리에서 파일로 데이터를 쓴다. \n",
    "\n",
    "파일을 읽기전 파일을 열어야 한다. \n",
    "\n",
    "fileobj = open(filename, mode)\n",
    "\n",
    "mode의 첫 번째 글자는 작업을 명시한다. \n",
    "\n",
    "- r : 파일 읽기. \n",
    "- w : 파일 쓰기. (파일이 존재하지 않으면 파일을 생성하고, 파일이 존재하면 덮어쓴다)\n",
    "- x : 파일 쓰기. (파일이 존재하지 않을 경우에만 해당한다)\n",
    "- a : 파일 추가하기. (파일이 존재하면 파일의 끝에서부터 쓴다)\n",
    "\n",
    "mode 의 두번 째 글자는 파일 타입을 명시한다. \n",
    "\n",
    "- t (또는 아무것도 명시하지 않음) : 텍스트 타입\n",
    "- b : 이진(binary) 타입"
   ]
  },
  {
   "cell_type": "markdown",
   "metadata": {},
   "source": [
    "### 텍스트 파일 쓰기 : write()"
   ]
  },
  {
   "cell_type": "code",
   "execution_count": 1,
   "metadata": {},
   "outputs": [],
   "source": [
    "poem = \"\"\"There was a young lady named Bright, \n",
    "Whose speed was far faster than light;\n",
    "She started one day\n",
    "In a relative way,\n",
    "And returned on the previous night.\n",
    "\"\"\""
   ]
  },
  {
   "cell_type": "code",
   "execution_count": 2,
   "metadata": {},
   "outputs": [
    {
     "data": {
      "text/plain": [
       "152"
      ]
     },
     "execution_count": 2,
     "metadata": {},
     "output_type": "execute_result"
    }
   ],
   "source": [
    "len(poem)"
   ]
  },
  {
   "cell_type": "code",
   "execution_count": 3,
   "metadata": {},
   "outputs": [
    {
     "data": {
      "text/plain": [
       "152"
      ]
     },
     "execution_count": 3,
     "metadata": {},
     "output_type": "execute_result"
    }
   ],
   "source": [
    "fout = open('relativity', 'wt')\n",
    "fout.write(poem)"
   ]
  },
  {
   "cell_type": "code",
   "execution_count": 4,
   "metadata": {},
   "outputs": [],
   "source": [
    "fout.close()"
   ]
  },
  {
   "cell_type": "markdown",
   "metadata": {},
   "source": [
    "write() 함수는 파일에 쓴 바이트수를 반환한다. write()함수는 print()함수처럼 스페이스나 줄바꿈을 추가하지 않는다. 다음은 print()함수로 텍스트 파일을 만드는 예제다. "
   ]
  },
  {
   "cell_type": "code",
   "execution_count": 5,
   "metadata": {},
   "outputs": [],
   "source": [
    "fout = open('relativity', 'wt')\n",
    "print(poem, file = fout)\n",
    "fout.close()"
   ]
  },
  {
   "cell_type": "markdown",
   "metadata": {},
   "source": [
    "write()를 사용할까 print()를 사용할까? 기본적으로 print()는 각 인자 뒤에 스페이스를 끝에 줄바꿈을 추가한다. 이전 예제에서는 relativity파일에 줄바꿈이 추가되었다. print()를 write()처럼 작동하려면 print()에 다음 두 인자를 전달한다. \n",
    "\n",
    "sep(구분자 separator, 기본값은 스페이스(\"\")다)\n",
    "end(문자열 끝 end string, 기본값은 줄바꿈('\\n')이다.)"
   ]
  },
  {
   "cell_type": "code",
   "execution_count": 6,
   "metadata": {},
   "outputs": [],
   "source": [
    "fout = open('relativity', 'wt')\n",
    "print(poem, file = fout, sep = '', end='')\n",
    "fout.close()"
   ]
  },
  {
   "cell_type": "markdown",
   "metadata": {},
   "source": [
    "파일에 쓸 문자열이 크면 특정 단위로 나누어서 파일에 쓴다. "
   ]
  },
  {
   "cell_type": "code",
   "execution_count": 11,
   "metadata": {},
   "outputs": [
    {
     "name": "stdout",
     "output_type": "stream",
     "text": [
      "100\n",
      "200\n"
     ]
    }
   ],
   "source": [
    "fout = open('relativity', 'wt')\n",
    "size = len(poem)\n",
    "offset = 0\n",
    "chunk = 100\n",
    "\n",
    "while True:\n",
    "    if offset > size:\n",
    "        break\n",
    "    fout.write(poem[offset:offset+chunk])\n",
    "    offset += chunk\n",
    "    print(offset)\n",
    "    \n",
    "fout.close()"
   ]
  },
  {
   "cell_type": "markdown",
   "metadata": {},
   "source": [
    "만일 relativity파일이 중요하다면 모드 x를 사용하여 파일을 덮어쓰지 않도록 한다. "
   ]
  },
  {
   "cell_type": "code",
   "execution_count": 13,
   "metadata": {},
   "outputs": [
    {
     "ename": "FileExistsError",
     "evalue": "[Errno 17] File exists: 'relativity'",
     "output_type": "error",
     "traceback": [
      "\u001b[1;31m---------------------------------------------------------------------------\u001b[0m",
      "\u001b[1;31mFileExistsError\u001b[0m                           Traceback (most recent call last)",
      "\u001b[1;32m<ipython-input-13-e76edf949aa7>\u001b[0m in \u001b[0;36m<module>\u001b[1;34m\u001b[0m\n\u001b[1;32m----> 1\u001b[1;33m \u001b[0mfout\u001b[0m \u001b[1;33m=\u001b[0m \u001b[0mopen\u001b[0m\u001b[1;33m(\u001b[0m\u001b[1;34m'relativity'\u001b[0m\u001b[1;33m,\u001b[0m \u001b[1;34m'xt'\u001b[0m\u001b[1;33m)\u001b[0m\u001b[1;33m\u001b[0m\u001b[1;33m\u001b[0m\u001b[0m\n\u001b[0m",
      "\u001b[1;31mFileExistsError\u001b[0m: [Errno 17] File exists: 'relativity'"
     ]
    }
   ],
   "source": [
    "fout = open('relativity', 'xt')"
   ]
  },
  {
   "cell_type": "code",
   "execution_count": 14,
   "metadata": {},
   "outputs": [
    {
     "name": "stdout",
     "output_type": "stream",
     "text": [
      "file already exists!\n"
     ]
    }
   ],
   "source": [
    "# 이를 예외처리 할 수 있다. \n",
    "try:\n",
    "    fout = open('relativity', 'xt')\n",
    "    fout.write('stomp stomp stomp')\n",
    "except FileExistsError:\n",
    "    print('file already exists!')"
   ]
  },
  {
   "cell_type": "markdown",
   "metadata": {},
   "source": [
    "### 텍스트 파일 읽기 :read(), readline(), readlines()\n",
    "\n",
    "read()함수를 인자 없이 호출하여 한 번에 전체 파일을 읽을 수 있다. "
   ]
  },
  {
   "cell_type": "code",
   "execution_count": 15,
   "metadata": {},
   "outputs": [
    {
     "name": "stdout",
     "output_type": "stream",
     "text": [
      "There was a young lady named Bright, \n",
      "Whose speed was far faster than light;\n",
      "She started one day\n",
      "In a relative way,\n",
      "And returned on the previous night.\n",
      "\n"
     ]
    }
   ],
   "source": [
    "fin = open('relativity', 'rt')\n",
    "poem = fin.read()\n",
    "fin.close()\n",
    "\n",
    "print(poem)"
   ]
  },
  {
   "cell_type": "markdown",
   "metadata": {},
   "source": [
    "한 번에 읽을 수 있는 크기를 제한 할 수 있다. 최대 문자수를 인자로 입력하자."
   ]
  },
  {
   "cell_type": "code",
   "execution_count": 16,
   "metadata": {},
   "outputs": [
    {
     "name": "stdout",
     "output_type": "stream",
     "text": [
      "There was a young lady named Bright, \n",
      "Whose speed was far faster than light;\n",
      "She started one day\n",
      "In a relative way,\n",
      "And returned on the previous night.\n",
      "\n"
     ]
    }
   ],
   "source": [
    "poem = ''\n",
    "fin = open('relativity', 'rt')\n",
    "chunk = 100\n",
    "\n",
    "while True:\n",
    "    fragment = fin.read(chunk)\n",
    "    if not fragment:\n",
    "        break\n",
    "    poem += fragment\n",
    "    \n",
    "fin.close()\n",
    "\n",
    "print(poem)"
   ]
  },
  {
   "cell_type": "markdown",
   "metadata": {},
   "source": [
    "readline()함수를 사용하여 파일을 라인 단위로 읽을 수 있다. "
   ]
  },
  {
   "cell_type": "code",
   "execution_count": 17,
   "metadata": {},
   "outputs": [
    {
     "name": "stdout",
     "output_type": "stream",
     "text": [
      "There was a young lady named Bright, \n",
      "Whose speed was far faster than light;\n",
      "She started one day\n",
      "In a relative way,\n",
      "And returned on the previous night.\n",
      "\n"
     ]
    }
   ],
   "source": [
    "poem = ''\n",
    "fin = open('relativity', 'rt')\n",
    "\n",
    "while True:\n",
    "    line = fin.readline()\n",
    "    \n",
    "    if not line:\n",
    "        break\n",
    "    poem += line\n",
    "\n",
    "fin.close()\n",
    "print(poem)"
   ]
  },
  {
   "cell_type": "markdown",
   "metadata": {},
   "source": [
    "텍스트 파일을 가장 읽기 쉬운 방법은 이터레이터를 사용하는 것이다."
   ]
  },
  {
   "cell_type": "code",
   "execution_count": 21,
   "metadata": {},
   "outputs": [
    {
     "name": "stdout",
     "output_type": "stream",
     "text": [
      "There was a young lady named Bright, \n",
      "\n",
      "Whose speed was far faster than light;\n",
      "\n",
      "She started one day\n",
      "\n",
      "In a relative way,\n",
      "\n",
      "And returned on the previous night.\n",
      "\n",
      "<class '_io.TextIOWrapper'>\n"
     ]
    }
   ],
   "source": [
    "poem = ''\n",
    "fin = open('relativity', 'rt')\n",
    "\n",
    "for line in fin:\n",
    "    print(line)\n",
    "    poem += line\n",
    "    \n",
    "\n",
    "print(type(fin))\n",
    "fin.close()"
   ]
  },
  {
   "cell_type": "markdown",
   "metadata": {},
   "source": [
    "readlines()를 사용하여 한 번에 모든 라인을 읽을 수도 있다. "
   ]
  },
  {
   "cell_type": "code",
   "execution_count": 23,
   "metadata": {},
   "outputs": [
    {
     "name": "stdout",
     "output_type": "stream",
     "text": [
      "['There was a young lady named Bright, \\n', 'Whose speed was far faster than light;\\n', 'She started one day\\n', 'In a relative way,\\n', 'And returned on the previous night.\\n']\n"
     ]
    }
   ],
   "source": [
    "fin = open('relativity', 'rt')\n",
    "\n",
    "lines = fin.readlines()\n",
    "print(lines)\n",
    "fin.close()"
   ]
  },
  {
   "cell_type": "markdown",
   "metadata": {},
   "source": [
    "### 자동으로 파일 닫기 : with\n",
    "\n",
    "파이썬에서는 파일을 여는 것과 같은 일을 수행하는 콘텍스트 매니저(context manager)가 있다. 파일을 열 때 with 표현식 as 변수 형식을 사용한다. "
   ]
  },
  {
   "cell_type": "code",
   "execution_count": 24,
   "metadata": {},
   "outputs": [],
   "source": [
    "with open('relativity', 'wt') as fout:\n",
    "    fout.write(poem)"
   ]
  },
  {
   "cell_type": "markdown",
   "metadata": {},
   "source": [
    "### 파일 위치 찾기 : seek()\n",
    "\n",
    "파일을 읽고 쓸 때 파이썬은 파일에서 위치를 추적한다. tell()함수는 파일의 시작으로부터의 현재 오프셋을 바이트단위로 반환한다. "
   ]
  },
  {
   "cell_type": "code",
   "execution_count": 25,
   "metadata": {},
   "outputs": [
    {
     "data": {
      "text/plain": [
       "0"
      ]
     },
     "execution_count": 25,
     "metadata": {},
     "output_type": "execute_result"
    }
   ],
   "source": [
    "fin = open('relativity', 'rb')\n",
    "fin.tell()"
   ]
  },
  {
   "cell_type": "code",
   "execution_count": 28,
   "metadata": {},
   "outputs": [
    {
     "name": "stdout",
     "output_type": "stream",
     "text": [
      "b'In a relative way,\\r\\nAnd returned on the previous night.\\r\\n'\n"
     ]
    }
   ],
   "source": [
    "# seek()함수를 사용하여 이동하여 보자. \n",
    "fin.seek(100)\n",
    "temp = fin.read()\n",
    "print(temp)\n",
    "fin.close()"
   ]
  },
  {
   "cell_type": "markdown",
   "metadata": {},
   "source": [
    "# 구조화된 텍스트 파일.\n",
    "\n",
    "구조화된 텍스트 파일 형식은 아주 많지만, 대표적으로 몇 가지 형식을 살펴보자. \n",
    "\n",
    "- 탭('\\t'), 콤마(','), 수직 바('|')와 같은 문자를 구분자(separator) 혹은 분리자(delimiter)로 사용한다. 여기에서는 CSV를 다룬다. \n",
    "- 태그를 '<'와'>'로 둘러싼다. 여기서는 XML과 HTML을 다룬다. \n",
    "- 구두점을 사용한다. 여기서는 JSON을 다룬다. \n",
    "- 들여쓰기를 사용한다. 여기에는 YAML을 다룬다. \n",
    "- 프로그램 설정 파일고 ㅏ같은 여러 가지 형식을 사용한다. "
   ]
  },
  {
   "cell_type": "markdown",
   "metadata": {},
   "source": [
    "# CSV\n",
    "\n",
    "구분된 파일(delimited file)은 스프레드시트와 데이터베이스의 교환 형식으로 자주 사용된다. \n",
    "- 어떤 것은 콤마 대신 수직 바('|')나 탭('\\t')문자를 사용한다. \n",
    "- 어떤 것은 이스케이프 시퀀스를 사용한다. \n",
    "- 파일은 운영체제에 따라 줄바꿈 문자가 다르다. 유닉스는 '\\n', 마이크로소프트는 '\\r\\n', 애플은 '\\r'을 썼지만 현재는 '\\n'을 사용한다. "
   ]
  },
  {
   "cell_type": "code",
   "execution_count": 35,
   "metadata": {},
   "outputs": [],
   "source": [
    "import csv\n",
    "\n",
    "villains = [['Doctor', 'No'],['Rosa', 'Klebb'],['Mister', 'Big'], ['Auric', 'Goldfinger'], ['Ernst', 'Blofeld']]\n",
    "\n",
    "with open('villains', 'wt') as fout:\n",
    "    csvout = csv.writer(fout)\n",
    "    csvout.writerows(villains)"
   ]
  },
  {
   "cell_type": "code",
   "execution_count": 36,
   "metadata": {},
   "outputs": [
    {
     "name": "stdout",
     "output_type": "stream",
     "text": [
      "[['Doctor', 'No'], [], ['Rosa', 'Klebb'], [], ['Mister', 'Big'], [], ['Auric', 'Goldfinger'], [], ['Ernst', 'Blofeld'], []]\n"
     ]
    }
   ],
   "source": [
    "with open('villains', 'rt') as fin:\n",
    "    cin = csv.reader(fin)\n",
    "    villains = [row for row in cin]\n",
    "    \n",
    "print(villains)"
   ]
  },
  {
   "cell_type": "markdown",
   "metadata": {},
   "source": [
    "리스트의 리스트가 아닌 딕셔너리의 리스트로 데이터를 만들 수 있다. DictReader()함수를 사용하자."
   ]
  },
  {
   "cell_type": "code",
   "execution_count": 38,
   "metadata": {},
   "outputs": [],
   "source": [
    "import csv\n",
    "with open('villains', 'rt') as fin:\n",
    "    cin = csv.DictReader(fin, fieldnames=['first', 'last'])\n",
    "    villains = [row for row in cin]"
   ]
  },
  {
   "cell_type": "code",
   "execution_count": 40,
   "metadata": {},
   "outputs": [
    {
     "name": "stdout",
     "output_type": "stream",
     "text": [
      "[OrderedDict([('first', 'Doctor'), ('last', 'No')]),\n",
      " OrderedDict([('first', 'Rosa'), ('last', 'Klebb')]),\n",
      " OrderedDict([('first', 'Mister'), ('last', 'Big')]),\n",
      " OrderedDict([('first', 'Auric'), ('last', 'Goldfinger')]),\n",
      " OrderedDict([('first', 'Ernst'), ('last', 'Blofeld')])]\n"
     ]
    }
   ],
   "source": [
    "from pprint import pprint\n",
    "\n",
    "pprint(villains)"
   ]
  },
  {
   "cell_type": "code",
   "execution_count": 44,
   "metadata": {},
   "outputs": [],
   "source": [
    "# DictWriter()함수를 사용하여 CSV파일을 다시 써보자. \n",
    "import csv\n",
    "villains = [\n",
    "    {'first': 'Doctor', 'last': 'No'},\n",
    " {'first': 'Rosa', 'last': 'Klebb'},\n",
    " {'first': 'Mister', 'last':'Big'},\n",
    " {'first': 'Auric', 'last': 'Goldfinger'},\n",
    " {'first': 'Ernst', 'last': 'Blofeld'}]\n",
    "\n",
    "with open('villains', 'wt') as fout:\n",
    "    cout = csv.DictWriter(fout, ['first','last'])\n",
    "    cout.writeheader()\n",
    "    cout.writerows(villains)"
   ]
  },
  {
   "cell_type": "code",
   "execution_count": 45,
   "metadata": {},
   "outputs": [],
   "source": [
    "with open('villains', 'rt') as fin:\n",
    "    cin = csv.DictReader(fin)\n",
    "    villains = [row for row in cin]"
   ]
  },
  {
   "cell_type": "code",
   "execution_count": 46,
   "metadata": {},
   "outputs": [
    {
     "name": "stdout",
     "output_type": "stream",
     "text": [
      "[OrderedDict([('first', 'Doctor'), ('last', 'No')]), OrderedDict([('first', 'Rosa'), ('last', 'Klebb')]), OrderedDict([('first', 'Mister'), ('last', 'Big')]), OrderedDict([('first', 'Auric'), ('last', 'Goldfinger')]), OrderedDict([('first', 'Ernst'), ('last', 'Blofeld')])]\n"
     ]
    }
   ],
   "source": [
    "print(villains)"
   ]
  },
  {
   "cell_type": "markdown",
   "metadata": {},
   "source": [
    "# XML\n",
    "\n",
    "XML은 가장 잘 알려진 마크업 형식이다. XML은 데이터를 구분하기 위해 태그를 사용한다. \n",
    "\n",
    "XML은 데이터 피드(data feed)와 메시지 전송에 많이 쓰인다. 그리고 RSS(Rich Site Summary)와 아톰(Atom)같은 하위 형식이 있다. 일부는 금융 분야와 같은 특화된 XML형식을 가진다. \n",
    "\n",
    "XML의 두드러진 유연성은 접근법(approach)과 능력(capability)이 다른 여러 파이썬 라이브러리에 영향을 미쳤다. \n",
    "\n",
    "XML을 파싱(해석)하는 간단한 방법은 ElementTree 모듈을 사용하는 것이다. menu.xml을 파싱하여 태그와 속성을 출력하는 작은 프로그램을 만들어 보자. "
   ]
  },
  {
   "cell_type": "code",
   "execution_count": null,
   "metadata": {},
   "outputs": [],
   "source": []
  }
 ],
 "metadata": {
  "kernelspec": {
   "display_name": "Python 3",
   "language": "python",
   "name": "python3"
  },
  "language_info": {
   "codemirror_mode": {
    "name": "ipython",
    "version": 3
   },
   "file_extension": ".py",
   "mimetype": "text/x-python",
   "name": "python",
   "nbconvert_exporter": "python",
   "pygments_lexer": "ipython3",
   "version": "3.7.3"
  }
 },
 "nbformat": 4,
 "nbformat_minor": 2
}
