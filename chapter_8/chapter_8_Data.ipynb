{
 "cells": [
  {
   "cell_type": "markdown",
   "metadata": {},
   "source": [
    "# 흘러가는 데이터\n",
    "\n",
    "활성화된 프로그램은 데이터를 RAM에 저장한다. 램은 아주 빠르지만 비싸고 일정한 전력 공급을 필요로 한다. 그래서 컴퓨터 시스템 개발자들은 디스크와 램 사이의 격차를 줄이기 위해 노력을 해왔다. 프로그래머는 디스크와 같은 비휘발성 장치를 사용하여 데이터를 저장하고 복구할 수 있는 지속성이 필요했다. \n",
    "\n",
    "이 장에서는 일반 파일, 구조화된 파일, 데이터베이스와 같이 특수 목적에 맞게 최적화된 데이터 스토리지의 각 특징에 대해 살펴본다. "
   ]
  },
  {
   "cell_type": "markdown",
   "metadata": {},
   "source": [
    "# 파일 입출력\n",
    "\n",
    "데이터를 가장 간단하게 지속하려면 보통 파일(plain file)을 사용한다. 이것을 플랫 파일(flat file)이라고도 부른다. \n",
    "\n",
    "파일은 단지 파일이름(filename)으로 저장된 바이트 시퀀스다. \n",
    "\n",
    "파일로부터 데이터를 읽어서 메모리에 적재하고, 메모리에서 파일로 데이터를 쓴다. \n",
    "\n",
    "파일을 읽기전 파일을 열어야 한다. \n",
    "\n",
    "fileobj = open(filename, mode)\n",
    "\n",
    "mode의 첫 번째 글자는 작업을 명시한다. \n",
    "\n",
    "- r : 파일 읽기. \n",
    "- w : 파일 쓰기. (파일이 존재하지 않으면 파일을 생성하고, 파일이 존재하면 덮어쓴다)\n",
    "- x : 파일 쓰기. (파일이 존재하지 않을 경우에만 해당한다)\n",
    "- a : 파일 추가하기. (파일이 존재하면 파일의 끝에서부터 쓴다)\n",
    "\n",
    "mode 의 두번 째 글자는 파일 타입을 명시한다. \n",
    "\n",
    "- t (또는 아무것도 명시하지 않음) : 텍스트 타입\n",
    "- b : 이진(binary) 타입"
   ]
  },
  {
   "cell_type": "markdown",
   "metadata": {},
   "source": [
    "### 텍스트 파일 쓰기 : write()"
   ]
  },
  {
   "cell_type": "code",
   "execution_count": 3,
   "metadata": {},
   "outputs": [],
   "source": [
    "poem = \"\"\"There was a young lady named Bright, \n",
    "Whose speed was far faster than light;\n",
    "She started one day\n",
    "In a relative way,\n",
    "And returned on the previous night.\n",
    "\"\"\""
   ]
  },
  {
   "cell_type": "code",
   "execution_count": 4,
   "metadata": {},
   "outputs": [
    {
     "data": {
      "text/plain": [
       "152"
      ]
     },
     "execution_count": 4,
     "metadata": {},
     "output_type": "execute_result"
    }
   ],
   "source": [
    "len(poem)"
   ]
  },
  {
   "cell_type": "code",
   "execution_count": 5,
   "metadata": {},
   "outputs": [
    {
     "data": {
      "text/plain": [
       "152"
      ]
     },
     "execution_count": 5,
     "metadata": {},
     "output_type": "execute_result"
    }
   ],
   "source": [
    "fout = open('relativity', 'wt')\n",
    "fout.write(poem)"
   ]
  },
  {
   "cell_type": "code",
   "execution_count": 6,
   "metadata": {},
   "outputs": [],
   "source": [
    "fout.close()"
   ]
  },
  {
   "cell_type": "markdown",
   "metadata": {},
   "source": [
    "write() 함수는 파일에 쓴 바이트수를 반환한다. write()함수는 print()함수처럼 스페이스나 줄바꿈을 추가하지 않는다. 다음은 print()함수로 텍스트 파일을 만드는 예제다. "
   ]
  },
  {
   "cell_type": "code",
   "execution_count": 7,
   "metadata": {},
   "outputs": [],
   "source": [
    "fout = open('relativity', 'wt')\n",
    "print(poem, file = fout)\n",
    "fout.close()"
   ]
  },
  {
   "cell_type": "code",
   "execution_count": null,
   "metadata": {},
   "outputs": [],
   "source": []
  }
 ],
 "metadata": {
  "kernelspec": {
   "display_name": "Python 3",
   "language": "python",
   "name": "python3"
  },
  "language_info": {
   "codemirror_mode": {
    "name": "ipython",
    "version": 3
   },
   "file_extension": ".py",
   "mimetype": "text/x-python",
   "name": "python",
   "nbconvert_exporter": "python",
   "pygments_lexer": "ipython3",
   "version": "3.7.3"
  }
 },
 "nbformat": 4,
 "nbformat_minor": 2
}
