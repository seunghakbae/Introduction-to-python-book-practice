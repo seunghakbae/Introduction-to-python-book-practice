{
 "cells": [
  {
   "cell_type": "markdown",
   "metadata": {},
   "source": [
    "# 데커레이터\n",
    "\n",
    "가끔씩 소스 코드를 바꾸지 않고, 사용하고 있는 함수를 수정하고 싶을 때가 있다. 일반적인 예는 함수에 전달된 인자를 보기 위해 디버깅 문을 추가하는 것이다. \n",
    "\n",
    "데커레이터는 하나의 함수를 취해서 또 다른 함수를 반환하는 함수다. 데커레이터를 사용하기 위해서 다음을 사용한다. \n",
    "\n",
    "- *args와 **kwargs\n",
    "- 내부함수\n",
    "- 함수 인자\n",
    "\n"
   ]
  },
  {
   "cell_type": "markdown",
   "metadata": {},
   "source": [
    "document_it() 함수는 다음과 같은 데커레이터를 정의한다. \n",
    "\n",
    "- 함수 이름과 인자값을 출력한다. \n",
    "- 인자로 함수를 실행한다. \n",
    "- 결과를 출력한다. \n",
    "- 수정된 함수를 사용할 수 있도록 반환한다. "
   ]
  },
  {
   "cell_type": "code",
   "execution_count": 2,
   "metadata": {},
   "outputs": [],
   "source": [
    "def document_it(func):\n",
    "    def new_function(*args, **kwargs):\n",
    "        print('Running function:', func.__name__)\n",
    "        print('Positional arguments:', args)\n",
    "        print('Keyword arguments:',kwargs)\n",
    "        result = func(*args, **kwargs)\n",
    "        print('Result:', result)\n",
    "        return result\n",
    "    return new_function"
   ]
  },
  {
   "cell_type": "markdown",
   "metadata": {},
   "source": [
    "document_it() 함수에 어떤 func함수 이름을 전달하든지 간에 document_it() 함수에 추가 선언문이 포함된 새 함수를 얻는다. 데커레이터는 실제로 func함수로부터 코드를 실행하지 않는다. 하지만 document_it()함수로부터 func를 호출하여 결과뿐만 아니라 새로운 함수를 얻는다. "
   ]
  },
  {
   "cell_type": "code",
   "execution_count": 3,
   "metadata": {},
   "outputs": [],
   "source": [
    "# 그러면 데커레이터를 어떻게 사용할까?\n",
    "def add_ints(a,b):\n",
    "    return a + b"
   ]
  },
  {
   "cell_type": "code",
   "execution_count": 4,
   "metadata": {},
   "outputs": [
    {
     "data": {
      "text/plain": [
       "8"
      ]
     },
     "execution_count": 4,
     "metadata": {},
     "output_type": "execute_result"
    }
   ],
   "source": [
    "add_ints(3,5)"
   ]
  },
  {
   "cell_type": "code",
   "execution_count": 6,
   "metadata": {},
   "outputs": [
    {
     "name": "stdout",
     "output_type": "stream",
     "text": [
      "Running function: add_ints\n",
      "Positional arguments: (3, 5)\n",
      "Keyword arguments: {}\n",
      "Result: 8\n"
     ]
    },
    {
     "data": {
      "text/plain": [
       "8"
      ]
     },
     "execution_count": 6,
     "metadata": {},
     "output_type": "execute_result"
    }
   ],
   "source": [
    "cooler_add_ints = document_it(add_ints)\n",
    "cooler_add_ints(3,5)"
   ]
  },
  {
   "cell_type": "markdown",
   "metadata": {},
   "source": [
    "위와 같이 수동으로 데커레이터를 할당하는 대신, 다음과 같이 데커레이터를 사용하고 싶은 함수에 그냥 @데커레이터_이름을 추가한다."
   ]
  },
  {
   "cell_type": "code",
   "execution_count": 7,
   "metadata": {},
   "outputs": [],
   "source": [
    "@document_it\n",
    "def add_ints(a,b):\n",
    "    return a + b"
   ]
  },
  {
   "cell_type": "code",
   "execution_count": 8,
   "metadata": {},
   "outputs": [
    {
     "name": "stdout",
     "output_type": "stream",
     "text": [
      "Running function: add_ints\n",
      "Positional arguments: (3, 5)\n",
      "Keyword arguments: {}\n",
      "Result: 8\n"
     ]
    },
    {
     "data": {
      "text/plain": [
       "8"
      ]
     },
     "execution_count": 8,
     "metadata": {},
     "output_type": "execute_result"
    }
   ],
   "source": [
    "add_ints(3,5)"
   ]
  },
  {
   "cell_type": "markdown",
   "metadata": {},
   "source": [
    "함수는 여러 개의 데커레이터를 가질 수 있다. 결과 result를 제곱하는 square_it() 데커레이터를 작성해보자. "
   ]
  },
  {
   "cell_type": "code",
   "execution_count": 9,
   "metadata": {},
   "outputs": [],
   "source": [
    "def square_it(func):\n",
    "    def new_function(*args, **kwargs):\n",
    "        result = func(*args, **kwargs)\n",
    "        return result * result\n",
    "    return new_function"
   ]
  },
  {
   "cell_type": "markdown",
   "metadata": {},
   "source": [
    "함수에서 가장 가까운 데커레이터를 먼저 실행한 후, 그 위의 데커레이터가 실행된다. "
   ]
  },
  {
   "cell_type": "code",
   "execution_count": 10,
   "metadata": {},
   "outputs": [],
   "source": [
    "@document_it\n",
    "@square_it\n",
    "def add_ints(a,b):\n",
    "    return a + b"
   ]
  },
  {
   "cell_type": "code",
   "execution_count": 11,
   "metadata": {},
   "outputs": [
    {
     "name": "stdout",
     "output_type": "stream",
     "text": [
      "Running function: new_function\n",
      "Positional arguments: (3, 5)\n",
      "Keyword arguments: {}\n",
      "Result: 64\n"
     ]
    },
    {
     "data": {
      "text/plain": [
       "64"
      ]
     },
     "execution_count": 11,
     "metadata": {},
     "output_type": "execute_result"
    }
   ],
   "source": [
    "add_ints(3,5)"
   ]
  },
  {
   "cell_type": "code",
   "execution_count": 12,
   "metadata": {},
   "outputs": [],
   "source": [
    "@document_it\n",
    "def square(a):\n",
    "    return a*a"
   ]
  },
  {
   "cell_type": "code",
   "execution_count": 13,
   "metadata": {},
   "outputs": [
    {
     "name": "stdout",
     "output_type": "stream",
     "text": [
      "Running function: square\n",
      "Positional arguments: (5,)\n",
      "Keyword arguments: {}\n",
      "Result: 25\n"
     ]
    },
    {
     "data": {
      "text/plain": [
       "25"
      ]
     },
     "execution_count": 13,
     "metadata": {},
     "output_type": "execute_result"
    }
   ],
   "source": [
    "square(5)"
   ]
  },
  {
   "cell_type": "markdown",
   "metadata": {},
   "source": [
    "# 네임스페이스와 스코프\n",
    "\n",
    "이름(name)은 사용되는 위치에 따라 다른 것을 참조할 수 있다. \n",
    "\n",
    "메인 프로그램은 전역 네임스페이스를 정의한다. 이와 같이 이 네임스페이스의 변수들은 전역변수다. \n",
    "\n",
    "함수로 부터 전역 변수의 값을 얻을 수 있다. "
   ]
  },
  {
   "cell_type": "code",
   "execution_count": 14,
   "metadata": {},
   "outputs": [
    {
     "name": "stdout",
     "output_type": "stream",
     "text": [
      "at the top level: fruitbat\n",
      "inside print_global fruitbat\n"
     ]
    }
   ],
   "source": [
    "animal = 'fruitbat'\n",
    "\n",
    "def print_global():\n",
    "    print('inside print_global', animal)\n",
    "\n",
    "print('at the top level:', animal)\n",
    "print_global()"
   ]
  },
  {
   "cell_type": "markdown",
   "metadata": {},
   "source": [
    "만약 함수에서 전역 변수의 값을 얻어서 바꾸려 하면 에러가 발생한다. "
   ]
  },
  {
   "cell_type": "code",
   "execution_count": 15,
   "metadata": {},
   "outputs": [
    {
     "ename": "SyntaxError",
     "evalue": "invalid syntax (<ipython-input-15-2be3292ca9a3>, line 4)",
     "output_type": "error",
     "traceback": [
      "\u001b[1;36m  File \u001b[1;32m\"<ipython-input-15-2be3292ca9a3>\"\u001b[1;36m, line \u001b[1;32m4\u001b[0m\n\u001b[1;33m    print('after the change : 'animal)\u001b[0m\n\u001b[1;37m                                    ^\u001b[0m\n\u001b[1;31mSyntaxError\u001b[0m\u001b[1;31m:\u001b[0m invalid syntax\n"
     ]
    }
   ],
   "source": [
    "def change_and_print_global():\n",
    "    print('inside change_and_print_global', animal)\n",
    "    animal = 'wombat'\n",
    "    print('after the change : 'animal)"
   ]
  },
  {
   "cell_type": "markdown",
   "metadata": {},
   "source": [
    "그래서 함수 내에 지역변수로 animal을 선언해야 한다. "
   ]
  },
  {
   "cell_type": "code",
   "execution_count": 16,
   "metadata": {},
   "outputs": [],
   "source": [
    "def change_local():\n",
    "    animal = 'wombat'\n",
    "    print('inside change_local:', animal,id(animal))"
   ]
  },
  {
   "cell_type": "code",
   "execution_count": 22,
   "metadata": {},
   "outputs": [
    {
     "name": "stdout",
     "output_type": "stream",
     "text": [
      "inside change_local: wombat 2268203365744\n",
      "global :  fruitbat 2268203866608\n"
     ]
    }
   ],
   "source": [
    "change_local()\n",
    "print(\"global : \", animal, id(animal))"
   ]
  },
  {
   "cell_type": "markdown",
   "metadata": {},
   "source": [
    "함수 내의 지역 변수(local variable)이 아닌 전역 변수를 접근하기 위해 global 키워드를 사용해서 전역 변수의 접근을 명시해야 한다. "
   ]
  },
  {
   "cell_type": "code",
   "execution_count": 23,
   "metadata": {},
   "outputs": [],
   "source": [
    "def change_and_print_global():\n",
    "    global animal\n",
    "    animal = 'wombat'\n",
    "    print('inside change_and_print_global:', animal)"
   ]
  },
  {
   "cell_type": "code",
   "execution_count": 24,
   "metadata": {},
   "outputs": [
    {
     "name": "stdout",
     "output_type": "stream",
     "text": [
      "inside change_and_print_global: wombat\n"
     ]
    }
   ],
   "source": [
    "change_and_print_global()"
   ]
  },
  {
   "cell_type": "markdown",
   "metadata": {},
   "source": [
    "### locals()와 globals() 함수\n",
    "\n",
    "파이썬은 네임스페이스의 내용을 접근하기 위해 두 가지 함수를 제공한다. \n",
    "\n",
    "- locals() : 함수는 로컬 네임스페이스의 내용이 담긴 딕셔너리를 반환한다. \n",
    "- globals() : 함수는 글로벌 네임스페이스의 내용이 담긴 딕셔너리를 반환한다. "
   ]
  },
  {
   "cell_type": "code",
   "execution_count": 25,
   "metadata": {},
   "outputs": [
    {
     "name": "stdout",
     "output_type": "stream",
     "text": [
      "locals :  {'animal': 'wombat'}\n"
     ]
    }
   ],
   "source": [
    "animal = 'fruitbat'\n",
    "\n",
    "def change_local():\n",
    "    animal = 'wombat'\n",
    "    print('locals : ', locals())\n",
    "    \n",
    "change_local()"
   ]
  },
  {
   "cell_type": "code",
   "execution_count": 26,
   "metadata": {},
   "outputs": [
    {
     "name": "stdout",
     "output_type": "stream",
     "text": [
      "{'__name__': '__main__', '__doc__': 'Automatically created module for IPython interactive environment', '__package__': None, '__loader__': None, '__spec__': None, '__builtin__': <module 'builtins' (built-in)>, '__builtins__': <module 'builtins' (built-in)>, '_ih': ['', \"def document_it(func):\\n    def new_function(*args, **kwargs):\\n        print('Running function:', func.__name__)\\n        print('Positional arguments:', args)\\n        print('Keyword arguments:',kwargs)\\n        result = func(*args, **kwargs)\\n        print('Result:', result)\\n        return result\\n    return new_function\", \"def document_it(func):\\n    def new_function(*args, **kwargs):\\n        print('Running function:', func.__name__)\\n        print('Positional arguments:', args)\\n        print('Keyword arguments:',kwargs)\\n        result = func(*args, **kwargs)\\n        print('Result:', result)\\n        return result\\n    return new_function\", '# 그러면 데커레이터를 어떻게 사용할까?\\ndef add_ints(a,b):\\n    return a + b', 'add_ints(3,5)', 'cooler_add_ints = document_it(add_ints)', 'cooler_add_ints = document_it(add_ints)\\ncooler_add_ints(3,5)', '@document_it\\ndef add_ints(a,b):\\n    return a + b', 'add_ints(3,5)', 'def square_it(func):\\n    def new_function(*args, **kwargs):\\n        result = func(*args, **kwargs)\\n        return result * result\\n    return new_function', '@document_it\\n@square_it\\ndef add_ints(a,b):\\n    return a + b', 'add_ints(3,5)', '@document_it\\ndef square(a):\\n    return a*a', 'square(5)', \"animal = 'fruitbat'\\n\\ndef print_global():\\n    print('inside print_global', animal)\\n\\nprint('at the top level:', animal)\\nprint_global()\", \"def change_and_print_global():\\n    print('inside change_and_print_global', animal)\\n    animal = 'wombat'\\n    print('after the change : 'animal)\", \"def change_local():\\n    animal = 'wombat'\\n    print('inside change_local:', animal,id(animal))\", 'change_local()', 'change_local()\\nprint(animal, id(animal))', 'change_local()\\nprint(global : animal, id(animal))', 'change_local()\\nprint(\"global\" : animal, id(animal))', 'change_local()\\nprint(\"global : \" animal, id(animal))', 'change_local()\\nprint(\"global : \", animal, id(animal))', \"def change_and_print_global():\\n    global animal\\n    animal = 'wombat'\\n    print('inside change_and_print_global:', animal)\", 'change_and_print_global()', \"animal = 'fruitbat'\\n\\ndef change_local():\\n    animal = 'wombat'\\n    print('locals : ', locals())\\n    \\nchange_local()\", 'print(globals())'], '_oh': {4: 8, 6: 8, 8: 8, 11: 64, 13: 25}, '_dh': ['C:\\\\Users\\\\ASUS\\\\Programming\\\\Python\\\\Python_Language\\\\Introduction_to_Python\\\\chapter_4'], 'In': ['', \"def document_it(func):\\n    def new_function(*args, **kwargs):\\n        print('Running function:', func.__name__)\\n        print('Positional arguments:', args)\\n        print('Keyword arguments:',kwargs)\\n        result = func(*args, **kwargs)\\n        print('Result:', result)\\n        return result\\n    return new_function\", \"def document_it(func):\\n    def new_function(*args, **kwargs):\\n        print('Running function:', func.__name__)\\n        print('Positional arguments:', args)\\n        print('Keyword arguments:',kwargs)\\n        result = func(*args, **kwargs)\\n        print('Result:', result)\\n        return result\\n    return new_function\", '# 그러면 데커레이터를 어떻게 사용할까?\\ndef add_ints(a,b):\\n    return a + b', 'add_ints(3,5)', 'cooler_add_ints = document_it(add_ints)', 'cooler_add_ints = document_it(add_ints)\\ncooler_add_ints(3,5)', '@document_it\\ndef add_ints(a,b):\\n    return a + b', 'add_ints(3,5)', 'def square_it(func):\\n    def new_function(*args, **kwargs):\\n        result = func(*args, **kwargs)\\n        return result * result\\n    return new_function', '@document_it\\n@square_it\\ndef add_ints(a,b):\\n    return a + b', 'add_ints(3,5)', '@document_it\\ndef square(a):\\n    return a*a', 'square(5)', \"animal = 'fruitbat'\\n\\ndef print_global():\\n    print('inside print_global', animal)\\n\\nprint('at the top level:', animal)\\nprint_global()\", \"def change_and_print_global():\\n    print('inside change_and_print_global', animal)\\n    animal = 'wombat'\\n    print('after the change : 'animal)\", \"def change_local():\\n    animal = 'wombat'\\n    print('inside change_local:', animal,id(animal))\", 'change_local()', 'change_local()\\nprint(animal, id(animal))', 'change_local()\\nprint(global : animal, id(animal))', 'change_local()\\nprint(\"global\" : animal, id(animal))', 'change_local()\\nprint(\"global : \" animal, id(animal))', 'change_local()\\nprint(\"global : \", animal, id(animal))', \"def change_and_print_global():\\n    global animal\\n    animal = 'wombat'\\n    print('inside change_and_print_global:', animal)\", 'change_and_print_global()', \"animal = 'fruitbat'\\n\\ndef change_local():\\n    animal = 'wombat'\\n    print('locals : ', locals())\\n    \\nchange_local()\", 'print(globals())'], 'Out': {4: 8, 6: 8, 8: 8, 11: 64, 13: 25}, 'get_ipython': <bound method InteractiveShell.get_ipython of <ipykernel.zmqshell.ZMQInteractiveShell object at 0x000002101975FCF8>>, 'exit': <IPython.core.autocall.ZMQExitAutocall object at 0x000002101A2E0780>, 'quit': <IPython.core.autocall.ZMQExitAutocall object at 0x000002101A2E0780>, '_': 25, '__': 64, '___': 8, '_i': \"animal = 'fruitbat'\\n\\ndef change_local():\\n    animal = 'wombat'\\n    print('locals : ', locals())\\n    \\nchange_local()\", '_ii': 'change_and_print_global()', '_iii': \"def change_and_print_global():\\n    global animal\\n    animal = 'wombat'\\n    print('inside change_and_print_global:', animal)\", '_i1': \"def document_it(func):\\n    def new_function(*args, **kwargs):\\n        print('Running function:', func.__name__)\\n        print('Positional arguments:', args)\\n        print('Keyword arguments:',kwargs)\\n        result = func(*args, **kwargs)\\n        print('Result:', result)\\n        return result\\n    return new_function\", 'document_it': <function document_it at 0x000002101B6A8F28>, '_i2': \"def document_it(func):\\n    def new_function(*args, **kwargs):\\n        print('Running function:', func.__name__)\\n        print('Positional arguments:', args)\\n        print('Keyword arguments:',kwargs)\\n        result = func(*args, **kwargs)\\n        print('Result:', result)\\n        return result\\n    return new_function\", '_i3': '# 그러면 데커레이터를 어떻게 사용할까?\\ndef add_ints(a,b):\\n    return a + b', 'add_ints': <function document_it.<locals>.new_function at 0x000002101B735950>, '_i4': 'add_ints(3,5)', '_4': 8, '_i5': 'cooler_add_ints = document_it(add_ints)', 'cooler_add_ints': <function document_it.<locals>.new_function at 0x000002101B735AE8>, '_i6': 'cooler_add_ints = document_it(add_ints)\\ncooler_add_ints(3,5)', '_6': 8, '_i7': '@document_it\\ndef add_ints(a,b):\\n    return a + b', '_i8': 'add_ints(3,5)', '_8': 8, '_i9': 'def square_it(func):\\n    def new_function(*args, **kwargs):\\n        result = func(*args, **kwargs)\\n        return result * result\\n    return new_function', 'square_it': <function square_it at 0x000002101B735598>, '_i10': '@document_it\\n@square_it\\ndef add_ints(a,b):\\n    return a + b', '_i11': 'add_ints(3,5)', '_11': 64, '_i12': '@document_it\\ndef square(a):\\n    return a*a', 'square': <function document_it.<locals>.new_function at 0x000002101B7356A8>, '_i13': 'square(5)', '_13': 25, '_i14': \"animal = 'fruitbat'\\n\\ndef print_global():\\n    print('inside print_global', animal)\\n\\nprint('at the top level:', animal)\\nprint_global()\", 'animal': 'fruitbat', 'print_global': <function print_global at 0x000002101B7358C8>, '_i15': \"def change_and_print_global():\\n    print('inside change_and_print_global', animal)\\n    animal = 'wombat'\\n    print('after the change : 'animal)\", '_i16': \"def change_local():\\n    animal = 'wombat'\\n    print('inside change_local:', animal,id(animal))\", 'change_local': <function change_local at 0x000002101B735400>, '_i17': 'change_local()', '_i18': 'change_local()\\nprint(animal, id(animal))', '_i19': 'change_local()\\nprint(global : animal, id(animal))', '_i20': 'change_local()\\nprint(\"global\" : animal, id(animal))', '_i21': 'change_local()\\nprint(\"global : \" animal, id(animal))', '_i22': 'change_local()\\nprint(\"global : \", animal, id(animal))', '_i23': \"def change_and_print_global():\\n    global animal\\n    animal = 'wombat'\\n    print('inside change_and_print_global:', animal)\", 'change_and_print_global': <function change_and_print_global at 0x000002101B7352F0>, '_i24': 'change_and_print_global()', '_i25': \"animal = 'fruitbat'\\n\\ndef change_local():\\n    animal = 'wombat'\\n    print('locals : ', locals())\\n    \\nchange_local()\", '_i26': 'print(globals())'}\n"
     ]
    }
   ],
   "source": [
    "print(globals())"
   ]
  },
  {
   "cell_type": "markdown",
   "metadata": {},
   "source": [
    "### 이름에 (_)와 (__) 사용하기\n",
    "\n",
    "두 언더스코어(__)로 시작하고 끝나는 이름은 파이썬 내의 사용을 위해 예약되어 있다. 그러므로 변수를 선언할 때 두 언더스코어를 사용하면 안된다. "
   ]
  },
  {
   "cell_type": "markdown",
   "metadata": {},
   "source": [
    "예를 들어 함수의 이름은 시스템 변수 (function.__name__)에 있고, 함수의 docstring은 (function.__doc__)에 있다. "
   ]
  },
  {
   "cell_type": "code",
   "execution_count": 28,
   "metadata": {},
   "outputs": [],
   "source": [
    "def amazing():\n",
    "    \"\"\"This is amazing function.\n",
    "    Want to see it again?\n",
    "    \"\"\"\n",
    "    print(\"This function is name : \", amazing.__name__)\n",
    "    print(\"And its docstring is : \", amazing.__doc__)"
   ]
  },
  {
   "cell_type": "code",
   "execution_count": 29,
   "metadata": {},
   "outputs": [
    {
     "name": "stdout",
     "output_type": "stream",
     "text": [
      "This function is name :  amazing\n",
      "And its docstring is :  This is amazing function.\n",
      "    Want to see it again?\n",
      "    \n"
     ]
    }
   ],
   "source": [
    "amazing()"
   ]
  },
  {
   "cell_type": "code",
   "execution_count": 30,
   "metadata": {},
   "outputs": [
    {
     "data": {
      "text/plain": [
       "'sum'"
      ]
     },
     "execution_count": 30,
     "metadata": {},
     "output_type": "execute_result"
    }
   ],
   "source": [
    "sum.__name__"
   ]
  },
  {
   "cell_type": "code",
   "execution_count": 31,
   "metadata": {},
   "outputs": [
    {
     "data": {
      "text/plain": [
       "\"Return the sum of a 'start' value (default: 0) plus an iterable of numbers\\n\\nWhen the iterable is empty, return the start value.\\nThis function is intended specifically for use with numeric values and may\\nreject non-numeric types.\""
      ]
     },
     "execution_count": 31,
     "metadata": {},
     "output_type": "execute_result"
    }
   ],
   "source": [
    "sum.__doc__"
   ]
  },
  {
   "cell_type": "code",
   "execution_count": null,
   "metadata": {},
   "outputs": [],
   "source": []
  }
 ],
 "metadata": {
  "kernelspec": {
   "display_name": "Python 3",
   "language": "python",
   "name": "python3"
  },
  "language_info": {
   "codemirror_mode": {
    "name": "ipython",
    "version": 3
   },
   "file_extension": ".py",
   "mimetype": "text/x-python",
   "name": "python",
   "nbconvert_exporter": "python",
   "pygments_lexer": "ipython3",
   "version": "3.7.3"
  }
 },
 "nbformat": 4,
 "nbformat_minor": 2
}
