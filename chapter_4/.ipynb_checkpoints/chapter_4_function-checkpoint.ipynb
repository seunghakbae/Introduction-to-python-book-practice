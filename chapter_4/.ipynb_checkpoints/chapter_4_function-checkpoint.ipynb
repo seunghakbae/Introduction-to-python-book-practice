{
 "cells": [
  {
   "cell_type": "markdown",
   "metadata": {},
   "source": [
    "# 함수\n",
    "지금까지 모든 파이썬 코드 예제는 작은 코드 조각이었다. 이 코드 조각은 작은 일을 처리하기엔 편하다. 하지만, 이제 더 큰 조각을 처리해야 한다. 그 방법이 바로 함수이다. \n",
    "\n",
    "코드의 재사용을 위한 첫 번째 단계로 함수(function)이 있다. 함수는 입력 매개변수(parameter)로 모든 타입을 여러 개 취할 수 있다. 그리고 반환(return)값으로 모든 타입을 여러 개 반환할 수 있다. \n",
    "\n",
    "### 함수의 작업\n",
    "함수는 크게 두 가지 작업을 한다. \n",
    " - 정의하기 (define)\n",
    " - 호출하기 (call)\n",
    "\n",
    "함수 이름은 변수 이름과 동일한 규칙으로 작성한다. \n",
    "\n",
    "이름의 첫 글자는 영문자와 언더스코어(_)를 사용. 이름은 영문자, 수자, 언더스코어만 사용가능하다. "
   ]
  },
  {
   "cell_type": "code",
   "execution_count": 1,
   "metadata": {},
   "outputs": [],
   "source": [
    "# 아주 기본적인 함수\n",
    "def do_nothing():\n",
    "    pass\n",
    "\n",
    "do_nothing()"
   ]
  },
  {
   "cell_type": "code",
   "execution_count": 3,
   "metadata": {},
   "outputs": [
    {
     "name": "stdout",
     "output_type": "stream",
     "text": [
      "hi hi\n"
     ]
    }
   ],
   "source": [
    "# 매개변수를 입력받는 함수.\n",
    "def echo(anything):\n",
    "    return anything + \" \" + anything\n",
    "\n",
    "print(echo(\"hi\"))"
   ]
  },
  {
   "cell_type": "markdown",
   "metadata": {},
   "source": [
    "함수로 전달한 값을 \n",
    "#### 인자(argument)\n",
    "라고 부른다. \n",
    "\n",
    "인자와 함수를 호출하면 인자의 값은 함수 내에서 해당하는 매개변수(parameter)에 복사된다. 위의 'hi'인자는 anything 매개변수에 복사된다. 그리고 나서 두 문자열 사이의 스페이스 문자열을 호출자(caller)에 반환한다. "
   ]
  },
  {
   "cell_type": "code",
   "execution_count": 6,
   "metadata": {},
   "outputs": [],
   "source": [
    "def commentary(color):\n",
    "    if color == 'red':\n",
    "        return \"it's a tomato.\"\n",
    "    elif color == 'green':\n",
    "        return \"It's a green pepper.\"\n",
    "    elif color == 'bee purple':\n",
    "        return \"I don't know what it is, but only bees can see it.\"\n",
    "    else:\n",
    "        return \"I've never heard of the color \" + color + \".\""
   ]
  },
  {
   "cell_type": "code",
   "execution_count": 7,
   "metadata": {},
   "outputs": [
    {
     "name": "stdout",
     "output_type": "stream",
     "text": [
      "I've never heard of the color blue.\n"
     ]
    }
   ],
   "source": [
    "print(commentary(\"blue\"))"
   ]
  },
  {
   "cell_type": "markdown",
   "metadata": {},
   "source": [
    "### 유용한 None\n",
    "None은 아무것도 없다는 것을 뜻하는 파이썬의 특별한 값이다. None이 부울로 평가될 때는 False처럼 보이지만 부울 값의 False와는 다르다. "
   ]
  },
  {
   "cell_type": "code",
   "execution_count": 8,
   "metadata": {},
   "outputs": [
    {
     "name": "stdout",
     "output_type": "stream",
     "text": [
      "It's nothing\n"
     ]
    }
   ],
   "source": [
    "# None은 부울로 사용될 때는 False값이다. \n",
    "thing = None\n",
    "if thing:\n",
    "    print(\"It's some thing\")\n",
    "else:\n",
    "    print(\"It's nothing\")"
   ]
  },
  {
   "cell_type": "code",
   "execution_count": 12,
   "metadata": {},
   "outputs": [
    {
     "name": "stdout",
     "output_type": "stream",
     "text": [
      "It's None.\n",
      "It's True.\n",
      "It's False\n",
      "It's False\n",
      "It's False\n",
      "It's False\n",
      "It's False\n",
      "It's False\n",
      "It's False\n"
     ]
    }
   ],
   "source": [
    "# 그러면 is연산자를 사용하여 None과 False가 같은 지 알아보자. \n",
    "def is_nothing(thing):\n",
    "    if thing is None:\n",
    "        print(\"It's None.\")\n",
    "    elif thing:\n",
    "        print(\"It's True.\")\n",
    "    else:\n",
    "        print(\"It's False\")\n",
    "\n",
    "is_nothing(None)\n",
    "is_nothing(True)\n",
    "is_nothing(0)\n",
    "is_nothing(False)\n",
    "is_nothing(0.0)\n",
    "is_nothing(())\n",
    "is_nothing([])\n",
    "is_nothing({})\n",
    "is_nothing(set())"
   ]
  },
  {
   "cell_type": "markdown",
   "metadata": {},
   "source": [
    "### 위치 인자(positional arguments)\n",
    "파이썬은 다른 언어에 비해 함수의 인자를 유연하고 독특하게 처리한다. 인자의 가장 익숙한 타입은 값을 순서대로 상응하는 매개변수에 복사하는 위치 인자(positional arguments)이다. \n",
    "\n",
    "매우 일반적이지만, 위치 인자의 단점은 각 위치의 의미를 알아야 한다. "
   ]
  },
  {
   "cell_type": "code",
   "execution_count": 13,
   "metadata": {},
   "outputs": [
    {
     "name": "stdout",
     "output_type": "stream",
     "text": [
      "{'wine': 'chardonnay', 'entree': 'chicken', 'dessert': 'cake'}\n"
     ]
    }
   ],
   "source": [
    "def menu(wine, entree, dessert):\n",
    "    return {'wine' : wine, \"entree\" : entree, 'dessert' : dessert}\n",
    "\n",
    "print(menu('chardonnay', 'chicken', 'cake'))"
   ]
  },
  {
   "cell_type": "markdown",
   "metadata": {},
   "source": [
    "### 키워드 인자(keyword arguments)\n",
    "\n",
    "위치 인자의 혼동을 피하기 위해 매개변수에 상응하는 이름을 인자에 지정할 수 있다. 심지어 인자를 함수의 정의와 다른 순서로 지정할 수 있다. "
   ]
  },
  {
   "cell_type": "code",
   "execution_count": 14,
   "metadata": {},
   "outputs": [
    {
     "name": "stdout",
     "output_type": "stream",
     "text": [
      "{'wine': 'chardonnay', 'entree': 'chicken', 'dessert': 'cake'}\n"
     ]
    }
   ],
   "source": [
    "print(menu(entree='chicken', wine='chardonnay', dessert='cake'))"
   ]
  },
  {
   "cell_type": "markdown",
   "metadata": {},
   "source": [
    "##### 위치 인자와 키워드 인자를 섞어서 쓸 수 있다. wine을 첫번 째 인자로, entree와 desert를 키워드 인자로 지정해보자.\n",
    "\n",
    "##### 단 위치 인자와 키워드 인자 둘 다 사용하여 함수를 호출 한다면, 위치 인자가 먼저 와야 한다. "
   ]
  },
  {
   "cell_type": "code",
   "execution_count": 15,
   "metadata": {},
   "outputs": [
    {
     "data": {
      "text/plain": [
       "{'wine': 'chardonnay', 'entree': 'chicken', 'dessert': 'cake'}"
      ]
     },
     "execution_count": 15,
     "metadata": {},
     "output_type": "execute_result"
    }
   ],
   "source": [
    "menu('chardonnay', dessert='cake', entree='chicken')"
   ]
  },
  {
   "cell_type": "code",
   "execution_count": 16,
   "metadata": {},
   "outputs": [
    {
     "ename": "SyntaxError",
     "evalue": "positional argument follows keyword argument (<ipython-input-16-3e6611fdfc6d>, line 1)",
     "output_type": "error",
     "traceback": [
      "\u001b[1;36m  File \u001b[1;32m\"<ipython-input-16-3e6611fdfc6d>\"\u001b[1;36m, line \u001b[1;32m1\u001b[0m\n\u001b[1;33m    menu(wine='chardonnay','cake', entree='chicken')\u001b[0m\n\u001b[1;37m                          ^\u001b[0m\n\u001b[1;31mSyntaxError\u001b[0m\u001b[1;31m:\u001b[0m positional argument follows keyword argument\n"
     ]
    }
   ],
   "source": [
    "# syntax error가 뜬다. \n",
    "menu(wine='chardonnay','cake', entree='chicken')"
   ]
  },
  {
   "cell_type": "markdown",
   "metadata": {},
   "source": [
    "### 기본 매개변수값 지정하기.\n",
    "매개변수에 기본값을 지정할 수 있다. 호출자가 대응하는 인자를 제공하지 않으면, 기본값을 사용한다. "
   ]
  },
  {
   "cell_type": "code",
   "execution_count": 17,
   "metadata": {},
   "outputs": [
    {
     "data": {
      "text/plain": [
       "{'wine': 'chardonnay', 'entree': 'chicken', 'dessert': 'pudding'}"
      ]
     },
     "execution_count": 17,
     "metadata": {},
     "output_type": "execute_result"
    }
   ],
   "source": [
    "def menu(wine, entree, dessert='pudding'):\n",
    "    return {'wine' : wine, \"entree\" : entree, 'dessert' : dessert}\n",
    "\n",
    "menu('chardonnay', 'chicken')"
   ]
  },
  {
   "cell_type": "code",
   "execution_count": 18,
   "metadata": {},
   "outputs": [],
   "source": [
    "# 다음 예제는 bugggy()함수를 실행 할 때마다 빈 result 리스트에 arg인자를 추가한 후 항목에 있는 리스트를 출력할 것이라고 예상된다.\n",
    "# 하지만, 처음 호출 했을 때만 result리스트가 비어있게 된다. 두 번째로 호출된 result리스트에는 이전 호출에서 생긴 한 항목이 들어 있다."
   ]
  },
  {
   "cell_type": "code",
   "execution_count": 20,
   "metadata": {},
   "outputs": [
    {
     "name": "stdout",
     "output_type": "stream",
     "text": [
      "['a']\n",
      "['a', 'b']\n"
     ]
    }
   ],
   "source": [
    "def buggy(arg, result=[]):\n",
    "    result.append(arg)\n",
    "    print(result)\n",
    "    \n",
    "buggy('a')\n",
    "\n",
    "# 여기도 똑같이 'b'가 출력될 것이라고 예상했다. \n",
    "buggy('b')"
   ]
  },
  {
   "cell_type": "code",
   "execution_count": 21,
   "metadata": {},
   "outputs": [
    {
     "name": "stdout",
     "output_type": "stream",
     "text": [
      "['a']\n",
      "['b']\n"
     ]
    }
   ],
   "source": [
    "# 대신 아래와 같이 코드를 수정하면 된다. \n",
    "def works(arg):\n",
    "    result = []\n",
    "    result.append(arg)\n",
    "    return result\n",
    "\n",
    "print(works('a'))\n",
    "print(works('b'))"
   ]
  },
  {
   "cell_type": "markdown",
   "metadata": {},
   "source": [
    "### 위치 인자 모으기 : *\n",
    "\n",
    "C와 C++에서 에스태리스크(*)는 포인터이다. 그래서 파이썬에서도 에스터리스크가 포인터라고 착각할 수 있지만, 사실 파이썬에는 포인터(*)가 존재하지 않느다. \n",
    "\n",
    "함수의 매개변수에 애스터리스크를 사용하면, 애스터리스크는 매개변수에서 위치 인자 변수들을 튜플로 묶는다."
   ]
  },
  {
   "cell_type": "code",
   "execution_count": 22,
   "metadata": {},
   "outputs": [],
   "source": [
    "def print_args(*args):\n",
    "    print(\"Positional argument tuple: \", args)"
   ]
  },
  {
   "cell_type": "code",
   "execution_count": 23,
   "metadata": {},
   "outputs": [
    {
     "name": "stdout",
     "output_type": "stream",
     "text": [
      "Positional argument tuple:  ()\n"
     ]
    }
   ],
   "source": [
    "print_args()"
   ]
  },
  {
   "cell_type": "code",
   "execution_count": 24,
   "metadata": {},
   "outputs": [
    {
     "name": "stdout",
     "output_type": "stream",
     "text": [
      "Positional argument tuple:  (3, 2, 1, 'wait!', 'hi')\n"
     ]
    }
   ],
   "source": [
    "# 인자를 여러 개 넣어서 함수를 호출해보자. \n",
    "print_args(3,2,1,\"wait!\", \"hi\")"
   ]
  },
  {
   "cell_type": "markdown",
   "metadata": {},
   "source": [
    "가변인자를 사용하는 print()와 같은 함수는 매우 유용하다. 함수에 위치 인자를 지정할 때, 맨 끝에 *args를 써서 나머지 인자를 모두 취하게 할 수 있다. "
   ]
  },
  {
   "cell_type": "code",
   "execution_count": 25,
   "metadata": {},
   "outputs": [],
   "source": [
    "def print_more(required1, required2, *args):\n",
    "    print(\"Need this one:\", required1)\n",
    "    print(\"Need this one too : \", required2)\n",
    "    print(\"All the rest:\",args)"
   ]
  },
  {
   "cell_type": "code",
   "execution_count": 26,
   "metadata": {},
   "outputs": [
    {
     "name": "stdout",
     "output_type": "stream",
     "text": [
      "Need this one: cap\n",
      "Need this one too :  gloves\n",
      "All the rest: ('scarf', 'monocle', 'mustache wax')\n"
     ]
    }
   ],
   "source": [
    "print_more('cap', 'gloves', 'scarf', 'monocle', 'mustache wax')"
   ]
  },
  {
   "cell_type": "markdown",
   "metadata": {},
   "source": [
    "### 키워드 인자 모으기 : **\n",
    "키워드 인자를 딕셔너리로 묶기 위해 두 개의 애스터리스크(**)를 사용할 수 있다.\n",
    "\n",
    "인자의 이름은 키고, 값은 이 키에 대응하는 딕셔너리 값이다. "
   ]
  },
  {
   "cell_type": "code",
   "execution_count": 27,
   "metadata": {},
   "outputs": [],
   "source": [
    "def print_kwargs(**kwargs):\n",
    "    print(\"Keyword arguments:\", kwargs)"
   ]
  },
  {
   "cell_type": "code",
   "execution_count": 28,
   "metadata": {},
   "outputs": [
    {
     "name": "stdout",
     "output_type": "stream",
     "text": [
      "Keyword arguments: {'wine': 'merlot', 'entree': 'mutton', 'dessert': 'macaroon'}\n"
     ]
    }
   ],
   "source": [
    "print_kwargs(wine='merlot', entree='mutton', dessert='macaroon')"
   ]
  },
  {
   "cell_type": "markdown",
   "metadata": {},
   "source": [
    "### docstring\n",
    "\n",
    "함수 몸체 시작 부분에 문자열을 포함시켜 함수 정의에 문서(document)를 붙일 수 있다. "
   ]
  },
  {
   "cell_type": "code",
   "execution_count": 31,
   "metadata": {},
   "outputs": [],
   "source": [
    "def echo(anything):\n",
    "    'echo returns its argument'\n",
    "    return anything"
   ]
  },
  {
   "cell_type": "code",
   "execution_count": 30,
   "metadata": {},
   "outputs": [
    {
     "name": "stdout",
     "output_type": "stream",
     "text": [
      "Help on function echo in module __main__:\n",
      "\n",
      "echo(anything)\n",
      "    echo returns its argument\n",
      "\n"
     ]
    }
   ],
   "source": [
    "# docstring을 보고 싶으면 help()함수를 사용한다. \n",
    "help(echo)"
   ]
  },
  {
   "cell_type": "code",
   "execution_count": 32,
   "metadata": {},
   "outputs": [
    {
     "name": "stdout",
     "output_type": "stream",
     "text": [
      "echo returns its argument\n"
     ]
    }
   ],
   "source": [
    "# 만약 서식없는 docstring을 읽고 싶다면,\n",
    "print(echo.__doc__)"
   ]
  },
  {
   "cell_type": "markdown",
   "metadata": {},
   "source": [
    "### 일등시민:함수\n",
    "\n",
    "\"모든 것은 객체다\"는 아주 중요한 파이썬의 철학 중 하나이다. 객체는 문자열, 숫자, 튜플, 리스트, 딕셔너리 그리고 함수를 포함한다. 파이썬에서는 함수는 일등 시민(first-class citizen)이다. 이 뜻은 함수를 변수에 할당할 수 있고, 다른 함수에서 이를 인자로 쓸 수 있으며, 함수에서 이를 반환할 수 있다는 것이다. "
   ]
  },
  {
   "cell_type": "code",
   "execution_count": 33,
   "metadata": {},
   "outputs": [],
   "source": [
    "#먼저 아무 의미 없는 함수를 하나 만들자. \n",
    "def answer():\n",
    "    print(42)"
   ]
  },
  {
   "cell_type": "code",
   "execution_count": 34,
   "metadata": {},
   "outputs": [
    {
     "name": "stdout",
     "output_type": "stream",
     "text": [
      "42\n"
     ]
    }
   ],
   "source": [
    "answer()"
   ]
  },
  {
   "cell_type": "code",
   "execution_count": 35,
   "metadata": {},
   "outputs": [],
   "source": [
    "#이제 run_something이라는 함수를 정의하자.\n",
    "def run_something(func):\n",
    "    func()"
   ]
  },
  {
   "cell_type": "code",
   "execution_count": 36,
   "metadata": {},
   "outputs": [
    {
     "name": "stdout",
     "output_type": "stream",
     "text": [
      "42\n"
     ]
    }
   ],
   "source": [
    "#run_something 함수에 answer인자를 넣으면 다른 모든 인자와 마찬가지로 이 함수를 데이터처럼 사용할 수 있다. \n",
    "run_something(answer)"
   ]
  },
  {
   "cell_type": "code",
   "execution_count": 38,
   "metadata": {},
   "outputs": [],
   "source": [
    "def add_args(arg1, arg2):\n",
    "    print(arg1 + arg2)"
   ]
  },
  {
   "cell_type": "code",
   "execution_count": 39,
   "metadata": {},
   "outputs": [],
   "source": [
    "def run_something_with_args(func, arg1, arg2):\n",
    "    func(arg1, arg2)"
   ]
  },
  {
   "cell_type": "code",
   "execution_count": 41,
   "metadata": {},
   "outputs": [
    {
     "name": "stdout",
     "output_type": "stream",
     "text": [
      "3\n"
     ]
    }
   ],
   "source": [
    "run_something_with_args(add_args,1,2)"
   ]
  },
  {
   "cell_type": "markdown",
   "metadata": {},
   "source": [
    "이제 *args와 **kwargs인자와 결합하여 사용해보자."
   ]
  },
  {
   "cell_type": "code",
   "execution_count": 42,
   "metadata": {},
   "outputs": [],
   "source": [
    "def sum_args(*args):\n",
    "    print(sum(args))"
   ]
  },
  {
   "cell_type": "code",
   "execution_count": 43,
   "metadata": {},
   "outputs": [
    {
     "name": "stdout",
     "output_type": "stream",
     "text": [
      "10\n"
     ]
    }
   ],
   "source": [
    "sum_args(1,2,3,4)"
   ]
  },
  {
   "cell_type": "markdown",
   "metadata": {},
   "source": [
    "### 내부함수\n",
    "함수 안에서 또 다른 함수를 정의할 수 있다. \n",
    "\n",
    "내부 함수는 루프나 코드 중복을 피하기 위해 또 다른 함수 내에 어던 복잡한 작업을 한 번 이상 수행할 때 사용된다. "
   ]
  },
  {
   "cell_type": "code",
   "execution_count": 44,
   "metadata": {},
   "outputs": [],
   "source": [
    "def outer(a,b):\n",
    "    def inner(c,d):\n",
    "        return c + d\n",
    "    return inner(a,b)"
   ]
  },
  {
   "cell_type": "code",
   "execution_count": 45,
   "metadata": {},
   "outputs": [
    {
     "data": {
      "text/plain": [
       "11"
      ]
     },
     "execution_count": 45,
     "metadata": {},
     "output_type": "execute_result"
    }
   ],
   "source": [
    "outer(4,7)"
   ]
  },
  {
   "cell_type": "markdown",
   "metadata": {},
   "source": [
    "### 클로져(closure)\n",
    "내부함수는 클로져처럼 행동할 수 있다. 클로져는 다른 함수에 의해 동적으로 생성된다. 그리고 바깥 함수로부터 생성된 변수값을 변겨하고, 저장할 수 있는 함수다. "
   ]
  },
  {
   "cell_type": "code",
   "execution_count": 46,
   "metadata": {},
   "outputs": [],
   "source": [
    "def knights(saying):\n",
    "    def inner(quote):\n",
    "        return \"We are the knights who say :'%s'\" % quote\n",
    "    return inner(saying)"
   ]
  },
  {
   "cell_type": "code",
   "execution_count": 47,
   "metadata": {},
   "outputs": [
    {
     "data": {
      "text/plain": [
       "\"We are the knights who say :'Ni'\""
      ]
     },
     "execution_count": 47,
     "metadata": {},
     "output_type": "execute_result"
    }
   ],
   "source": [
    "knights('Ni')"
   ]
  },
  {
   "cell_type": "markdown",
   "metadata": {},
   "source": [
    "위 예제는 내부함수에서 작성한 knights()예제다. 이 함수를 다음과 knights2로 다음과 같이 정의해보자. "
   ]
  },
  {
   "cell_type": "code",
   "execution_count": 48,
   "metadata": {},
   "outputs": [],
   "source": [
    "def knights2(saying):\n",
    "    def inner2():\n",
    "        return \"We are the knights who say : '%s'\" % saying\n",
    "    return inner2"
   ]
  },
  {
   "cell_type": "markdown",
   "metadata": {},
   "source": [
    "inner2()함수는 knights2()함수가 전달 받은 saying변수를 알고 있다.\n",
    "\n",
    "코드에서 return inner2 라인은(호출되지 않은)inner2 함수의 특별한 복사본을 반환한다.\n",
    "\n",
    "이것이 외부 함수에 의해 동적으로 생성되고, 그 함수의 변수값을 알고 있는 함수인 클로져다. "
   ]
  },
  {
   "cell_type": "code",
   "execution_count": 50,
   "metadata": {},
   "outputs": [],
   "source": [
    "a = knights2('Duck')\n",
    "b = knights2('Hasenpfeffer')"
   ]
  },
  {
   "cell_type": "code",
   "execution_count": 53,
   "metadata": {},
   "outputs": [
    {
     "name": "stdout",
     "output_type": "stream",
     "text": [
      "<class 'function'>\n"
     ]
    }
   ],
   "source": [
    "print(type(a))"
   ]
  },
  {
   "cell_type": "code",
   "execution_count": 54,
   "metadata": {},
   "outputs": [
    {
     "name": "stdout",
     "output_type": "stream",
     "text": [
      "<class 'function'>\n"
     ]
    }
   ],
   "source": [
    "print(type(b))"
   ]
  },
  {
   "cell_type": "code",
   "execution_count": 55,
   "metadata": {},
   "outputs": [
    {
     "data": {
      "text/plain": [
       "<function __main__.knights2.<locals>.inner2()>"
      ]
     },
     "execution_count": 55,
     "metadata": {},
     "output_type": "execute_result"
    }
   ],
   "source": [
    "a"
   ]
  },
  {
   "cell_type": "code",
   "execution_count": 56,
   "metadata": {},
   "outputs": [
    {
     "data": {
      "text/plain": [
       "<function __main__.knights2.<locals>.inner2()>"
      ]
     },
     "execution_count": 56,
     "metadata": {},
     "output_type": "execute_result"
    }
   ],
   "source": [
    "b"
   ]
  },
  {
   "cell_type": "markdown",
   "metadata": {},
   "source": [
    "이들은 함수지만, 클로져이기도 하다. \n",
    "이들을 호출하면, knights2()함수에 전달되어 사용된 saying을 기억한다. "
   ]
  },
  {
   "cell_type": "code",
   "execution_count": 57,
   "metadata": {},
   "outputs": [
    {
     "data": {
      "text/plain": [
       "\"We are the knights who say : 'Duck'\""
      ]
     },
     "execution_count": 57,
     "metadata": {},
     "output_type": "execute_result"
    }
   ],
   "source": [
    "a()"
   ]
  },
  {
   "cell_type": "code",
   "execution_count": 58,
   "metadata": {},
   "outputs": [
    {
     "data": {
      "text/plain": [
       "\"We are the knights who say : 'Hasenpfeffer'\""
      ]
     },
     "execution_count": 58,
     "metadata": {},
     "output_type": "execute_result"
    }
   ],
   "source": [
    "b()"
   ]
  },
  {
   "cell_type": "markdown",
   "metadata": {},
   "source": [
    "### 익명함수 : lambda()\n",
    "\n",
    "파이썬의 람다함수는 단일문으로 표현되는 익명 함수(anonymous function)이다. 람다 형식은 인공지능 분야나 AutoCAD라는 설계 프로그램에서 쓰이는 Lisp 언어에서 물려받았다고 한다. \n",
    "\n",
    "#### lambda  인자 : 표현식"
   ]
  },
  {
   "cell_type": "code",
   "execution_count": 59,
   "metadata": {},
   "outputs": [],
   "source": [
    "# 다음은 두 수를 더하는 함수이다. \n",
    "def hap(x,y):\n",
    "    return x + y"
   ]
  },
  {
   "cell_type": "code",
   "execution_count": 60,
   "metadata": {},
   "outputs": [
    {
     "data": {
      "text/plain": [
       "30"
      ]
     },
     "execution_count": 60,
     "metadata": {},
     "output_type": "execute_result"
    }
   ],
   "source": [
    "hap(10,20)"
   ]
  },
  {
   "cell_type": "code",
   "execution_count": 61,
   "metadata": {},
   "outputs": [
    {
     "data": {
      "text/plain": [
       "30"
      ]
     },
     "execution_count": 61,
     "metadata": {},
     "output_type": "execute_result"
    }
   ],
   "source": [
    "# 이것을 람다로 바꾸면?\n",
    "(lambda x,y : x + y)(10,20)"
   ]
  },
  {
   "cell_type": "code",
   "execution_count": 62,
   "metadata": {},
   "outputs": [],
   "source": [
    "# 혹은 아래와 같이 사용될 수 있다. \n",
    "def edit_story(words, func):\n",
    "    for word in words:\n",
    "        print(func(word))"
   ]
  },
  {
   "cell_type": "code",
   "execution_count": 63,
   "metadata": {},
   "outputs": [],
   "source": [
    "stairs = ['thud', 'meow', 'thud', 'hiss']"
   ]
  },
  {
   "cell_type": "code",
   "execution_count": 64,
   "metadata": {},
   "outputs": [],
   "source": [
    "def enliven(word):\n",
    "    return word.capitalize() + \"!\""
   ]
  },
  {
   "cell_type": "code",
   "execution_count": 65,
   "metadata": {},
   "outputs": [
    {
     "name": "stdout",
     "output_type": "stream",
     "text": [
      "Thud!\n",
      "Meow!\n",
      "Thud!\n",
      "Hiss!\n"
     ]
    }
   ],
   "source": [
    "edit_story(stairs, enliven)"
   ]
  },
  {
   "cell_type": "code",
   "execution_count": 66,
   "metadata": {},
   "outputs": [
    {
     "name": "stdout",
     "output_type": "stream",
     "text": [
      "Thud!\n",
      "Meow!\n",
      "Thud!\n",
      "Hiss!\n"
     ]
    }
   ],
   "source": [
    "# 위를 아래와 같이 바꿀 수 있다. \n",
    "edit_story(stairs, lambda word : word.capitalize() + '!')"
   ]
  },
  {
   "cell_type": "markdown",
   "metadata": {},
   "source": [
    "### map(함수, 리스트)\n",
    "\n",
    "map()함수는 함수와 리스트를 인자로 받는다. 그리고, 리스트로부터 원소를 하나씩 꺼내서 함수를 적용시킨 다음, 그 결과를 새로운 리스트에 담아준다."
   ]
  },
  {
   "cell_type": "code",
   "execution_count": 68,
   "metadata": {},
   "outputs": [
    {
     "data": {
      "text/plain": [
       "[0, 1, 4, 9, 16]"
      ]
     },
     "execution_count": 68,
     "metadata": {},
     "output_type": "execute_result"
    }
   ],
   "source": [
    "list(map(lambda x : x **2, range(5)))"
   ]
  },
  {
   "cell_type": "markdown",
   "metadata": {},
   "source": [
    "### reduce(함수, 순서형 자료)\n",
    "순서형 자료(문자열, 리스트, 튜플)의 원소들을 누적적으로 함수에 적용시킨다. "
   ]
  },
  {
   "cell_type": "code",
   "execution_count": 69,
   "metadata": {},
   "outputs": [],
   "source": [
    "from functools import reduce"
   ]
  },
  {
   "cell_type": "code",
   "execution_count": 70,
   "metadata": {},
   "outputs": [
    {
     "data": {
      "text/plain": [
       "15"
      ]
     },
     "execution_count": 70,
     "metadata": {},
     "output_type": "execute_result"
    }
   ],
   "source": [
    "reduce(lambda x, y: x + y, [0,1,2,3,4,5])"
   ]
  },
  {
   "cell_type": "code",
   "execution_count": 74,
   "metadata": {},
   "outputs": [
    {
     "data": {
      "text/plain": [
       "'edcba'"
      ]
     },
     "execution_count": 74,
     "metadata": {},
     "output_type": "execute_result"
    }
   ],
   "source": [
    "reduce(lambda x,y : y+x , 'abcde')"
   ]
  },
  {
   "cell_type": "markdown",
   "metadata": {},
   "source": [
    "### filter(함수, 리스트)\n",
    "리스트에 들어있는 원소들을 함수에 적용시켜서 결과가 참인 값들로 새로운 리스트를 만들어 준다. "
   ]
  },
  {
   "cell_type": "code",
   "execution_count": 75,
   "metadata": {},
   "outputs": [
    {
     "data": {
      "text/plain": [
       "[0, 1, 2, 3, 4]"
      ]
     },
     "execution_count": 75,
     "metadata": {},
     "output_type": "execute_result"
    }
   ],
   "source": [
    "list(filter(lambda x : x < 5, range(10)))"
   ]
  },
  {
   "cell_type": "markdown",
   "metadata": {},
   "source": [
    "### 제너레이터\n",
    "\n",
    "제너레이터는 파이썬의 시퀀스를 생성하는 객체다. 제너레이터로 전체 시퀀스를 한 번에 메모리에 생성하고 정렬할 필요 없이 잠재적으로 아주 큰 시퀀스를 순회할 수 있다. \n",
    "\n",
    "제너레이터는 이터레이터에 대한 데이터의 소스로 자주 사용된다. \n",
    "\n",
    "제너레이터를 순회할 떄마다 마지막으로 호출된 항목을 기억하고 다음 값을 반환한다. 제너레이터는 일반 함수와 다르다. 일반 함수는 이전 호출에 대한 메모리가 없고 항상 똑같은 첫 번째 라인부터 수행한다. \n",
    "\n",
    "잠재적으로 큰 시퀀스를 생성하고, 제너레이터 컴프리헨션에 대한 코드가 아주 긴 경우에는 제너레이터 함수를 사용하면 된다. 이것은 일반 함수지만 return문으로 값을 반환하지 않고, yield문으로 값을 반환한다. "
   ]
  },
  {
   "cell_type": "code",
   "execution_count": 1,
   "metadata": {},
   "outputs": [],
   "source": [
    "def my_range(first=0, last=10, step=1):\n",
    "    number = first\n",
    "    while number < last:\n",
    "        yield number\n",
    "        number += step"
   ]
  },
  {
   "cell_type": "code",
   "execution_count": 2,
   "metadata": {},
   "outputs": [
    {
     "data": {
      "text/plain": [
       "<function __main__.my_range(first=0, last=10, step=1)>"
      ]
     },
     "execution_count": 2,
     "metadata": {},
     "output_type": "execute_result"
    }
   ],
   "source": [
    "my_range"
   ]
  },
  {
   "cell_type": "code",
   "execution_count": 14,
   "metadata": {},
   "outputs": [],
   "source": [
    "ranger = my_range(1,5)"
   ]
  },
  {
   "cell_type": "code",
   "execution_count": 15,
   "metadata": {},
   "outputs": [
    {
     "data": {
      "text/plain": [
       "<generator object my_range at 0x000001CA9CC25CF0>"
      ]
     },
     "execution_count": 15,
     "metadata": {},
     "output_type": "execute_result"
    }
   ],
   "source": [
    "ranger"
   ]
  },
  {
   "cell_type": "code",
   "execution_count": 16,
   "metadata": {},
   "outputs": [
    {
     "name": "stdout",
     "output_type": "stream",
     "text": [
      "1\n",
      "2\n",
      "3\n",
      "4\n"
     ]
    }
   ],
   "source": [
    "# 이제 제너레이터 객체를 순회할 수 있다. \n",
    "for x in ranger:\n",
    "    print(x)"
   ]
  },
  {
   "cell_type": "code",
   "execution_count": 17,
   "metadata": {},
   "outputs": [],
   "source": [
    "# 이제 또 다시 실행하면, 아무것도 print되지 않는다. \n",
    "for x in ranger:\n",
    "    print(x)"
   ]
  },
  {
   "cell_type": "code",
   "execution_count": null,
   "metadata": {},
   "outputs": [],
   "source": []
  }
 ],
 "metadata": {
  "kernelspec": {
   "display_name": "Python 3",
   "language": "python",
   "name": "python3"
  },
  "language_info": {
   "codemirror_mode": {
    "name": "ipython",
    "version": 3
   },
   "file_extension": ".py",
   "mimetype": "text/x-python",
   "name": "python",
   "nbconvert_exporter": "python",
   "pygments_lexer": "ipython3",
   "version": "3.7.3"
  }
 },
 "nbformat": 4,
 "nbformat_minor": 2
}
