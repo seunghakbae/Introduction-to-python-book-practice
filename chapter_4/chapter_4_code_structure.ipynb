{
 "cells": [
  {
   "cell_type": "markdown",
   "metadata": {},
   "source": [
    "# 코드 구조\n",
    "\n",
    "파이썬의 기본 문법이자 골격을 구성하는 문법들이 바로 if, for, while등이다. 각 문법들을 간략하게 알아보자. "
   ]
  },
  {
   "cell_type": "markdown",
   "metadata": {},
   "source": [
    "### if, elif, else\n",
    "if와 else는 조건이 참인지 거짓인지 확인하는 파이썬의 선언문(statement)이다. "
   ]
  },
  {
   "cell_type": "code",
   "execution_count": 1,
   "metadata": {},
   "outputs": [
    {
     "name": "stdout",
     "output_type": "stream",
     "text": [
      "furry\n"
     ]
    }
   ],
   "source": [
    "furry = True\n",
    "\n",
    "if furry:\n",
    "    print('furry')"
   ]
  },
  {
   "cell_type": "markdown",
   "metadata": {},
   "source": [
    "### True와 False\n",
    "\n",
    "False값은 명시적으로 False라고 할 필요가 없다. 다음은 모두 False로 간주한다. \n",
    "\n",
    "- None\n",
    "- 0\n",
    "- 0.0\n",
    "- \"\"\n",
    "- []\n",
    "- {}\n",
    "- set()\n",
    "\n",
    "이 외에 다른 것들은 True값으로 간주한다. "
   ]
  },
  {
   "cell_type": "code",
   "execution_count": 5,
   "metadata": {},
   "outputs": [
    {
     "name": "stdout",
     "output_type": "stream",
     "text": [
      "None\n",
      "0\n",
      "0.0\n",
      "[]\n"
     ]
    }
   ],
   "source": [
    "if not None:\n",
    "    print('None')\n",
    "\n",
    "if not 0:\n",
    "    print('0')\n",
    "\n",
    "if not 0.0:\n",
    "    print(\"0.0\")\n",
    "\n",
    "if not []:\n",
    "    print(\"[]\")"
   ]
  },
  {
   "cell_type": "markdown",
   "metadata": {},
   "source": [
    "### while문\n",
    "조건문에 만족할 때 까지 계속 실행한다. \n",
    "\n",
    "만약 중간에 중단하고 싶다면, break문을 사용한다. "
   ]
  },
  {
   "cell_type": "code",
   "execution_count": 7,
   "metadata": {},
   "outputs": [
    {
     "name": "stdout",
     "output_type": "stream",
     "text": [
      "String to capitalize [type q to quit ]: hello\n",
      "Hello\n",
      "String to capitalize [type q to quit ]: hi\n",
      "Hi\n",
      "String to capitalize [type q to quit ]: q\n"
     ]
    }
   ],
   "source": [
    "while not set():\n",
    "    stuff = input(\"String to capitalize [type q to quit ]: \")\n",
    "    if stuff == 'q':\n",
    "        break\n",
    "    print(stuff.capitalize())"
   ]
  },
  {
   "cell_type": "markdown",
   "metadata": {},
   "source": [
    "### else문 사용하기.\n",
    "while문이 모두 실행된 후 마지막으로 실행하는 구문이다. "
   ]
  },
  {
   "cell_type": "code",
   "execution_count": 15,
   "metadata": {},
   "outputs": [
    {
     "name": "stdout",
     "output_type": "stream",
     "text": [
      "0\n",
      "1\n",
      "2\n",
      "end\n"
     ]
    }
   ],
   "source": [
    "numbers = [1,3,5]\n",
    "position = 0\n",
    "\n",
    "while position < len(numbers):\n",
    "    print(position)\n",
    "    position += 1\n",
    "else:\n",
    "    print(\"end\")"
   ]
  },
  {
   "cell_type": "markdown",
   "metadata": {},
   "source": [
    "### 순회 for문\n",
    "파이썬에서 이터레이터(iterator)는 자우 유용하게 쓰인다. \n",
    "\n",
    "#### 리스트, 문자열, 튜플, 딕셔너리, 셋등은 순회 가능한 (iterable)한 객체이다. "
   ]
  },
  {
   "cell_type": "code",
   "execution_count": 14,
   "metadata": {},
   "outputs": [
    {
     "name": "stdout",
     "output_type": "stream",
     "text": [
      "Flopsy\n",
      "Mopsy\n",
      "Cottontail\n",
      "Peter\n",
      "room , ballroom\n",
      "weapon , lead pipe\n",
      "person , Col.Mustard\n"
     ]
    }
   ],
   "source": [
    "rabbits = ['Flopsy', 'Mopsy', 'Cottontail', 'Peter']\n",
    "accusations = {'room' : 'ballroom', 'weapon' : \"lead pipe\", \"person\" : \"Col.Mustard\"}\n",
    "\n",
    "# iterator는 for문을 사용해 우아하게 접근할 수 있다. \n",
    "for rabbit in rabbits:\n",
    "    print(rabbit)\n",
    "    \n",
    "for accusation, content in accusations.items():\n",
    "    print(accusation,\",\", content)"
   ]
  },
  {
   "cell_type": "markdown",
   "metadata": {},
   "source": [
    "### for문에 else문 사용하기.\n",
    "for문에서도 while문처럼 마지막까지 실행된후 else문이 실행된다. "
   ]
  },
  {
   "cell_type": "code",
   "execution_count": 17,
   "metadata": {},
   "outputs": [
    {
     "name": "stdout",
     "output_type": "stream",
     "text": [
      "1\n",
      "2\n",
      "3\n",
      "4\n",
      "5\n",
      "6\n",
      "7\n",
      "8\n",
      "9\n",
      "final\n"
     ]
    }
   ],
   "source": [
    "for i in range(1,10):\n",
    "    print(i)\n",
    "else:\n",
    "    print(\"final\")"
   ]
  },
  {
   "cell_type": "markdown",
   "metadata": {},
   "source": [
    "### 여러 시퀀스 순회하기 : zip()\n",
    "좋은 iteration의 방법이 하나 더 있다. zip()함수를 사용하여 여러 시퀀스를 병렬로 순회할 수 있다. \n",
    "\n",
    "여러 시퀀스 중 가장 짧은 시퀀스가 완료되면 zip()은 멈춘다. 아래 예제같은 경우 drinks가 가장 짧으므로, 3번 정도 순회를 한 다음 정지한다. "
   ]
  },
  {
   "cell_type": "code",
   "execution_count": 18,
   "metadata": {},
   "outputs": [
    {
     "name": "stdout",
     "output_type": "stream",
     "text": [
      "Monday banana coffee tiramisu\n",
      "Tuesday oragne tea ice cream\n",
      "Wednesday peach beer pie\n"
     ]
    }
   ],
   "source": [
    "days = ['Monday', 'Tuesday', 'Wednesday']\n",
    "fruits = ['banana', 'oragne', 'peach']\n",
    "drinks = ['coffee', 'tea', 'beer']\n",
    "desserts = ['tiramisu', 'ice cream', 'pie', 'pudding']\n",
    "for day, fruit, drink, dessert in zip(days, fruits, drinks, desserts):\n",
    "    print(day, fruit, drink, dessert)"
   ]
  },
  {
   "cell_type": "markdown",
   "metadata": {},
   "source": [
    "### zip()을 사용하여 딕셔너리, 리스트 만들기."
   ]
  },
  {
   "cell_type": "code",
   "execution_count": 19,
   "metadata": {},
   "outputs": [
    {
     "name": "stdout",
     "output_type": "stream",
     "text": [
      "{'Monday': 'banana', 'Tuesday': 'oragne', 'Wednesday': 'peach'}\n"
     ]
    }
   ],
   "source": [
    "# 딕셔너리 만들기.\n",
    "print(dict(zip(days, fruits)))"
   ]
  },
  {
   "cell_type": "code",
   "execution_count": 20,
   "metadata": {},
   "outputs": [
    {
     "name": "stdout",
     "output_type": "stream",
     "text": [
      "[('Monday', 'banana'), ('Tuesday', 'oragne'), ('Wednesday', 'peach')]\n"
     ]
    }
   ],
   "source": [
    "# 리스트 만들기.\n",
    "print(list(zip(days, fruits)))"
   ]
  }
 ],
 "metadata": {
  "kernelspec": {
   "display_name": "Python 3",
   "language": "python",
   "name": "python3"
  },
  "language_info": {
   "codemirror_mode": {
    "name": "ipython",
    "version": 3
   },
   "file_extension": ".py",
   "mimetype": "text/x-python",
   "name": "python",
   "nbconvert_exporter": "python",
   "pygments_lexer": "ipython3",
   "version": "3.7.3"
  }
 },
 "nbformat": 4,
 "nbformat_minor": 2
}
