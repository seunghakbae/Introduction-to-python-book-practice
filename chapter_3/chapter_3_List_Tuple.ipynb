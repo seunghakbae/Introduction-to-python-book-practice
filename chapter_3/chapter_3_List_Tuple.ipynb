{
 "cells": [
  {
   "cell_type": "markdown",
   "metadata": {},
   "source": [
    "# 리스트, 튜플, 딕셔너리, 셋\n",
    "\n",
    "2장에서는 부울, 정수, 부동소수점수, 문자열등과 같은 기본 데이터 타입을 알아보았다. 이들 타입이 원자(atom)이라면, 이번 장에서 다룰 자료구조(data structure)는 분자(molecule)같은 존재이다. "
   ]
  },
  {
   "cell_type": "markdown",
   "metadata": {},
   "source": [
    "# List and Tuple\n",
    "파이썬의 문자열은 시퀀스이다. 그리고 리스트는 모든 것의 시퀀스이다! \n",
    "\n",
    "파이썬에는 두 가지 다른 시퀀스 구조가 있다. tuple과 list이다. 이 구조에는 0 혹은 그 이상의 항목이 포함되어 있다. \n",
    "\n",
    "또한, 튜플은 immutable이다. (참고로 문자열도 immutable이였다). 하지만, 리스트는 mutable이다.즉, 항목을 할당하고 자유롭게 수정하거나 삭제할 수 있다!"
   ]
  },
  {
   "cell_type": "markdown",
   "metadata": {},
   "source": [
    "# List\n",
    "리스트는 데이터를 순차적으로 파악하는 데 유용하다. 특히, 내용의 순서가 바뀔 수 있다는 점에서 유용하다. 문자열과는 다르게 mutable이다. \n",
    "\n",
    "### 리스트 생성하기 : [] 또는 list()\n",
    "리스트는 대괄호[] 안에 ,를 구분자로 값을 넣거나, list()함수를 사용하여 생성할 수 있다 ."
   ]
  },
  {
   "cell_type": "code",
   "execution_count": 1,
   "metadata": {},
   "outputs": [
    {
     "name": "stdout",
     "output_type": "stream",
     "text": [
      "[]\n",
      "['Monday', 'Tuesday', 'Wednesday', 'Thursday']\n",
      "<class 'list'>\n",
      "[]\n",
      "<class 'list'>\n"
     ]
    }
   ],
   "source": [
    "# 대괄호로 생성하기.\n",
    "empty_list = []\n",
    "weekdays = ['Monday', 'Tuesday', 'Wednesday', 'Thursday']\n",
    "print(empty_list)\n",
    "print(weekdays)\n",
    "print(type(weekdays))\n",
    "\n",
    "# list()함수로 빈 리스트 할당하기.\n",
    "another_empty_list = list()\n",
    "print(another_empty_list)\n",
    "print(type(another_empty_list))"
   ]
  },
  {
   "cell_type": "markdown",
   "metadata": {},
   "source": [
    "### 다른 데이터 타입을 리스트로 변환하기 : list()\n",
    "list()함수는 다른 데이터 타입을 리스트로 변환한다. (*파이썬의 문자열은 시퀀스이다. 그리고 리스트도 시퀀스이다)"
   ]
  },
  {
   "cell_type": "code",
   "execution_count": 2,
   "metadata": {},
   "outputs": [
    {
     "name": "stdout",
     "output_type": "stream",
     "text": [
      "['c', 'a', 't']\n"
     ]
    }
   ],
   "source": [
    "print(list('cat'))"
   ]
  },
  {
   "cell_type": "code",
   "execution_count": 3,
   "metadata": {},
   "outputs": [
    {
     "name": "stdout",
     "output_type": "stream",
     "text": [
      "['ready', 'fire', 'aim']\n"
     ]
    }
   ],
   "source": [
    "# 튜플도 리스트로 변환할 수 있다. \n",
    "a_tuple = ('ready', 'fire', 'aim')\n",
    "print(list(a_tuple))"
   ]
  },
  {
   "cell_type": "code",
   "execution_count": 4,
   "metadata": {},
   "outputs": [
    {
     "name": "stdout",
     "output_type": "stream",
     "text": [
      "['1', '6', '1952']\n"
     ]
    }
   ],
   "source": [
    "# split()함수로 나온 값도 list이다. \n",
    "birthday = '1/6/1952'\n",
    "print(birthday.split('/'))"
   ]
  },
  {
   "cell_type": "markdown",
   "metadata": {},
   "source": [
    "### [offset]으로 항목얻기.\n",
    "문자열처럼 리스트도 오프셋으로 하나의 특정 값을 추출하거나 혹은 slicing으로 추출할 수 있다. "
   ]
  },
  {
   "cell_type": "code",
   "execution_count": 5,
   "metadata": {},
   "outputs": [],
   "source": [
    "test = list(\"i love computer science and finance\")"
   ]
  },
  {
   "cell_type": "code",
   "execution_count": 19,
   "metadata": {},
   "outputs": [
    {
     "name": "stdout",
     "output_type": "stream",
     "text": [
      "i\n",
      "e\n",
      "['i', ' ', 'l', 'o', 'v', 'e', ' ', 'c', 'o', 'm', 'p', 'u', 't', 'e', 'r', ' ', 's', 'c', 'i', 'e', 'n', 'c', 'e', ' ', 'a', 'n', 'd', ' ', 'f', 'i', 'n', 'a', 'n', 'c', 'e']\n",
      "['l', 'e', 'o', 'u', 'r', 'c', 'n', ' ', 'd', 'i', 'n']\n",
      "['i', ' ', 'l', 'o', 'v', 'e', ' ', 'c', 'o', 'm', 'p', 'u', 't', 'e', 'r', ' ', 's', 'c', 'i', 'e', 'n', 'c', 'e', ' ', 'a', 'n', 'd', ' ', 'f', 'i', 'n', 'a', 'n', 'c']\n",
      "['i', 'l', 'v', ' ', 'o', 'p', 't', 'r', 's', 'i', 'n', 'e', 'a', 'd', 'f', 'n', 'n', 'e']\n",
      "['e', 'c', 'n', 'a', 'n', 'i', 'f', ' ', 'd', 'n', 'a', ' ', 'e', 'c', 'n', 'e', 'i', 'c', 's', ' ', 'r', 'e', 't', 'u', 'p', 'm', 'o', 'c', ' ', 'e', 'v', 'o', 'l', ' ', 'i']\n"
     ]
    }
   ],
   "source": [
    "print(test[0])\n",
    "print(test[-1])\n",
    "print(test[:])\n",
    "print(test[2:-1:3])\n",
    "print(test[:-1]) #  마지막을 제외하고 추출한다. \n",
    "print(test[::2]) # 2칸씩 추출한다. \n",
    "print(test[::-1]) # list를 반전시킨다. "
   ]
  },
  {
   "cell_type": "markdown",
   "metadata": {},
   "source": [
    "### 리스트의 리스트\n",
    "리스트안에 리스트가 들어갈 수 도 있다. "
   ]
  },
  {
   "cell_type": "code",
   "execution_count": 29,
   "metadata": {},
   "outputs": [
    {
     "name": "stdout",
     "output_type": "stream",
     "text": [
      "[['humming_birds', 'finch'], ['dodo', 'passenger pigeon']]\n",
      "['humming_birds', 'finch']\n",
      "['dodo', 'passenger pigeon']\n",
      "finch\n"
     ]
    }
   ],
   "source": [
    "small_birds = ['humming_birds', 'finch']\n",
    "extinct_birds = ['dodo', 'passenger pigeon']\n",
    "all_birds = [small_birds, extinct_birds]\n",
    "print(all_birds)\n",
    "print(all_birds[0])\n",
    "print(all_birds[1])\n",
    "print(all_birds[0][1])"
   ]
  },
  {
   "cell_type": "markdown",
   "metadata": {},
   "source": [
    "### 리스트의 끝에 항목 추가하기 : append()\n",
    "append()는 리스트의 끝에 새 항목을 추가한다. "
   ]
  },
  {
   "cell_type": "code",
   "execution_count": 30,
   "metadata": {},
   "outputs": [
    {
     "name": "stdout",
     "output_type": "stream",
     "text": [
      "['humming_birds', 'finch', 'kakao']\n"
     ]
    }
   ],
   "source": [
    "small_birds.append('kakao')\n",
    "print(small_birds)"
   ]
  },
  {
   "cell_type": "markdown",
   "metadata": {},
   "source": [
    "### 오프셋과 함께 insert()로 항목 추가하기."
   ]
  },
  {
   "cell_type": "code",
   "execution_count": 31,
   "metadata": {},
   "outputs": [
    {
     "name": "stdout",
     "output_type": "stream",
     "text": [
      "['humming_birds', 'gugu', 'finch', 'kakao']\n"
     ]
    }
   ],
   "source": [
    "small_birds.insert(1, 'gugu')\n",
    "print(small_birds)"
   ]
  },
  {
   "cell_type": "markdown",
   "metadata": {},
   "source": [
    "### 리스트 병합하기 : extend() 또는 +=\n",
    "extend()를 사용하여 다른 리스트를 병합할 수도 있다. "
   ]
  },
  {
   "cell_type": "code",
   "execution_count": 32,
   "metadata": {},
   "outputs": [
    {
     "name": "stdout",
     "output_type": "stream",
     "text": [
      "['Groucho', 'Chico', 'Harpo', 'Zeppo', 'Gummo', 'Karl']\n",
      "['Groucho', 'Chico', 'Harpo', 'Zeppo', 'Gummo', 'Karl', ['Gummo', 'Karl']]\n"
     ]
    }
   ],
   "source": [
    "marxes = ['Groucho', 'Chico', 'Harpo', 'Zeppo']\n",
    "others = ['Gummo', 'Karl']\n",
    "marxes.extend(others)\n",
    "print(marxes)\n",
    "\n",
    "# append를 사용하면 병합하지 않고, others가 하나의 리스트로 추가된다. \n",
    "marxes.append(others)\n",
    "print(marxes)"
   ]
  },
  {
   "cell_type": "markdown",
   "metadata": {},
   "source": [
    "### 오프셋으로 항목 삭제하기 : del\n",
    "del은 리스트 함수가 아니라 파이썬 구문이다! 그러므로 marxes[-2].del()을 수행할 수 없다. \n",
    "del은 할당(=)의 반대다. 이것은 객체로부터 이름을 분리하고 객체의 메모리를 비워준다. "
   ]
  },
  {
   "cell_type": "code",
   "execution_count": 33,
   "metadata": {},
   "outputs": [
    {
     "name": "stdout",
     "output_type": "stream",
     "text": [
      "['humming_birds', 'gugu', 'finch', 'kakao']\n",
      "['humming_birds', 'gugu', 'finch']\n"
     ]
    }
   ],
   "source": [
    "print(small_birds)\n",
    "del small_birds[-1]\n",
    "print(small_birds)"
   ]
  },
  {
   "cell_type": "markdown",
   "metadata": {},
   "source": [
    "### 값으로 항목 삭제하기 : remove()\n",
    "리스트에서 삭제할 항목의 위치를 모르는 경우, remove()와 값으로 그 항목을 삭제할 수 있다. "
   ]
  },
  {
   "cell_type": "code",
   "execution_count": 35,
   "metadata": {},
   "outputs": [
    {
     "name": "stdout",
     "output_type": "stream",
     "text": [
      "['Groucho', 'Chico', 'Harpo', 'Gummo', 'Zeppo']\n",
      "['Groucho', 'Chico', 'Harpo', 'Zeppo']\n"
     ]
    }
   ],
   "source": [
    "marxes = ['Groucho', 'Chico', 'Harpo', 'Gummo', 'Zeppo']\n",
    "print(marxes)\n",
    "marxes.remove(\"Gummo\")\n",
    "print(marxes)"
   ]
  },
  {
   "cell_type": "markdown",
   "metadata": {},
   "source": [
    "### 오프셋으로 항목을 얻은 수 삭제하기: pop()\n",
    "pop()은 리스트에서 항목을 가져와서 삭제한다. 만약, 인자가 없다면 -1을 사용한다. "
   ]
  },
  {
   "cell_type": "code",
   "execution_count": 38,
   "metadata": {},
   "outputs": [
    {
     "name": "stdout",
     "output_type": "stream",
     "text": [
      "['Groucho', 'Chico', 'Harpo', 'Gummo', 'Zeppo']\n",
      "Chico\n",
      "['Groucho', 'Harpo', 'Gummo', 'Zeppo']\n"
     ]
    }
   ],
   "source": [
    "marxes = ['Groucho', 'Chico', 'Harpo', 'Gummo', 'Zeppo']\n",
    "print(marxes)\n",
    "print(marxes.pop(1))\n",
    "print(marxes)"
   ]
  },
  {
   "cell_type": "markdown",
   "metadata": {},
   "source": [
    "### 값으로 항목 오프셋 찾기 : index()"
   ]
  },
  {
   "cell_type": "code",
   "execution_count": 40,
   "metadata": {},
   "outputs": [
    {
     "name": "stdout",
     "output_type": "stream",
     "text": [
      "['Groucho', 'Chico', 'Harpo', 'Gummo', 'Zeppo']\n",
      "2\n"
     ]
    }
   ],
   "source": [
    "marxes = ['Groucho', 'Chico', 'Harpo', 'Gummo', 'Zeppo']\n",
    "print(marxes)\n",
    "print(marxes.index('Harpo'))"
   ]
  },
  {
   "cell_type": "markdown",
   "metadata": {},
   "source": [
    "### 존재여부 확인하기 : in\n",
    "리스트에서 어떤 값의 존재를 확인하려면 in을 사용한다. "
   ]
  },
  {
   "cell_type": "code",
   "execution_count": 41,
   "metadata": {},
   "outputs": [
    {
     "name": "stdout",
     "output_type": "stream",
     "text": [
      "True\n"
     ]
    }
   ],
   "source": [
    "print('Gummo' in marxes)"
   ]
  },
  {
   "cell_type": "markdown",
   "metadata": {},
   "source": [
    "### 값 세기 :count()\n",
    "리스트에 특정 값이 얼마나 있는 지 세기 위해서는 count()를 사용"
   ]
  },
  {
   "cell_type": "code",
   "execution_count": 42,
   "metadata": {},
   "outputs": [
    {
     "name": "stdout",
     "output_type": "stream",
     "text": [
      "1\n"
     ]
    }
   ],
   "source": [
    "marxes = ['Groucho', 'Chico', 'Harpo', 'Gummo', 'Zeppo']\n",
    "print(marxes.count(\"Chico\"))"
   ]
  },
  {
   "cell_type": "markdown",
   "metadata": {},
   "source": [
    "### 정렬하기 : sort() / sorted()\n",
    "\n",
    " - sort() : 리스트 자체를 내부적으로 정렬한다. \n",
    " - sorted() : 리스트의 정렬된 복사본을 반환한다. "
   ]
  },
  {
   "cell_type": "code",
   "execution_count": 45,
   "metadata": {},
   "outputs": [
    {
     "name": "stdout",
     "output_type": "stream",
     "text": [
      "['Groucho', 'Chico', 'Harpo', 'Gummo', 'Zeppo']\n",
      "['Chico', 'Groucho', 'Gummo', 'Harpo', 'Zeppo']\n",
      "['Groucho', 'Chico', 'Harpo', 'Gummo', 'Zeppo']\n",
      "['Chico', 'Groucho', 'Gummo', 'Harpo', 'Zeppo']\n"
     ]
    }
   ],
   "source": [
    "marxes = ['Groucho', 'Chico', 'Harpo', 'Gummo', 'Zeppo']\n",
    "print(marxes)\n",
    "sorted_marxes = sorted(marxes)\n",
    "print(sorted_marxes)\n",
    "print(marxes)\n",
    "marxes.sort()\n",
    "print(marxes)"
   ]
  },
  {
   "cell_type": "markdown",
   "metadata": {},
   "source": [
    "### 할당 : = , 복사 : copy()\n",
    "리스트를 변수 두 곳에 할당했을 경우, 한 리스트를 변경하면 다른 리스트도 변경된다. \n",
    "\n",
    "이럴 경우, 한 리스트를 새로운 리스트로 복사 할 수 있다!\n",
    "- copy() 함수\n",
    "- list() 변환 함수\n",
    "- 슬라이스 [:]\n",
    "\n",
    "복사본은 자신만의 값을 가진 새로운 객체다. 그러므로 원본 리스트 객체와 아무 관계가 없다. 그래서 아무 영향을 주지 않는다. "
   ]
  },
  {
   "cell_type": "code",
   "execution_count": 54,
   "metadata": {},
   "outputs": [
    {
     "name": "stdout",
     "output_type": "stream",
     "text": [
      "a :  [1, 2, 3]\n",
      "b :  [1, 2, 3]\n",
      "1939167629576 1939167629576\n",
      "True\n",
      "a :  [1, 2, 3, 4]\n",
      "b :  [1, 2, 3, 4]\n",
      "a :  ['hi', 2, 3, 4]\n",
      "b :  ['hi', 2, 3, 4]\n"
     ]
    }
   ],
   "source": [
    "a = [1,2,3]\n",
    "print('a : ', a)\n",
    "b = a\n",
    "print('b : ', b)\n",
    "print(id(a), id(b))\n",
    "print(a is b)\n",
    "a.append(4)\n",
    "print('a : ',a)\n",
    "print('b : ', b)\n",
    "a[0] = 'hi'\n",
    "print('a : ',a)\n",
    "print('b : ', b)"
   ]
  },
  {
   "cell_type": "code",
   "execution_count": 57,
   "metadata": {},
   "outputs": [
    {
     "name": "stdout",
     "output_type": "stream",
     "text": [
      "False\n",
      "False\n",
      "False\n",
      "a :  [1, 2, 3, 4]\n",
      "b :  [1, 2, 3]\n",
      "c :  [1, 2, 3]\n",
      "d :  [1, 2, 3]\n"
     ]
    }
   ],
   "source": [
    "a = [1,2,3]\n",
    "b = a.copy()\n",
    "c = list(a)\n",
    "d = a[:]\n",
    "print(b is a)\n",
    "print(c is a)\n",
    "print(d is a)\n",
    "a.append(4)\n",
    "print(\"a : \", a)\n",
    "print(\"b : \", b)\n",
    "print(\"c : \", c)\n",
    "print(\"d : \", d)"
   ]
  },
  {
   "cell_type": "markdown",
   "metadata": {},
   "source": [
    "# Tuple\n",
    "리스트와 마찬가지로 튜플(tuple)은 임의적인 항목의 시퀀스이다. 하지만, 리스트와는 다르게 튜플은 불변(immutable)하다. 즉, 튜플을 정의한 후 추가, 삭제, 수정을 할 수 없다. \n",
    "그러므로, 튜플은 상수의 리스트라고 볼 수 있다. "
   ]
  },
  {
   "cell_type": "markdown",
   "metadata": {},
   "source": [
    "### 튜플 생성하기 : ()\n",
    "()로 생성이 가능하다. \n",
    "\n",
    "만약 하나 이상의 요소가 있는 튜플을 만들기 위해서는 각 요소뒤에 콤마(,)를 붙인다. 마지막 요소에는 콤마를 붙이지 않는다. \n",
    "\n",
    "파이썬은 튜플을 출력할 때 괄호를 포함하지만 정의할때는 괄호가 필요 없다. "
   ]
  },
  {
   "cell_type": "code",
   "execution_count": 59,
   "metadata": {},
   "outputs": [
    {
     "name": "stdout",
     "output_type": "stream",
     "text": [
      "()\n",
      "<class 'tuple'>\n"
     ]
    }
   ],
   "source": [
    "empty_tuple = ()\n",
    "print(empty_tuple)\n",
    "print(type(empty_tuple))"
   ]
  },
  {
   "cell_type": "code",
   "execution_count": 61,
   "metadata": {},
   "outputs": [
    {
     "name": "stdout",
     "output_type": "stream",
     "text": [
      "('Groucho',)\n",
      "<class 'tuple'>\n",
      "('Groucho', 'Chico', 'Harpo')\n",
      "<class 'tuple'>\n"
     ]
    }
   ],
   "source": [
    "# 콤마를 붙여서 list를 만들어 보자. \n",
    "one_marx = 'Groucho', \n",
    "print(one_marx)\n",
    "print(type(one_marx))\n",
    "\n",
    "# 두 개 이상의 요소가 있을 경우, 콤마를 붙이지 않는다. \n",
    "marx_tuple = 'Groucho', 'Chico', 'Harpo'\n",
    "print(marx_tuple)\n",
    "print(type(marx_tuple))"
   ]
  },
  {
   "cell_type": "markdown",
   "metadata": {},
   "source": [
    "### tuple unpacking : 튜플을 한 번에 여러 변수에 할당하기.\n",
    "참고로 list()도 가능하다. "
   ]
  },
  {
   "cell_type": "code",
   "execution_count": 64,
   "metadata": {},
   "outputs": [
    {
     "name": "stdout",
     "output_type": "stream",
     "text": [
      "Groucho Chico Harpo\n",
      "Groucho Chico Harpo\n"
     ]
    }
   ],
   "source": [
    "a, b, c = marx_tuple\n",
    "print(a, b, c)\n",
    "a, b, c = list(marx_tuple) # 리스트도 가능하다. \n",
    "print(a, b, c)"
   ]
  },
  {
   "cell_type": "markdown",
   "metadata": {},
   "source": [
    "### 리스트를 대신해서 튜플을 사용할 수 있다. 하지만, 튜플은 append, insert같은 함수가 없다. 그러면 왜 tuple을 사용할까?\n",
    "\n",
    "- tuple은 더 작은 공간을 사용한다. \n",
    "- 실수로 튜플의 항목이 손상될 염려가 없다 .\n",
    "- 튜플을 딕셔너리 키로 사용할 수 있다. \n",
    "- 네임드 튜플(named tuple)은 객체의 단순한 대안이 될 수 있다. \n",
    "- 함수의 인자들은 튜플로 전달된다. "
   ]
  },
  {
   "cell_type": "code",
   "execution_count": null,
   "metadata": {},
   "outputs": [],
   "source": []
  }
 ],
 "metadata": {
  "kernelspec": {
   "display_name": "Python 3",
   "language": "python",
   "name": "python3"
  },
  "language_info": {
   "codemirror_mode": {
    "name": "ipython",
    "version": 3
   },
   "file_extension": ".py",
   "mimetype": "text/x-python",
   "name": "python",
   "nbconvert_exporter": "python",
   "pygments_lexer": "ipython3",
   "version": "3.7.3"
  }
 },
 "nbformat": 4,
 "nbformat_minor": 2
}
